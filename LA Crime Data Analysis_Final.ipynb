{
 "cells": [
  {
   "cell_type": "markdown",
   "id": "578362d8",
   "metadata": {},
   "source": [
    "# Final Project - LA crime data analysis (2020-present)\n",
    "### By Team 3 - Rhyon Lu, Jin Chen, Judy Jiang, Joann Courtney, Kerin Wu, Blair Jiang"
   ]
  },
  {
   "cell_type": "markdown",
   "id": "475e5ec4",
   "metadata": {},
   "source": [
    "This analysis is based on the LA crime dataset form 2020 to 2023 October. The dataset contains informaion on time, place and type of the incident, crime detail description, victim information, weapon details and comments. Analyzing this dataset is essential for understanding trends and patterns in criminal activity in LA. Such datasets are valuable for law enforcement agencies, policymakers, researchers, and the public to make informed decisions about crime prevention and intervention strategies. \n",
    "\n",
    "Through an initial examination of crime types and weapons, our investigation delved into interesting findings within two distinct crime areas—LA Pacific and Motel. Additionally, we scrutinized the distribution patterns among victims to gain a comprehensive understanding and prediction of probability to be involved in severe crime. \n",
    "\n",
    "We provide summary of findings along with data analysis process where most evidence were found, and also conclude them in the final part with further explaination and suggestions.\n",
    "\n",
    "Data source - URL: https://www.kaggle.com/datasets/qnqfbqfqo/crime-data-from-2020-to-present "
   ]
  },
  {
   "cell_type": "code",
   "execution_count": 1,
   "id": "6b29fe50",
   "metadata": {},
   "outputs": [],
   "source": [
    "# print all the outputs in a cell\n",
    "from IPython.core.interactiveshell import InteractiveShell\n",
    "InteractiveShell.ast_node_interactivity = \"all\""
   ]
  },
  {
   "cell_type": "code",
   "execution_count": 2,
   "id": "179d3933",
   "metadata": {},
   "outputs": [],
   "source": [
    "import pandas as pd\n",
    "import numpy as np\n",
    "import seaborn as sns\n",
    "import timeit\n",
    "%matplotlib inline\n",
    "\n",
    "import sklearn as sk\n",
    "import sklearn.tree as tree\n",
    "from IPython.display import Image  \n",
    "#import pydotplus\n",
    "import matplotlib.pyplot as plt"
   ]
  },
  {
   "cell_type": "code",
   "execution_count": 3,
   "id": "33e26d8e",
   "metadata": {},
   "outputs": [],
   "source": [
    "import warnings\n",
    "#suppress all future warning\n",
    "warnings.filterwarnings('ignore')"
   ]
  },
  {
   "cell_type": "markdown",
   "id": "a293139b",
   "metadata": {},
   "source": [
    "# Dataset Description"
   ]
  },
  {
   "cell_type": "markdown",
   "id": "950d1525",
   "metadata": {},
   "source": [
    "## Main dataset: LA Crime data from 2020 to present"
   ]
  },
  {
   "cell_type": "markdown",
   "id": "0c2731ef",
   "metadata": {},
   "source": [
    "The data set contains 815,882 cases, with 28 columns of crime stats on time, place and type of the incident, crime detail description, victim information, weapon details and comments. Each row of the data refers to one single crime case."
   ]
  },
  {
   "cell_type": "markdown",
   "id": "7003f94c",
   "metadata": {},
   "source": [
    "<ul>\n",
    "<li><b>\"DR_NO\"</b> This is a unique identifier for each crime report.</li>\n",
    "<li><b>\"Date Rptd\"</b> The date when the crime was reported.</li>\n",
    "<li><b>\"DATE OCC\"</b> The date when the crime occurred.</li>\n",
    "<li><b>\"TIME OCC\"</b> The time when the crime occurred.</li>\n",
    "<li><b>\"AREA\"</b> The code or identifier for the area where the crime occurred.</li>\n",
    "<li><b>\"AREA NAME\"</b> The name of the area where the crime occurred.</li>\n",
    "<li><b>\"Rpt Dist\"</b> No. of the reporting district number.</li>\n",
    "<li><b>\"Part 1-2\"</b> A code indicating the type of crime (Part 1 or Part 2).</li>\n",
    "<li><b>\"Crm Cd\"</b> The crime code associated with the incident.</li>\n",
    "<li><b>\"Crm Cd Desc\"</b> A description of the crime.</li>\n",
    "<li><b>\"Mocodes\"</b> Modus Operandi (Method of Operation) codes, describing how the crime was committed.</li>\n",
    "<li><b>\"Vict Age\"</b> Age of the victim.</li>\n",
    "<li><b>\"Vict Sex\"</b> Gender of the victim (F for female, M for male).</li>\n",
    "<li><b>\"Vict Descent\"</b> Descent or ethnicity of the victim.</li>\n",
    "<li><b>\"Premis Cd\"</b> Premise code for the location of the crime.</li>\n",
    "<li><b>\"Premis Desc\"</b> A description of the premise where the crime occurred.</li>\n",
    "<li><b>\"Weapon Used\"</b> Cd Code for the weapon used, if any</li>\n",
    "<li><b>\"Weapon Desc\"</b> A description of the weapon used.</li>\n",
    "<li><b>\"Status\"</b> The status of the case (e.g., AO for Adult Other, IC for Invest Cont).</li>\n",
    "<li><b>\"Status Desc\"</b> A description of the case status.</li>\n",
    "<li><b>\"Crm Cd 1\"</b> 1/2/3/4 Additional crime codes associated with the incident.</li>\n",
    "<li><b>\"LOCATION\"</b> The specific location of the crime.</li>\n",
    "<li><b>\"Cross Street\"</b> The name of the cross street at the crime location</li>\n",
    "<li><b>\"LAT\"</b> Latitude coordinate of the crime location.</li>\n",
    "<li><b>\"LON\"</b> Longitude coordinate of the crime location.</li>    \n",
    "</ul>"
   ]
  },
  {
   "cell_type": "markdown",
   "id": "f69e06a9",
   "metadata": {},
   "source": [
    "## Supplement dataset: LA household income & population by zipcode"
   ]
  },
  {
   "cell_type": "markdown",
   "id": "9588d686",
   "metadata": {},
   "source": [
    "This data set contains hosehold income and population density for the 21 areas provided in previous crime dataset, and such information was further researched based on zipcode of those areas in the same time frame."
   ]
  },
  {
   "cell_type": "markdown",
   "id": "eb1e8389",
   "metadata": {},
   "source": [
    "<ul>\n",
    "<li><b>\"area_name\"</b> The name of the area where the crime occurred, aligned with previous dataset</li>\n",
    "<li><b>\"zipcode\"</b> The zipcode of the area</li>\n",
    "<li><b>\"household_income\"</b> The average household income of the area</li>\n",
    "<li><b>\"population_density\"</b> The population density of the area</li>\n",
    "<li><b>\"crimes_per_area\"</b> The crime case volume of the area</li>\n",
    "</ul>"
   ]
  },
  {
   "cell_type": "markdown",
   "id": "b3375c90",
   "metadata": {},
   "source": [
    "## Step 1: Import the dataset"
   ]
  },
  {
   "cell_type": "markdown",
   "id": "cd195285",
   "metadata": {},
   "source": [
    "### Import data crime.csv"
   ]
  },
  {
   "cell_type": "code",
   "execution_count": 4,
   "id": "bc45e619",
   "metadata": {},
   "outputs": [],
   "source": [
    "df = pd.read_csv('Crime.csv')"
   ]
  },
  {
   "cell_type": "code",
   "execution_count": 5,
   "id": "c27526f9",
   "metadata": {},
   "outputs": [],
   "source": [
    "# import extra dataset for household income\n",
    "popdf = pd.read_csv('household_income_pop_LA.csv')"
   ]
  },
  {
   "cell_type": "markdown",
   "id": "e45601fa",
   "metadata": {},
   "source": [
    "## Step 2: Data Clean-up"
   ]
  },
  {
   "cell_type": "markdown",
   "id": "fce0e689",
   "metadata": {},
   "source": [
    "To work efficiently as a team, we only applied a few data cleaning process in general, and more steps were done seperately based on copies of dataframe in each sections upon specific needs. Before everything starts, we:\n",
    "\n",
    "1. Changed all column names to lower case without spaces\n",
    "2. Converted all date columns to datetime"
   ]
  },
  {
   "cell_type": "code",
   "execution_count": 6,
   "id": "523c8087",
   "metadata": {},
   "outputs": [
    {
     "data": {
      "text/html": [
       "<div>\n",
       "<style scoped>\n",
       "    .dataframe tbody tr th:only-of-type {\n",
       "        vertical-align: middle;\n",
       "    }\n",
       "\n",
       "    .dataframe tbody tr th {\n",
       "        vertical-align: top;\n",
       "    }\n",
       "\n",
       "    .dataframe thead th {\n",
       "        text-align: right;\n",
       "    }\n",
       "</style>\n",
       "<table border=\"1\" class=\"dataframe\">\n",
       "  <thead>\n",
       "    <tr style=\"text-align: right;\">\n",
       "      <th></th>\n",
       "      <th>DR_NO</th>\n",
       "      <th>Date Rptd</th>\n",
       "      <th>DATE OCC</th>\n",
       "      <th>TIME OCC</th>\n",
       "      <th>AREA</th>\n",
       "      <th>AREA NAME</th>\n",
       "      <th>Rpt Dist No</th>\n",
       "      <th>Part 1-2</th>\n",
       "      <th>Crm Cd</th>\n",
       "      <th>Crm Cd Desc</th>\n",
       "      <th>...</th>\n",
       "      <th>Status</th>\n",
       "      <th>Status Desc</th>\n",
       "      <th>Crm Cd 1</th>\n",
       "      <th>Crm Cd 2</th>\n",
       "      <th>Crm Cd 3</th>\n",
       "      <th>Crm Cd 4</th>\n",
       "      <th>LOCATION</th>\n",
       "      <th>Cross Street</th>\n",
       "      <th>LAT</th>\n",
       "      <th>LON</th>\n",
       "    </tr>\n",
       "  </thead>\n",
       "  <tbody>\n",
       "    <tr>\n",
       "      <th>0</th>\n",
       "      <td>10304468</td>\n",
       "      <td>01/08/2020 12:00:00 AM</td>\n",
       "      <td>01/08/2020 12:00:00 AM</td>\n",
       "      <td>2230</td>\n",
       "      <td>3</td>\n",
       "      <td>Southwest</td>\n",
       "      <td>377</td>\n",
       "      <td>2</td>\n",
       "      <td>624</td>\n",
       "      <td>BATTERY - SIMPLE ASSAULT</td>\n",
       "      <td>...</td>\n",
       "      <td>AO</td>\n",
       "      <td>Adult Other</td>\n",
       "      <td>624.0</td>\n",
       "      <td>NaN</td>\n",
       "      <td>NaN</td>\n",
       "      <td>NaN</td>\n",
       "      <td>1100 W  39TH                         PL</td>\n",
       "      <td>NaN</td>\n",
       "      <td>34.0141</td>\n",
       "      <td>-118.2978</td>\n",
       "    </tr>\n",
       "    <tr>\n",
       "      <th>1</th>\n",
       "      <td>190101086</td>\n",
       "      <td>01/02/2020 12:00:00 AM</td>\n",
       "      <td>01/01/2020 12:00:00 AM</td>\n",
       "      <td>330</td>\n",
       "      <td>1</td>\n",
       "      <td>Central</td>\n",
       "      <td>163</td>\n",
       "      <td>2</td>\n",
       "      <td>624</td>\n",
       "      <td>BATTERY - SIMPLE ASSAULT</td>\n",
       "      <td>...</td>\n",
       "      <td>IC</td>\n",
       "      <td>Invest Cont</td>\n",
       "      <td>624.0</td>\n",
       "      <td>NaN</td>\n",
       "      <td>NaN</td>\n",
       "      <td>NaN</td>\n",
       "      <td>700 S  HILL                         ST</td>\n",
       "      <td>NaN</td>\n",
       "      <td>34.0459</td>\n",
       "      <td>-118.2545</td>\n",
       "    </tr>\n",
       "    <tr>\n",
       "      <th>2</th>\n",
       "      <td>200110444</td>\n",
       "      <td>04/14/2020 12:00:00 AM</td>\n",
       "      <td>02/13/2020 12:00:00 AM</td>\n",
       "      <td>1200</td>\n",
       "      <td>1</td>\n",
       "      <td>Central</td>\n",
       "      <td>155</td>\n",
       "      <td>2</td>\n",
       "      <td>845</td>\n",
       "      <td>SEX OFFENDER REGISTRANT OUT OF COMPLIANCE</td>\n",
       "      <td>...</td>\n",
       "      <td>AA</td>\n",
       "      <td>Adult Arrest</td>\n",
       "      <td>845.0</td>\n",
       "      <td>NaN</td>\n",
       "      <td>NaN</td>\n",
       "      <td>NaN</td>\n",
       "      <td>200 E  6TH                          ST</td>\n",
       "      <td>NaN</td>\n",
       "      <td>34.0448</td>\n",
       "      <td>-118.2474</td>\n",
       "    </tr>\n",
       "    <tr>\n",
       "      <th>3</th>\n",
       "      <td>191501505</td>\n",
       "      <td>01/01/2020 12:00:00 AM</td>\n",
       "      <td>01/01/2020 12:00:00 AM</td>\n",
       "      <td>1730</td>\n",
       "      <td>15</td>\n",
       "      <td>N Hollywood</td>\n",
       "      <td>1543</td>\n",
       "      <td>2</td>\n",
       "      <td>745</td>\n",
       "      <td>VANDALISM - MISDEAMEANOR ($399 OR UNDER)</td>\n",
       "      <td>...</td>\n",
       "      <td>IC</td>\n",
       "      <td>Invest Cont</td>\n",
       "      <td>745.0</td>\n",
       "      <td>998.0</td>\n",
       "      <td>NaN</td>\n",
       "      <td>NaN</td>\n",
       "      <td>5400    CORTEEN                      PL</td>\n",
       "      <td>NaN</td>\n",
       "      <td>34.1685</td>\n",
       "      <td>-118.4019</td>\n",
       "    </tr>\n",
       "    <tr>\n",
       "      <th>4</th>\n",
       "      <td>191921269</td>\n",
       "      <td>01/01/2020 12:00:00 AM</td>\n",
       "      <td>01/01/2020 12:00:00 AM</td>\n",
       "      <td>415</td>\n",
       "      <td>19</td>\n",
       "      <td>Mission</td>\n",
       "      <td>1998</td>\n",
       "      <td>2</td>\n",
       "      <td>740</td>\n",
       "      <td>VANDALISM - FELONY ($400 &amp; OVER, ALL CHURCH VA...</td>\n",
       "      <td>...</td>\n",
       "      <td>IC</td>\n",
       "      <td>Invest Cont</td>\n",
       "      <td>740.0</td>\n",
       "      <td>NaN</td>\n",
       "      <td>NaN</td>\n",
       "      <td>NaN</td>\n",
       "      <td>14400    TITUS                        ST</td>\n",
       "      <td>NaN</td>\n",
       "      <td>34.2198</td>\n",
       "      <td>-118.4468</td>\n",
       "    </tr>\n",
       "  </tbody>\n",
       "</table>\n",
       "<p>5 rows × 28 columns</p>\n",
       "</div>"
      ],
      "text/plain": [
       "       DR_NO               Date Rptd                DATE OCC  TIME OCC  AREA  \\\n",
       "0   10304468  01/08/2020 12:00:00 AM  01/08/2020 12:00:00 AM      2230     3   \n",
       "1  190101086  01/02/2020 12:00:00 AM  01/01/2020 12:00:00 AM       330     1   \n",
       "2  200110444  04/14/2020 12:00:00 AM  02/13/2020 12:00:00 AM      1200     1   \n",
       "3  191501505  01/01/2020 12:00:00 AM  01/01/2020 12:00:00 AM      1730    15   \n",
       "4  191921269  01/01/2020 12:00:00 AM  01/01/2020 12:00:00 AM       415    19   \n",
       "\n",
       "     AREA NAME  Rpt Dist No  Part 1-2  Crm Cd  \\\n",
       "0    Southwest          377         2     624   \n",
       "1      Central          163         2     624   \n",
       "2      Central          155         2     845   \n",
       "3  N Hollywood         1543         2     745   \n",
       "4      Mission         1998         2     740   \n",
       "\n",
       "                                         Crm Cd Desc  ... Status  \\\n",
       "0                           BATTERY - SIMPLE ASSAULT  ...     AO   \n",
       "1                           BATTERY - SIMPLE ASSAULT  ...     IC   \n",
       "2          SEX OFFENDER REGISTRANT OUT OF COMPLIANCE  ...     AA   \n",
       "3           VANDALISM - MISDEAMEANOR ($399 OR UNDER)  ...     IC   \n",
       "4  VANDALISM - FELONY ($400 & OVER, ALL CHURCH VA...  ...     IC   \n",
       "\n",
       "    Status Desc Crm Cd 1 Crm Cd 2  Crm Cd 3 Crm Cd 4  \\\n",
       "0   Adult Other    624.0      NaN       NaN      NaN   \n",
       "1   Invest Cont    624.0      NaN       NaN      NaN   \n",
       "2  Adult Arrest    845.0      NaN       NaN      NaN   \n",
       "3   Invest Cont    745.0    998.0       NaN      NaN   \n",
       "4   Invest Cont    740.0      NaN       NaN      NaN   \n",
       "\n",
       "                                   LOCATION Cross Street      LAT       LON  \n",
       "0   1100 W  39TH                         PL          NaN  34.0141 -118.2978  \n",
       "1    700 S  HILL                         ST          NaN  34.0459 -118.2545  \n",
       "2    200 E  6TH                          ST          NaN  34.0448 -118.2474  \n",
       "3   5400    CORTEEN                      PL          NaN  34.1685 -118.4019  \n",
       "4  14400    TITUS                        ST          NaN  34.2198 -118.4468  \n",
       "\n",
       "[5 rows x 28 columns]"
      ]
     },
     "execution_count": 6,
     "metadata": {},
     "output_type": "execute_result"
    }
   ],
   "source": [
    "#Overview of the dataset\n",
    "df.head()"
   ]
  },
  {
   "cell_type": "code",
   "execution_count": 7,
   "id": "564eeb9a",
   "metadata": {},
   "outputs": [],
   "source": [
    "#Change column names in dataset.\n",
    "df.columns=['dr_no','date_rptd','date_occ', 'time_occ', 'area', 'area_name', 'rpt_dist_no', 'part_1_2', 'crm_cd', 'crm_cd_desc', 'mocodes', 'vict_age', 'vict_sex',\n",
    "            'vict_descent', 'premis_cd', 'premis_desc', 'weapon_used_cd', 'weapon_desc', 'status', 'status_desc', 'crm_cd_1', 'crm_cd_2',\n",
    "            'crm_cd_3', 'crm_cd_4', 'location', 'cross_street', 'lat', 'lon']\n",
    "pd.options.display.max_columns = None"
   ]
  },
  {
   "cell_type": "code",
   "execution_count": 8,
   "id": "3170a4cc",
   "metadata": {},
   "outputs": [],
   "source": [
    "# Convert the date columns to datetime format\n",
    "df[\"date_rptd\"] = pd.to_datetime(df[\"date_rptd\"]).dt.date\n",
    "df[\"date_occ\"] = pd.to_datetime(df[\"date_occ\"]).dt.date"
   ]
  },
  {
   "cell_type": "markdown",
   "id": "0bd6834f",
   "metadata": {},
   "source": [
    "## Step 3: Data Analysis"
   ]
  },
  {
   "cell_type": "markdown",
   "id": "1fa6ea34",
   "metadata": {},
   "source": [
    "### We explore the dataset from three aspects:\n",
    "\n",
    "1. The Crime **Types**\n",
    "2. The Crime **Location and Time**\n",
    "3. Distribution on **Victms**"
   ]
  },
  {
   "cell_type": "markdown",
   "id": "abc74721",
   "metadata": {},
   "source": [
    "## P1. The Crime Types  "
   ]
  },
  {
   "cell_type": "markdown",
   "id": "fb676d07",
   "metadata": {},
   "source": [
    "<ol>\n",
    "<li>Overview</li>\n",
    "<li>Common crime types</li>\n",
    "<li>Famous crime scene</li>\n",
    "<li>Common weapons used</li>\n",
    "</ol>"
   ]
  },
  {
   "cell_type": "markdown",
   "id": "d1131d96",
   "metadata": {},
   "source": [
    "#### Data Cleaning"
   ]
  },
  {
   "cell_type": "code",
   "execution_count": 9,
   "id": "0c5e4e8e",
   "metadata": {},
   "outputs": [],
   "source": [
    "#df.head(3)"
   ]
  },
  {
   "cell_type": "code",
   "execution_count": 10,
   "id": "7dae52d4",
   "metadata": {},
   "outputs": [],
   "source": [
    "#Make a copy of the dataset for part 1 exploration\n",
    "#Drop the columns not needed\n",
    "df1=df.copy().drop(columns = ['area','area_name','rpt_dist_no','mocodes','vict_age','vict_sex','vict_descent',\n",
    "         'crm_cd_1','crm_cd_2','crm_cd_3','crm_cd_4','location','cross_street','lat','lon'])\n",
    "#inplace=True)\n",
    "#df1.head(3)"
   ]
  },
  {
   "cell_type": "code",
   "execution_count": 11,
   "id": "9316fd36",
   "metadata": {},
   "outputs": [],
   "source": [
    "# Check for empty values\n",
    "#df1.isnull().sum()"
   ]
  },
  {
   "cell_type": "code",
   "execution_count": 12,
   "id": "1c662462",
   "metadata": {},
   "outputs": [],
   "source": [
    "#Replace null in description columns with 'Unknown'\n",
    "df1.premis_desc.fillna(value='Unknown',inplace=True)\n",
    "df1.weapon_desc.fillna(value='Unknown',inplace=True)\n",
    "n = df1.isna().sum()"
   ]
  },
  {
   "cell_type": "markdown",
   "id": "829b10bc",
   "metadata": {},
   "source": [
    "### Overview"
   ]
  },
  {
   "cell_type": "code",
   "execution_count": 13,
   "id": "6534f58c",
   "metadata": {},
   "outputs": [
    {
     "name": "stdout",
     "output_type": "stream",
     "text": [
      "The first crime report date: 2020-01-01\n",
      "The first crime occurred date: 2020-01-01\n",
      "Most recent crime report date: 2023-10-09\n",
      "Most recent crime occurred date: 2023-10-09\n"
     ]
    }
   ],
   "source": [
    "#Check the most recent crime date\n",
    "print(\"The first crime report date: \" + str(df1.date_rptd.min()))\n",
    "print(\"The first crime occurred date: \" + str(df1.date_occ.min()))\n",
    "print(\"Most recent crime report date: \" + str(df1.date_rptd.max()))\n",
    "print(\"Most recent crime occurred date: \" + str(df1.date_occ.max()))"
   ]
  },
  {
   "cell_type": "markdown",
   "id": "6390dc9d",
   "metadata": {},
   "source": [
    "Hence, this is a crime dataset from 2020/1/1 till 2023/10/9"
   ]
  },
  {
   "cell_type": "code",
   "execution_count": 14,
   "id": "310773ef",
   "metadata": {},
   "outputs": [
    {
     "data": {
      "text/plain": [
       "Timedelta('10 days 11:43:24.985524867')"
      ]
     },
     "execution_count": 14,
     "metadata": {},
     "output_type": "execute_result"
    }
   ],
   "source": [
    "#How long it takes for case to be reported after occurred\n",
    "time_taken = df1['date_rptd']-df1['date_occ']\n",
    "time_taken.mean()"
   ]
  },
  {
   "cell_type": "markdown",
   "id": "9bf5de72",
   "metadata": {},
   "source": [
    "### What crime types happen the most?"
   ]
  },
  {
   "cell_type": "code",
   "execution_count": 15,
   "id": "03d4672e",
   "metadata": {},
   "outputs": [
    {
     "name": "stdout",
     "output_type": "stream",
     "text": [
      "Total types of crime: 138\n",
      "The mean of case number by crime types: 5912\n"
     ]
    }
   ],
   "source": [
    "#How many crime types in total\n",
    "crmtype_ttl = df1[\"crm_cd_desc\"].nunique()\n",
    "crm_counts = df1[\"crm_cd_desc\"].value_counts()\n",
    "#What's the mean of cases by crime types\n",
    "crmtype_avg = int(crm_counts.mean())\n",
    "print(\"Total types of crime: \" + str(crmtype_ttl) +\n",
    "      \"\\nThe mean of case number by crime types: \" + str(crmtype_avg))"
   ]
  },
  {
   "cell_type": "code",
   "execution_count": 16,
   "id": "5355c9fc",
   "metadata": {},
   "outputs": [
    {
     "data": {
      "text/plain": [
       "VEHICLE - STOLEN                                           87356\n",
       "BATTERY - SIMPLE ASSAULT                                   64943\n",
       "THEFT OF IDENTITY                                          51724\n",
       "BURGLARY FROM VEHICLE                                      49996\n",
       "VANDALISM - FELONY ($400 & OVER, ALL CHURCH VANDALISMS)    49753\n",
       "BURGLARY                                                   49658\n",
       "ASSAULT WITH DEADLY WEAPON, AGGRAVATED ASSAULT             46986\n",
       "THEFT PLAIN - PETTY ($950 & UNDER)                         41463\n",
       "INTIMATE PARTNER - SIMPLE ASSAULT                          41142\n",
       "THEFT FROM MOTOR VEHICLE - PETTY ($950 & UNDER)            31537\n",
       "Name: crm_cd_desc, dtype: int64"
      ]
     },
     "execution_count": 16,
     "metadata": {},
     "output_type": "execute_result"
    }
   ],
   "source": [
    "#What crime types happen the most (top 10)\n",
    "crm_counts.nlargest(10)"
   ]
  },
  {
   "cell_type": "code",
   "execution_count": 17,
   "id": "10b8d3c2",
   "metadata": {},
   "outputs": [
    {
     "name": "stdout",
     "output_type": "stream",
     "text": [
      "There are 22 types of crime with case number above mean.\n"
     ]
    }
   ],
   "source": [
    "#Count how many crime types are above the mean\n",
    "crm_counts_abavg = (crm_counts > crmtype_avg).sum()\n",
    "#Get a subset focusing on a partial crime types\n",
    "crm_types_abavg = crm_counts[crm_counts > crmtype_avg].index.tolist()\n",
    "df1_smaller = df1[df1['crm_cd_desc'].isin(crm_types_abavg)]\n",
    "print(\"There are \" + str(crm_counts_abavg) + \" types of crime with case number above mean.\")"
   ]
  },
  {
   "cell_type": "code",
   "execution_count": 18,
   "id": "d264d55a",
   "metadata": {},
   "outputs": [
    {
     "data": {
      "text/plain": [
       "<Axes: xlabel='count', ylabel='crm_cd_desc'>"
      ]
     },
     "execution_count": 18,
     "metadata": {},
     "output_type": "execute_result"
    },
    {
     "data": {
      "image/png": "[encoded data removed]",
      "text/plain": [
       "<Figure size 640x480 with 1 Axes>"
      ]
     },
     "metadata": {},
     "output_type": "display_data"
    }
   ],
   "source": [
    "#Plot histogram for crime types with cases over 5912\n",
    "sns.countplot(y='crm_cd_desc', data=df1_smaller)"
   ]
  },
  {
   "cell_type": "markdown",
   "id": "f23141b0",
   "metadata": {},
   "source": [
    "### What are the famous crime scenes?"
   ]
  },
  {
   "cell_type": "code",
   "execution_count": 19,
   "id": "cc88faea",
   "metadata": {},
   "outputs": [
    {
     "data": {
      "text/plain": [
       "STREET                                          206321\n",
       "SINGLE FAMILY DWELLING                          138351\n",
       "MULTI-UNIT DWELLING (APARTMENT, DUPLEX, ETC)    100291\n",
       "PARKING LOT                                      57248\n",
       "OTHER BUSINESS                                   38303\n",
       "SIDEWALK                                         35182\n",
       "VEHICLE, PASSENGER/TRUCK                         24215\n",
       "GARAGE/CARPORT                                   16109\n",
       "DRIVEWAY                                         13368\n",
       "RESTAURANT/FAST FOOD                             10398\n",
       "Name: premis_desc, dtype: int64"
      ]
     },
     "execution_count": 19,
     "metadata": {},
     "output_type": "execute_result"
    }
   ],
   "source": [
    "#Famous crime scenes - most happened (top 10)\n",
    "crmscene_counts=df1['premis_desc'].value_counts()\n",
    "crmscene_counts.nlargest(10)"
   ]
  },
  {
   "cell_type": "markdown",
   "id": "67c6f2b2",
   "metadata": {},
   "source": [
    "### What weapons were most common used?"
   ]
  },
  {
   "cell_type": "code",
   "execution_count": 20,
   "id": "649d062b",
   "metadata": {},
   "outputs": [
    {
     "data": {
      "text/plain": [
       "Unknown                                           531448\n",
       "STRONG-ARM (HANDS, FIST, FEET OR BODILY FORCE)    152422\n",
       "UNKNOWN WEAPON/OTHER WEAPON                        30128\n",
       "VERBAL THREAT                                      20859\n",
       "HAND GUN                                           17607\n",
       "SEMI-AUTOMATIC PISTOL                               6410\n",
       "KNIFE WITH BLADE 6INCHES OR LESS                    6014\n",
       "UNKNOWN FIREARM                                     5777\n",
       "OTHER KNIFE                                         5142\n",
       "MACE/PEPPER SPRAY                                   3231\n",
       "Name: weapon_desc, dtype: int64"
      ]
     },
     "execution_count": 20,
     "metadata": {},
     "output_type": "execute_result"
    }
   ],
   "source": [
    "#Most common weapon used\n",
    "weapon_counts=df1[\"weapon_desc\"].value_counts()\n",
    "weapon_counts.nlargest(10)"
   ]
  },
  {
   "cell_type": "markdown",
   "id": "f78bcf15",
   "metadata": {},
   "source": [
    "### Is there any interesting weapon?"
   ]
  },
  {
   "cell_type": "code",
   "execution_count": 21,
   "id": "295fcc4c",
   "metadata": {},
   "outputs": [
    {
     "data": {
      "text/plain": [
       "weapon_desc\n",
       "HAND GUN                            17607\n",
       "AIR PISTOL/REVOLVER/RIFLE/BB GUN     1657\n",
       "SIMULATED GUN                        1074\n",
       "STUN GUN                              356\n",
       "SHOTGUN                               278\n",
       "TOY GUN                               144\n",
       "SAWED OFF RIFLE/SHOTGUN                26\n",
       "AUTOMATIC WEAPON/SUB-MACHINE GUN       23\n",
       "Name: dr_no, dtype: int64"
      ]
     },
     "execution_count": 21,
     "metadata": {},
     "output_type": "execute_result"
    },
    {
     "name": "stdout",
     "output_type": "stream",
     "text": [
      "Toy Gun were used 144 times\n"
     ]
    }
   ],
   "source": [
    "#Gun related?\n",
    "df1[df1.weapon_desc.str.contains('GUN')].groupby(\"weapon_desc\").dr_no.count().sort_values(ascending = False)\n",
    "print(\"Toy Gun were used \"+ str(df1[df1.weapon_desc == 'TOY GUN'].weapon_desc.count()) +\" times\")"
   ]
  },
  {
   "cell_type": "markdown",
   "id": "6e75a719",
   "metadata": {},
   "source": [
    "What kind of crime was committed by toy guns/bottle/pepper spray?"
   ]
  },
  {
   "cell_type": "code",
   "execution_count": 22,
   "id": "c52efe3e",
   "metadata": {},
   "outputs": [
    {
     "data": {
      "text/plain": [
       "crm_cd_desc\n",
       "BRANDISH WEAPON                                   46\n",
       "ASSAULT WITH DEADLY WEAPON, AGGRAVATED ASSAULT    20\n",
       "ROBBERY                                           19\n",
       "Name: crm_cd_desc, dtype: int64"
      ]
     },
     "execution_count": 22,
     "metadata": {},
     "output_type": "execute_result"
    },
    {
     "data": {
      "text/plain": [
       "crm_cd_desc\n",
       "ASSAULT WITH DEADLY WEAPON, AGGRAVATED ASSAULT    1301\n",
       "INTIMATE PARTNER - AGGRAVATED ASSAULT              233\n",
       "ROBBERY                                            127\n",
       "Name: crm_cd_desc, dtype: int64"
      ]
     },
     "execution_count": 22,
     "metadata": {},
     "output_type": "execute_result"
    },
    {
     "data": {
      "text/plain": [
       "crm_cd_desc\n",
       "ASSAULT WITH DEADLY WEAPON, AGGRAVATED ASSAULT    2396\n",
       "ROBBERY                                            424\n",
       "INTIMATE PARTNER - AGGRAVATED ASSAULT              221\n",
       "Name: crm_cd_desc, dtype: int64"
      ]
     },
     "execution_count": 22,
     "metadata": {},
     "output_type": "execute_result"
    }
   ],
   "source": [
    "#Crimes using toy guns\n",
    "df1_smaller[df1_smaller.weapon_desc == 'TOY GUN'].groupby(\"crm_cd_desc\").crm_cd_desc.count().nlargest(3)\n",
    "#Crimes using bottle\n",
    "df1_smaller[df1_smaller.weapon_desc == 'BOTTLE'].groupby(\"crm_cd_desc\").crm_cd_desc.count().nlargest(3)\n",
    "#Crimes using pepper spray\n",
    "df1_smaller[df1_smaller.weapon_desc == 'MACE/PEPPER SPRAY'].groupby(\"crm_cd_desc\").crm_cd_desc.count().nlargest(3)"
   ]
  },
  {
   "cell_type": "markdown",
   "id": "33d00aa4",
   "metadata": {},
   "source": [
    "## P2.  The Crime Locations & Time"
   ]
  },
  {
   "cell_type": "markdown",
   "id": "6400ed5c",
   "metadata": {},
   "source": [
    "<ol>\n",
    "<li>Overview</li>\n",
    "<li>Household Income and Crime Type Correlations</li>\n",
    "<li>Crimes in Pacific</li>\n",
    "<li> Household Income and Crime Location Correlations</li>\n",
    "<li>Crimes in Motel</li>\n",
    "<li>Human Trafficking</li>\n",
    "</ol>"
   ]
  },
  {
   "cell_type": "markdown",
   "id": "83fdc484",
   "metadata": {},
   "source": [
    "#### Data Cleaning"
   ]
  },
  {
   "cell_type": "code",
   "execution_count": 23,
   "id": "c51fd1e1",
   "metadata": {},
   "outputs": [
    {
     "data": {
      "text/html": [
       "<div>\n",
       "<style scoped>\n",
       "    .dataframe tbody tr th:only-of-type {\n",
       "        vertical-align: middle;\n",
       "    }\n",
       "\n",
       "    .dataframe tbody tr th {\n",
       "        vertical-align: top;\n",
       "    }\n",
       "\n",
       "    .dataframe thead th {\n",
       "        text-align: right;\n",
       "    }\n",
       "</style>\n",
       "<table border=\"1\" class=\"dataframe\">\n",
       "  <thead>\n",
       "    <tr style=\"text-align: right;\">\n",
       "      <th></th>\n",
       "      <th>area_name</th>\n",
       "      <th>zipcode</th>\n",
       "      <th>household_income</th>\n",
       "      <th>population_density</th>\n",
       "      <th>crimes_per_area</th>\n",
       "    </tr>\n",
       "  </thead>\n",
       "  <tbody>\n",
       "    <tr>\n",
       "      <th>0</th>\n",
       "      <td>77th Street</td>\n",
       "      <td>90003</td>\n",
       "      <td>31900</td>\n",
       "      <td>19770</td>\n",
       "      <td>51553</td>\n",
       "    </tr>\n",
       "    <tr>\n",
       "      <th>1</th>\n",
       "      <td>Central</td>\n",
       "      <td>90014</td>\n",
       "      <td>23600</td>\n",
       "      <td>25390</td>\n",
       "      <td>54841</td>\n",
       "    </tr>\n",
       "    <tr>\n",
       "      <th>2</th>\n",
       "      <td>Devonshire</td>\n",
       "      <td>91324</td>\n",
       "      <td>63400</td>\n",
       "      <td>6760</td>\n",
       "      <td>33128</td>\n",
       "    </tr>\n",
       "    <tr>\n",
       "      <th>3</th>\n",
       "      <td>Foothill</td>\n",
       "      <td>91331</td>\n",
       "      <td>53700</td>\n",
       "      <td>11470</td>\n",
       "      <td>27225</td>\n",
       "    </tr>\n",
       "    <tr>\n",
       "      <th>4</th>\n",
       "      <td>Harbor</td>\n",
       "      <td>90731</td>\n",
       "      <td>48700</td>\n",
       "      <td>6630</td>\n",
       "      <td>33790</td>\n",
       "    </tr>\n",
       "    <tr>\n",
       "      <th>5</th>\n",
       "      <td>Hollenbeck</td>\n",
       "      <td>90033</td>\n",
       "      <td>29500</td>\n",
       "      <td>15050</td>\n",
       "      <td>30650</td>\n",
       "    </tr>\n",
       "    <tr>\n",
       "      <th>6</th>\n",
       "      <td>Hollywood</td>\n",
       "      <td>90028</td>\n",
       "      <td>35700</td>\n",
       "      <td>20420</td>\n",
       "      <td>43268</td>\n",
       "    </tr>\n",
       "    <tr>\n",
       "      <th>7</th>\n",
       "      <td>Mission</td>\n",
       "      <td>91345</td>\n",
       "      <td>65800</td>\n",
       "      <td>5790</td>\n",
       "      <td>32469</td>\n",
       "    </tr>\n",
       "    <tr>\n",
       "      <th>8</th>\n",
       "      <td>N Hollywood</td>\n",
       "      <td>91601</td>\n",
       "      <td>50300</td>\n",
       "      <td>14840</td>\n",
       "      <td>40520</td>\n",
       "    </tr>\n",
       "    <tr>\n",
       "      <th>9</th>\n",
       "      <td>Newton</td>\n",
       "      <td>90011</td>\n",
       "      <td>31700</td>\n",
       "      <td>24440</td>\n",
       "      <td>40859</td>\n",
       "    </tr>\n",
       "    <tr>\n",
       "      <th>10</th>\n",
       "      <td>Northeast</td>\n",
       "      <td>90065</td>\n",
       "      <td>54800</td>\n",
       "      <td>8900</td>\n",
       "      <td>35214</td>\n",
       "    </tr>\n",
       "    <tr>\n",
       "      <th>11</th>\n",
       "      <td>Olympic</td>\n",
       "      <td>90006</td>\n",
       "      <td>32000</td>\n",
       "      <td>31890</td>\n",
       "      <td>41148</td>\n",
       "    </tr>\n",
       "    <tr>\n",
       "      <th>12</th>\n",
       "      <td>Pacific</td>\n",
       "      <td>90066</td>\n",
       "      <td>72000</td>\n",
       "      <td>12040</td>\n",
       "      <td>47754</td>\n",
       "    </tr>\n",
       "    <tr>\n",
       "      <th>13</th>\n",
       "      <td>Rampart</td>\n",
       "      <td>90017</td>\n",
       "      <td>25100</td>\n",
       "      <td>35480</td>\n",
       "      <td>38159</td>\n",
       "    </tr>\n",
       "    <tr>\n",
       "      <th>14</th>\n",
       "      <td>Southeast</td>\n",
       "      <td>90061</td>\n",
       "      <td>36300</td>\n",
       "      <td>10220</td>\n",
       "      <td>41620</td>\n",
       "    </tr>\n",
       "    <tr>\n",
       "      <th>15</th>\n",
       "      <td>Southwest</td>\n",
       "      <td>90062</td>\n",
       "      <td>37300</td>\n",
       "      <td>17420</td>\n",
       "      <td>45689</td>\n",
       "    </tr>\n",
       "    <tr>\n",
       "      <th>16</th>\n",
       "      <td>Topanga</td>\n",
       "      <td>91304</td>\n",
       "      <td>62700</td>\n",
       "      <td>5620</td>\n",
       "      <td>33111</td>\n",
       "    </tr>\n",
       "    <tr>\n",
       "      <th>17</th>\n",
       "      <td>Van Nuys</td>\n",
       "      <td>91401</td>\n",
       "      <td>49200</td>\n",
       "      <td>11880</td>\n",
       "      <td>34631</td>\n",
       "    </tr>\n",
       "    <tr>\n",
       "      <th>18</th>\n",
       "      <td>West LA</td>\n",
       "      <td>90025</td>\n",
       "      <td>72700</td>\n",
       "      <td>18110</td>\n",
       "      <td>37426</td>\n",
       "    </tr>\n",
       "    <tr>\n",
       "      <th>19</th>\n",
       "      <td>West Valley</td>\n",
       "      <td>91335</td>\n",
       "      <td>51300</td>\n",
       "      <td>12210</td>\n",
       "      <td>34142</td>\n",
       "    </tr>\n",
       "    <tr>\n",
       "      <th>20</th>\n",
       "      <td>Wilshire</td>\n",
       "      <td>90019</td>\n",
       "      <td>47500</td>\n",
       "      <td>17630</td>\n",
       "      <td>38685</td>\n",
       "    </tr>\n",
       "  </tbody>\n",
       "</table>\n",
       "</div>"
      ],
      "text/plain": [
       "      area_name  zipcode  household_income  population_density  \\\n",
       "0   77th Street    90003             31900               19770   \n",
       "1       Central    90014             23600               25390   \n",
       "2    Devonshire    91324             63400                6760   \n",
       "3      Foothill    91331             53700               11470   \n",
       "4        Harbor    90731             48700                6630   \n",
       "5    Hollenbeck    90033             29500               15050   \n",
       "6     Hollywood    90028             35700               20420   \n",
       "7       Mission    91345             65800                5790   \n",
       "8   N Hollywood    91601             50300               14840   \n",
       "9        Newton    90011             31700               24440   \n",
       "10    Northeast    90065             54800                8900   \n",
       "11      Olympic    90006             32000               31890   \n",
       "12      Pacific    90066             72000               12040   \n",
       "13      Rampart    90017             25100               35480   \n",
       "14    Southeast    90061             36300               10220   \n",
       "15    Southwest    90062             37300               17420   \n",
       "16      Topanga    91304             62700                5620   \n",
       "17     Van Nuys    91401             49200               11880   \n",
       "18      West LA    90025             72700               18110   \n",
       "19  West Valley    91335             51300               12210   \n",
       "20     Wilshire    90019             47500               17630   \n",
       "\n",
       "    crimes_per_area  \n",
       "0             51553  \n",
       "1             54841  \n",
       "2             33128  \n",
       "3             27225  \n",
       "4             33790  \n",
       "5             30650  \n",
       "6             43268  \n",
       "7             32469  \n",
       "8             40520  \n",
       "9             40859  \n",
       "10            35214  \n",
       "11            41148  \n",
       "12            47754  \n",
       "13            38159  \n",
       "14            41620  \n",
       "15            45689  \n",
       "16            33111  \n",
       "17            34631  \n",
       "18            37426  \n",
       "19            34142  \n",
       "20            38685  "
      ]
     },
     "execution_count": 23,
     "metadata": {},
     "output_type": "execute_result"
    }
   ],
   "source": [
    "popdf"
   ]
  },
  {
   "cell_type": "code",
   "execution_count": 24,
   "id": "b74ce2d6",
   "metadata": {},
   "outputs": [],
   "source": [
    "## clean the data\n",
    "df2 = df.copy()\n",
    "#popdf.rename(columns={'area':'area_name'},inplace=True)\n",
    "df2['area_name'] = df2['area_name'].str.lower()\n",
    "popdf['area_name'] = popdf['area_name'].str.lower()\n",
    "popdf['area_name'] = popdf['area_name'].str.replace(' ','')\n",
    "df2['area_name']=df2['area_name'].str.replace(' ', '')"
   ]
  },
  {
   "cell_type": "code",
   "execution_count": 25,
   "id": "78f5e0b7",
   "metadata": {},
   "outputs": [],
   "source": [
    "pd.set_option('display.max_rows',15)"
   ]
  },
  {
   "cell_type": "markdown",
   "id": "64de9443",
   "metadata": {},
   "source": [
    "### Overview\n",
    "<ul>\n",
    "<li>People with higher household income prefer to live in which area? </li>\n",
    "<li>How about people with less household income</li>\n",
    "<li>What's the distribution of crime number and area</li>"
   ]
  },
  {
   "cell_type": "code",
   "execution_count": 26,
   "id": "bafcc254",
   "metadata": {},
   "outputs": [
    {
     "data": {
      "text/plain": [
       "crm_cd_desc\n",
       "VEHICLE - STOLEN                                           87356\n",
       "BATTERY - SIMPLE ASSAULT                                   64943\n",
       "THEFT OF IDENTITY                                          51724\n",
       "BURGLARY FROM VEHICLE                                      49996\n",
       "VANDALISM - FELONY ($400 & OVER, ALL CHURCH VANDALISMS)    49753\n",
       "                                                           ...  \n",
       "CRIMINAL THREATS - NO WEAPON DISPLAYED                     16919\n",
       "BRANDISH WEAPON                                            12697\n",
       "TRESPASSING                                                11415\n",
       "INTIMATE PARTNER - AGGRAVATED ASSAULT                      11118\n",
       "VIOLATION OF RESTRAINING ORDER                             10385\n",
       "Name: crm_cd_desc, Length: 20, dtype: int64"
      ]
     },
     "execution_count": 26,
     "metadata": {},
     "output_type": "execute_result"
    },
    {
     "data": {
      "text/plain": [
       "crm_cd_desc\n",
       "INCITING A RIOT                               1\n",
       "DISHONEST EMPLOYEE ATTEMPTED THEFT            2\n",
       "FAILURE TO DISPERSE                           3\n",
       "FIREARMS RESTRAINING ORDER (FIREARMS RO)      4\n",
       "BIGAMY                                        5\n",
       "                                           ... \n",
       "CREDIT CARDS, FRAUD USE ($950.01 & OVER)    102\n",
       "COUNTERFEIT                                 108\n",
       "EMBEZZLEMENT, PETTY THEFT ($950 & UNDER)    114\n",
       "BOAT - STOLEN                               115\n",
       "PANDERING                                   116\n",
       "Name: crm_cd_desc, Length: 50, dtype: int64"
      ]
     },
     "execution_count": 26,
     "metadata": {},
     "output_type": "execute_result"
    }
   ],
   "source": [
    "## Reasearch part: Find most frequently crime type in each area (when doing the research)\n",
    "## what is the number of each crime type happened in each area\n",
    "\n",
    "crm_cd_desc_count = df2.groupby('area_name')['crm_cd_desc'].value_counts().reset_index(name = 'count')\n",
    "# crm_cd_desc_count[crm_cd_desc_count['count'] >= 3000]\n",
    "df_merge1 = pd.merge(crm_cd_desc_count, popdf, on='area_name', how='left').set_index('area_name') \n",
    "\n",
    "\n",
    "## what are the most frequently happened crime type?\n",
    "df2.groupby('crm_cd_desc')['crm_cd_desc'].count().nlargest(20)\n",
    "df2.groupby('crm_cd_desc')['crm_cd_desc'].count().nsmallest(50)"
   ]
  },
  {
   "cell_type": "code",
   "execution_count": 27,
   "id": "4e13c58f",
   "metadata": {},
   "outputs": [
    {
     "data": {
      "text/plain": [
       "<Axes: ylabel='area_name'>"
      ]
     },
     "execution_count": 27,
     "metadata": {},
     "output_type": "execute_result"
    },
    {
     "data": {
      "image/png": "[encoded data removed]",
      "text/plain": [
       "<Figure size 640x480 with 1 Axes>"
      ]
     },
     "metadata": {},
     "output_type": "display_data"
    }
   ],
   "source": [
    "## what's the distribution of the household income in each area?\n",
    "popdf.groupby('area_name')['household_income'].mean().sort_values(ascending = False).plot(kind = 'barh')"
   ]
  },
  {
   "cell_type": "code",
   "execution_count": 28,
   "id": "4beb8207",
   "metadata": {},
   "outputs": [
    {
     "data": {
      "text/plain": [
       "<Axes: ylabel='area_name'>"
      ]
     },
     "execution_count": 28,
     "metadata": {},
     "output_type": "execute_result"
    },
    {
     "data": {
      "image/png": "[encoded data removed]",
      "text/plain": [
       "<Figure size 640x480 with 1 Axes>"
      ]
     },
     "metadata": {},
     "output_type": "display_data"
    }
   ],
   "source": [
    "## what's the distribution of the crime number in each area?\n",
    "popdf.groupby('area_name')['crimes_per_area'].mean().sort_values(ascending = False).plot(kind = 'barh')"
   ]
  },
  {
   "cell_type": "markdown",
   "id": "49ecbfb9",
   "metadata": {},
   "source": [
    "### Household income and crime type correlation"
   ]
  },
  {
   "cell_type": "code",
   "execution_count": 29,
   "id": "75055f30",
   "metadata": {},
   "outputs": [
    {
     "data": {
      "text/plain": [
       "INCEST (SEXUAL ACTS BETWEEN BLOOD RELATIVES)           0.794699\n",
       "DOCUMENT FORGERY / STOLEN FELONY                       0.751040\n",
       "DRUGS, TO A MINOR                                      0.665754\n",
       "DISHONEST EMPLOYEE - PETTY THEFT                       0.652296\n",
       "BUNCO, GRAND THEFT                                     0.640881\n",
       "THEFT FROM MOTOR VEHICLE - GRAND ($950.01 AND OVER)    0.633295\n",
       "BURGLARY                                               0.577660\n",
       "UNAUTHORIZED COMPUTER ACCESS                           0.553842\n",
       "dtype: float64"
      ]
     },
     "execution_count": 29,
     "metadata": {},
     "output_type": "execute_result"
    },
    {
     "data": {
      "text/plain": [
       "FIREARMS EMERGENCY PROTECTIVE ORDER (FIREARMS EPO)   -0.957084\n",
       "BIKE - ATTEMPTED STOLEN                              -0.832429\n",
       "ATTEMPTED ROBBERY                                    -0.785689\n",
       "BRANDISH WEAPON                                      -0.769665\n",
       "BATTERY - SIMPLE ASSAULT                             -0.741006\n",
       "ROBBERY                                              -0.733435\n",
       "ASSAULT WITH DEADLY WEAPON, AGGRAVATED ASSAULT       -0.730306\n",
       "ARSON                                                -0.664684\n",
       "dtype: float64"
      ]
     },
     "execution_count": 29,
     "metadata": {},
     "output_type": "execute_result"
    }
   ],
   "source": [
    "## calculate the correlation between each type of crime and household income.\n",
    "\n",
    "def calculate_correlations(df):\n",
    "    correlations = {}\n",
    "\n",
    "    for x in df['crm_cd_desc'].unique():\n",
    "        df_test = df[df['crm_cd_desc'] == x]\n",
    "        cor_test = df_test[['household_income', 'count']].corr()\n",
    "        correlations[x] = cor_test.loc['household_income', 'count']\n",
    "\n",
    "    return correlations\n",
    "\n",
    "#calculate_correlations(df_merge1)\n",
    "pd.set_option('display.max_rows',None)\n",
    "correlation_series = pd.Series(calculate_correlations(df_merge1))\n",
    "\n",
    "correlation_series[correlation_series <1].nlargest(8)\n",
    "correlation_series[correlation_series <1].nsmallest(8)"
   ]
  },
  {
   "cell_type": "code",
   "execution_count": 30,
   "id": "cc25e53f",
   "metadata": {},
   "outputs": [
    {
     "data": {
      "text/plain": [
       "5"
      ]
     },
     "execution_count": 30,
     "metadata": {},
     "output_type": "execute_result"
    },
    {
     "data": {
      "text/plain": [
       "2835"
      ]
     },
     "execution_count": 30,
     "metadata": {},
     "output_type": "execute_result"
    },
    {
     "data": {
      "text/plain": [
       "10"
      ]
     },
     "execution_count": 30,
     "metadata": {},
     "output_type": "execute_result"
    },
    {
     "data": {
      "text/plain": [
       "20"
      ]
     },
     "execution_count": 30,
     "metadata": {},
     "output_type": "execute_result"
    },
    {
     "data": {
      "text/plain": [
       "49658"
      ]
     },
     "execution_count": 30,
     "metadata": {},
     "output_type": "execute_result"
    }
   ],
   "source": [
    "len(df2[df2['crm_cd_desc'] == 'INCEST (SEXUAL ACTS BETWEEN BLOOD RELATIVES)'])\n",
    "len(df2[df2['crm_cd_desc'] == 'DOCUMENT FORGERY / STOLEN FELONY'])\n",
    "len(df2[df2['crm_cd_desc'] == 'DRUGS, TO A MINOR'])\n",
    "len(df2[df2['crm_cd_desc'] == 'DISHONEST EMPLOYEE - PETTY THEFT'])\n",
    "len(df2[df2['crm_cd_desc'] == 'BURGLARY'])"
   ]
  },
  {
   "cell_type": "markdown",
   "id": "8cab75ff",
   "metadata": {},
   "source": [
    "**Though most of crime tend to occure more frequently in poorer area, especially with weapons, some are positively related with household income.**\n",
    "<ol>\n",
    "<li>BURGLARY (57.76%)</li>\n",
    "<li>THEFT FROM MOTOR VEHICLE; THEFT FROM MOTOR VEHICLE-ATTEMPT(46.55%): richer family more likely to own a motor.</li>\n",
    "<li>BUNCO, GRAND THEFT(64.08%)</li>\n",
    "</ol>"
   ]
  },
  {
   "cell_type": "markdown",
   "id": "e1bce091",
   "metadata": {},
   "source": [
    "### Crimes in Pacific"
   ]
  },
  {
   "cell_type": "markdown",
   "id": "f44dcc5e",
   "metadata": {},
   "source": [
    "### Summary of the finding:\n",
    "\n",
    "Some of the crime types are positively correlated with household income. The correlation between burglary and household income is 57.7%. Take the Pacific as an example of an area with higher household income, burglaries mostly occurred between 12.00-13.00 (24%), and only 47% of burglaries were reported on the same day during the time when they got home from work."
   ]
  },
  {
   "cell_type": "code",
   "execution_count": 31,
   "id": "70f79dbe",
   "metadata": {},
   "outputs": [
    {
     "data": {
      "text/html": [
       "<div>\n",
       "<style scoped>\n",
       "    .dataframe tbody tr th:only-of-type {\n",
       "        vertical-align: middle;\n",
       "    }\n",
       "\n",
       "    .dataframe tbody tr th {\n",
       "        vertical-align: top;\n",
       "    }\n",
       "\n",
       "    .dataframe thead th {\n",
       "        text-align: right;\n",
       "    }\n",
       "</style>\n",
       "<table border=\"1\" class=\"dataframe\">\n",
       "  <thead>\n",
       "    <tr style=\"text-align: right;\">\n",
       "      <th></th>\n",
       "      <th>dr_no</th>\n",
       "      <th>date_rptd</th>\n",
       "      <th>date_occ</th>\n",
       "      <th>time_occ</th>\n",
       "      <th>area</th>\n",
       "      <th>area_name</th>\n",
       "      <th>rpt_dist_no</th>\n",
       "      <th>part_1_2</th>\n",
       "      <th>crm_cd</th>\n",
       "      <th>crm_cd_desc</th>\n",
       "      <th>mocodes</th>\n",
       "      <th>vict_age</th>\n",
       "      <th>vict_sex</th>\n",
       "      <th>vict_descent</th>\n",
       "      <th>premis_cd</th>\n",
       "      <th>premis_desc</th>\n",
       "      <th>weapon_used_cd</th>\n",
       "      <th>weapon_desc</th>\n",
       "      <th>status</th>\n",
       "      <th>status_desc</th>\n",
       "      <th>crm_cd_1</th>\n",
       "      <th>crm_cd_2</th>\n",
       "      <th>crm_cd_3</th>\n",
       "      <th>crm_cd_4</th>\n",
       "      <th>location</th>\n",
       "      <th>cross_street</th>\n",
       "      <th>lat</th>\n",
       "      <th>lon</th>\n",
       "      <th>zipcode</th>\n",
       "      <th>household_income</th>\n",
       "      <th>population_density</th>\n",
       "      <th>crimes_per_area</th>\n",
       "      <th>vict_age_bins</th>\n",
       "      <th>time_occ_bins</th>\n",
       "    </tr>\n",
       "  </thead>\n",
       "  <tbody>\n",
       "    <tr>\n",
       "      <th>0</th>\n",
       "      <td>10304468</td>\n",
       "      <td>2020-01-08</td>\n",
       "      <td>2020-01-08</td>\n",
       "      <td>2230</td>\n",
       "      <td>3</td>\n",
       "      <td>southwest</td>\n",
       "      <td>377</td>\n",
       "      <td>2</td>\n",
       "      <td>624</td>\n",
       "      <td>BATTERY - SIMPLE ASSAULT</td>\n",
       "      <td>0444 0913</td>\n",
       "      <td>36</td>\n",
       "      <td>F</td>\n",
       "      <td>B</td>\n",
       "      <td>501.0</td>\n",
       "      <td>SINGLE FAMILY DWELLING</td>\n",
       "      <td>400.0</td>\n",
       "      <td>STRONG-ARM (HANDS, FIST, FEET OR BODILY FORCE)</td>\n",
       "      <td>AO</td>\n",
       "      <td>Adult Other</td>\n",
       "      <td>624.0</td>\n",
       "      <td>NaN</td>\n",
       "      <td>NaN</td>\n",
       "      <td>NaN</td>\n",
       "      <td>1100 W  39TH                         PL</td>\n",
       "      <td>NaN</td>\n",
       "      <td>34.0141</td>\n",
       "      <td>-118.2978</td>\n",
       "      <td>90062</td>\n",
       "      <td>37300</td>\n",
       "      <td>17420</td>\n",
       "      <td>45689</td>\n",
       "      <td>(30.0, 40.0]</td>\n",
       "      <td>(2200, 2400]</td>\n",
       "    </tr>\n",
       "    <tr>\n",
       "      <th>1</th>\n",
       "      <td>190101086</td>\n",
       "      <td>2020-01-02</td>\n",
       "      <td>2020-01-01</td>\n",
       "      <td>330</td>\n",
       "      <td>1</td>\n",
       "      <td>central</td>\n",
       "      <td>163</td>\n",
       "      <td>2</td>\n",
       "      <td>624</td>\n",
       "      <td>BATTERY - SIMPLE ASSAULT</td>\n",
       "      <td>0416 1822 1414</td>\n",
       "      <td>25</td>\n",
       "      <td>M</td>\n",
       "      <td>H</td>\n",
       "      <td>102.0</td>\n",
       "      <td>SIDEWALK</td>\n",
       "      <td>500.0</td>\n",
       "      <td>UNKNOWN WEAPON/OTHER WEAPON</td>\n",
       "      <td>IC</td>\n",
       "      <td>Invest Cont</td>\n",
       "      <td>624.0</td>\n",
       "      <td>NaN</td>\n",
       "      <td>NaN</td>\n",
       "      <td>NaN</td>\n",
       "      <td>700 S  HILL                         ST</td>\n",
       "      <td>NaN</td>\n",
       "      <td>34.0459</td>\n",
       "      <td>-118.2545</td>\n",
       "      <td>90014</td>\n",
       "      <td>23600</td>\n",
       "      <td>25390</td>\n",
       "      <td>54841</td>\n",
       "      <td>(20.0, 30.0]</td>\n",
       "      <td>(200, 400]</td>\n",
       "    </tr>\n",
       "    <tr>\n",
       "      <th>2</th>\n",
       "      <td>200110444</td>\n",
       "      <td>2020-04-14</td>\n",
       "      <td>2020-02-13</td>\n",
       "      <td>1200</td>\n",
       "      <td>1</td>\n",
       "      <td>central</td>\n",
       "      <td>155</td>\n",
       "      <td>2</td>\n",
       "      <td>845</td>\n",
       "      <td>SEX OFFENDER REGISTRANT OUT OF COMPLIANCE</td>\n",
       "      <td>1501</td>\n",
       "      <td>0</td>\n",
       "      <td>X</td>\n",
       "      <td>X</td>\n",
       "      <td>726.0</td>\n",
       "      <td>POLICE FACILITY</td>\n",
       "      <td>NaN</td>\n",
       "      <td>NaN</td>\n",
       "      <td>AA</td>\n",
       "      <td>Adult Arrest</td>\n",
       "      <td>845.0</td>\n",
       "      <td>NaN</td>\n",
       "      <td>NaN</td>\n",
       "      <td>NaN</td>\n",
       "      <td>200 E  6TH                          ST</td>\n",
       "      <td>NaN</td>\n",
       "      <td>34.0448</td>\n",
       "      <td>-118.2474</td>\n",
       "      <td>90014</td>\n",
       "      <td>23600</td>\n",
       "      <td>25390</td>\n",
       "      <td>54841</td>\n",
       "      <td>NaN</td>\n",
       "      <td>(1000, 1200]</td>\n",
       "    </tr>\n",
       "    <tr>\n",
       "      <th>3</th>\n",
       "      <td>191501505</td>\n",
       "      <td>2020-01-01</td>\n",
       "      <td>2020-01-01</td>\n",
       "      <td>1730</td>\n",
       "      <td>15</td>\n",
       "      <td>nhollywood</td>\n",
       "      <td>1543</td>\n",
       "      <td>2</td>\n",
       "      <td>745</td>\n",
       "      <td>VANDALISM - MISDEAMEANOR ($399 OR UNDER)</td>\n",
       "      <td>0329 1402</td>\n",
       "      <td>76</td>\n",
       "      <td>F</td>\n",
       "      <td>W</td>\n",
       "      <td>502.0</td>\n",
       "      <td>MULTI-UNIT DWELLING (APARTMENT, DUPLEX, ETC)</td>\n",
       "      <td>NaN</td>\n",
       "      <td>NaN</td>\n",
       "      <td>IC</td>\n",
       "      <td>Invest Cont</td>\n",
       "      <td>745.0</td>\n",
       "      <td>998.0</td>\n",
       "      <td>NaN</td>\n",
       "      <td>NaN</td>\n",
       "      <td>5400    CORTEEN                      PL</td>\n",
       "      <td>NaN</td>\n",
       "      <td>34.1685</td>\n",
       "      <td>-118.4019</td>\n",
       "      <td>91601</td>\n",
       "      <td>50300</td>\n",
       "      <td>14840</td>\n",
       "      <td>40520</td>\n",
       "      <td>(70.0, 80.0]</td>\n",
       "      <td>(1600, 1800]</td>\n",
       "    </tr>\n",
       "    <tr>\n",
       "      <th>4</th>\n",
       "      <td>191921269</td>\n",
       "      <td>2020-01-01</td>\n",
       "      <td>2020-01-01</td>\n",
       "      <td>415</td>\n",
       "      <td>19</td>\n",
       "      <td>mission</td>\n",
       "      <td>1998</td>\n",
       "      <td>2</td>\n",
       "      <td>740</td>\n",
       "      <td>VANDALISM - FELONY ($400 &amp; OVER, ALL CHURCH VA...</td>\n",
       "      <td>0329</td>\n",
       "      <td>31</td>\n",
       "      <td>X</td>\n",
       "      <td>X</td>\n",
       "      <td>409.0</td>\n",
       "      <td>BEAUTY SUPPLY STORE</td>\n",
       "      <td>NaN</td>\n",
       "      <td>NaN</td>\n",
       "      <td>IC</td>\n",
       "      <td>Invest Cont</td>\n",
       "      <td>740.0</td>\n",
       "      <td>NaN</td>\n",
       "      <td>NaN</td>\n",
       "      <td>NaN</td>\n",
       "      <td>14400    TITUS                        ST</td>\n",
       "      <td>NaN</td>\n",
       "      <td>34.2198</td>\n",
       "      <td>-118.4468</td>\n",
       "      <td>91345</td>\n",
       "      <td>65800</td>\n",
       "      <td>5790</td>\n",
       "      <td>32469</td>\n",
       "      <td>(30.0, 40.0]</td>\n",
       "      <td>(400, 600]</td>\n",
       "    </tr>\n",
       "  </tbody>\n",
       "</table>\n",
       "</div>"
      ],
      "text/plain": [
       "       dr_no   date_rptd    date_occ  time_occ  area   area_name  rpt_dist_no  \\\n",
       "0   10304468  2020-01-08  2020-01-08      2230     3   southwest          377   \n",
       "1  190101086  2020-01-02  2020-01-01       330     1     central          163   \n",
       "2  200110444  2020-04-14  2020-02-13      1200     1     central          155   \n",
       "3  191501505  2020-01-01  2020-01-01      1730    15  nhollywood         1543   \n",
       "4  191921269  2020-01-01  2020-01-01       415    19     mission         1998   \n",
       "\n",
       "   part_1_2  crm_cd                                        crm_cd_desc  \\\n",
       "0         2     624                           BATTERY - SIMPLE ASSAULT   \n",
       "1         2     624                           BATTERY - SIMPLE ASSAULT   \n",
       "2         2     845          SEX OFFENDER REGISTRANT OUT OF COMPLIANCE   \n",
       "3         2     745           VANDALISM - MISDEAMEANOR ($399 OR UNDER)   \n",
       "4         2     740  VANDALISM - FELONY ($400 & OVER, ALL CHURCH VA...   \n",
       "\n",
       "          mocodes  vict_age vict_sex vict_descent  premis_cd  \\\n",
       "0       0444 0913        36        F            B      501.0   \n",
       "1  0416 1822 1414        25        M            H      102.0   \n",
       "2            1501         0        X            X      726.0   \n",
       "3       0329 1402        76        F            W      502.0   \n",
       "4            0329        31        X            X      409.0   \n",
       "\n",
       "                                    premis_desc  weapon_used_cd  \\\n",
       "0                        SINGLE FAMILY DWELLING           400.0   \n",
       "1                                      SIDEWALK           500.0   \n",
       "2                               POLICE FACILITY             NaN   \n",
       "3  MULTI-UNIT DWELLING (APARTMENT, DUPLEX, ETC)             NaN   \n",
       "4                           BEAUTY SUPPLY STORE             NaN   \n",
       "\n",
       "                                      weapon_desc status   status_desc  \\\n",
       "0  STRONG-ARM (HANDS, FIST, FEET OR BODILY FORCE)     AO   Adult Other   \n",
       "1                     UNKNOWN WEAPON/OTHER WEAPON     IC   Invest Cont   \n",
       "2                                             NaN     AA  Adult Arrest   \n",
       "3                                             NaN     IC   Invest Cont   \n",
       "4                                             NaN     IC   Invest Cont   \n",
       "\n",
       "   crm_cd_1  crm_cd_2  crm_cd_3  crm_cd_4  \\\n",
       "0     624.0       NaN       NaN       NaN   \n",
       "1     624.0       NaN       NaN       NaN   \n",
       "2     845.0       NaN       NaN       NaN   \n",
       "3     745.0     998.0       NaN       NaN   \n",
       "4     740.0       NaN       NaN       NaN   \n",
       "\n",
       "                                   location cross_street      lat       lon  \\\n",
       "0   1100 W  39TH                         PL          NaN  34.0141 -118.2978   \n",
       "1    700 S  HILL                         ST          NaN  34.0459 -118.2545   \n",
       "2    200 E  6TH                          ST          NaN  34.0448 -118.2474   \n",
       "3   5400    CORTEEN                      PL          NaN  34.1685 -118.4019   \n",
       "4  14400    TITUS                        ST          NaN  34.2198 -118.4468   \n",
       "\n",
       "   zipcode  household_income  population_density  crimes_per_area  \\\n",
       "0    90062             37300               17420            45689   \n",
       "1    90014             23600               25390            54841   \n",
       "2    90014             23600               25390            54841   \n",
       "3    91601             50300               14840            40520   \n",
       "4    91345             65800                5790            32469   \n",
       "\n",
       "  vict_age_bins time_occ_bins  \n",
       "0  (30.0, 40.0]  (2200, 2400]  \n",
       "1  (20.0, 30.0]    (200, 400]  \n",
       "2           NaN  (1000, 1200]  \n",
       "3  (70.0, 80.0]  (1600, 1800]  \n",
       "4  (30.0, 40.0]    (400, 600]  "
      ]
     },
     "execution_count": 31,
     "metadata": {},
     "output_type": "execute_result"
    }
   ],
   "source": [
    "df2a = df2.merge(popdf, how='left', left_on='area_name', right_on='area_name')\n",
    "agebins = [0, 10, 20, 30, 40, 50, 60, 70, 80, 90, 100, 110]\n",
    "timebins = [0, 200, 400, 600, 800, 1000, 1200, 1400, 1600, 1800, 2000, 2200, 2400]\n",
    "df2a['vict_age_bins'] = pd.cut(df2.vict_age, bins=agebins)\n",
    "df2a['time_occ_bins'] = pd.cut(df2.time_occ, bins=timebins)\n",
    "df2a.head()"
   ]
  },
  {
   "cell_type": "code",
   "execution_count": 32,
   "id": "cce784e4",
   "metadata": {},
   "outputs": [
    {
     "data": {
      "text/html": [
       "<div>\n",
       "<style scoped>\n",
       "    .dataframe tbody tr th:only-of-type {\n",
       "        vertical-align: middle;\n",
       "    }\n",
       "\n",
       "    .dataframe tbody tr th {\n",
       "        vertical-align: top;\n",
       "    }\n",
       "\n",
       "    .dataframe thead th {\n",
       "        text-align: right;\n",
       "    }\n",
       "</style>\n",
       "<table border=\"1\" class=\"dataframe\">\n",
       "  <thead>\n",
       "    <tr style=\"text-align: right;\">\n",
       "      <th></th>\n",
       "      <th>dr_no</th>\n",
       "      <th>date_rptd</th>\n",
       "      <th>date_occ</th>\n",
       "      <th>time_occ</th>\n",
       "      <th>area</th>\n",
       "      <th>area_name</th>\n",
       "      <th>rpt_dist_no</th>\n",
       "      <th>part_1_2</th>\n",
       "      <th>crm_cd</th>\n",
       "      <th>crm_cd_desc</th>\n",
       "      <th>mocodes</th>\n",
       "      <th>vict_age</th>\n",
       "      <th>vict_sex</th>\n",
       "      <th>vict_descent</th>\n",
       "      <th>premis_cd</th>\n",
       "      <th>premis_desc</th>\n",
       "      <th>weapon_used_cd</th>\n",
       "      <th>weapon_desc</th>\n",
       "      <th>status</th>\n",
       "      <th>status_desc</th>\n",
       "      <th>crm_cd_1</th>\n",
       "      <th>crm_cd_2</th>\n",
       "      <th>crm_cd_3</th>\n",
       "      <th>crm_cd_4</th>\n",
       "      <th>location</th>\n",
       "      <th>cross_street</th>\n",
       "      <th>lat</th>\n",
       "      <th>lon</th>\n",
       "      <th>zipcode</th>\n",
       "      <th>household_income</th>\n",
       "      <th>population_density</th>\n",
       "      <th>crimes_per_area</th>\n",
       "      <th>vict_age_bins</th>\n",
       "      <th>time_occ_bins</th>\n",
       "    </tr>\n",
       "  </thead>\n",
       "  <tbody>\n",
       "    <tr>\n",
       "      <th>13924</th>\n",
       "      <td>201420102</td>\n",
       "      <td>2020-11-11</td>\n",
       "      <td>2020-11-09</td>\n",
       "      <td>1100</td>\n",
       "      <td>14</td>\n",
       "      <td>pacific</td>\n",
       "      <td>1464</td>\n",
       "      <td>1</td>\n",
       "      <td>310</td>\n",
       "      <td>BURGLARY</td>\n",
       "      <td>1501</td>\n",
       "      <td>43</td>\n",
       "      <td>M</td>\n",
       "      <td>W</td>\n",
       "      <td>501.0</td>\n",
       "      <td>SINGLE FAMILY DWELLING</td>\n",
       "      <td>NaN</td>\n",
       "      <td>NaN</td>\n",
       "      <td>AA</td>\n",
       "      <td>Adult Arrest</td>\n",
       "      <td>310.0</td>\n",
       "      <td>NaN</td>\n",
       "      <td>NaN</td>\n",
       "      <td>NaN</td>\n",
       "      <td>5800 W  SEAGLASS CIR</td>\n",
       "      <td>NaN</td>\n",
       "      <td>33.9740</td>\n",
       "      <td>-118.4199</td>\n",
       "      <td>90066</td>\n",
       "      <td>72000</td>\n",
       "      <td>12040</td>\n",
       "      <td>47754</td>\n",
       "      <td>(40.0, 50.0]</td>\n",
       "      <td>(1000, 1200]</td>\n",
       "    </tr>\n",
       "    <tr>\n",
       "      <th>106823</th>\n",
       "      <td>211418799</td>\n",
       "      <td>2021-09-22</td>\n",
       "      <td>2020-04-23</td>\n",
       "      <td>2030</td>\n",
       "      <td>14</td>\n",
       "      <td>pacific</td>\n",
       "      <td>1454</td>\n",
       "      <td>1</td>\n",
       "      <td>310</td>\n",
       "      <td>BURGLARY</td>\n",
       "      <td>0344</td>\n",
       "      <td>39</td>\n",
       "      <td>F</td>\n",
       "      <td>B</td>\n",
       "      <td>502.0</td>\n",
       "      <td>MULTI-UNIT DWELLING (APARTMENT, DUPLEX, ETC)</td>\n",
       "      <td>NaN</td>\n",
       "      <td>NaN</td>\n",
       "      <td>IC</td>\n",
       "      <td>Invest Cont</td>\n",
       "      <td>310.0</td>\n",
       "      <td>998.0</td>\n",
       "      <td>NaN</td>\n",
       "      <td>NaN</td>\n",
       "      <td>13400    MAXELLA                      AV</td>\n",
       "      <td>NaN</td>\n",
       "      <td>33.9870</td>\n",
       "      <td>-118.4407</td>\n",
       "      <td>90066</td>\n",
       "      <td>72000</td>\n",
       "      <td>12040</td>\n",
       "      <td>47754</td>\n",
       "      <td>(30.0, 40.0]</td>\n",
       "      <td>(2000, 2200]</td>\n",
       "    </tr>\n",
       "    <tr>\n",
       "      <th>107152</th>\n",
       "      <td>201409999</td>\n",
       "      <td>2020-04-23</td>\n",
       "      <td>2020-04-22</td>\n",
       "      <td>1830</td>\n",
       "      <td>14</td>\n",
       "      <td>pacific</td>\n",
       "      <td>1414</td>\n",
       "      <td>1</td>\n",
       "      <td>310</td>\n",
       "      <td>BURGLARY</td>\n",
       "      <td>1609 0344</td>\n",
       "      <td>56</td>\n",
       "      <td>F</td>\n",
       "      <td>W</td>\n",
       "      <td>502.0</td>\n",
       "      <td>MULTI-UNIT DWELLING (APARTMENT, DUPLEX, ETC)</td>\n",
       "      <td>500.0</td>\n",
       "      <td>UNKNOWN WEAPON/OTHER WEAPON</td>\n",
       "      <td>IC</td>\n",
       "      <td>Invest Cont</td>\n",
       "      <td>310.0</td>\n",
       "      <td>NaN</td>\n",
       "      <td>NaN</td>\n",
       "      <td>NaN</td>\n",
       "      <td>200    RUTH                         AV</td>\n",
       "      <td>NaN</td>\n",
       "      <td>34.0011</td>\n",
       "      <td>-118.4728</td>\n",
       "      <td>90066</td>\n",
       "      <td>72000</td>\n",
       "      <td>12040</td>\n",
       "      <td>47754</td>\n",
       "      <td>(50.0, 60.0]</td>\n",
       "      <td>(1800, 2000]</td>\n",
       "    </tr>\n",
       "    <tr>\n",
       "      <th>107499</th>\n",
       "      <td>201405494</td>\n",
       "      <td>2020-01-26</td>\n",
       "      <td>2020-01-25</td>\n",
       "      <td>1400</td>\n",
       "      <td>14</td>\n",
       "      <td>pacific</td>\n",
       "      <td>1466</td>\n",
       "      <td>1</td>\n",
       "      <td>310</td>\n",
       "      <td>BURGLARY</td>\n",
       "      <td>0344</td>\n",
       "      <td>40</td>\n",
       "      <td>M</td>\n",
       "      <td>O</td>\n",
       "      <td>501.0</td>\n",
       "      <td>SINGLE FAMILY DWELLING</td>\n",
       "      <td>NaN</td>\n",
       "      <td>NaN</td>\n",
       "      <td>IC</td>\n",
       "      <td>Invest Cont</td>\n",
       "      <td>310.0</td>\n",
       "      <td>NaN</td>\n",
       "      <td>NaN</td>\n",
       "      <td>NaN</td>\n",
       "      <td>7200    MCCOOL                       AV</td>\n",
       "      <td>NaN</td>\n",
       "      <td>33.9784</td>\n",
       "      <td>-118.4004</td>\n",
       "      <td>90066</td>\n",
       "      <td>72000</td>\n",
       "      <td>12040</td>\n",
       "      <td>47754</td>\n",
       "      <td>(30.0, 40.0]</td>\n",
       "      <td>(1200, 1400]</td>\n",
       "    </tr>\n",
       "    <tr>\n",
       "      <th>108283</th>\n",
       "      <td>201414184</td>\n",
       "      <td>2020-07-22</td>\n",
       "      <td>2020-07-17</td>\n",
       "      <td>630</td>\n",
       "      <td>14</td>\n",
       "      <td>pacific</td>\n",
       "      <td>1464</td>\n",
       "      <td>1</td>\n",
       "      <td>310</td>\n",
       "      <td>BURGLARY</td>\n",
       "      <td>0344 0397</td>\n",
       "      <td>68</td>\n",
       "      <td>M</td>\n",
       "      <td>W</td>\n",
       "      <td>502.0</td>\n",
       "      <td>MULTI-UNIT DWELLING (APARTMENT, DUPLEX, ETC)</td>\n",
       "      <td>NaN</td>\n",
       "      <td>NaN</td>\n",
       "      <td>IC</td>\n",
       "      <td>Invest Cont</td>\n",
       "      <td>310.0</td>\n",
       "      <td>NaN</td>\n",
       "      <td>NaN</td>\n",
       "      <td>NaN</td>\n",
       "      <td>5900    PLAYA VISTA                  DR</td>\n",
       "      <td>NaN</td>\n",
       "      <td>33.9720</td>\n",
       "      <td>-118.4271</td>\n",
       "      <td>90066</td>\n",
       "      <td>72000</td>\n",
       "      <td>12040</td>\n",
       "      <td>47754</td>\n",
       "      <td>(60.0, 70.0]</td>\n",
       "      <td>(600, 800]</td>\n",
       "    </tr>\n",
       "    <tr>\n",
       "      <th>108658</th>\n",
       "      <td>201416659</td>\n",
       "      <td>2020-09-04</td>\n",
       "      <td>2020-08-30</td>\n",
       "      <td>522</td>\n",
       "      <td>14</td>\n",
       "      <td>pacific</td>\n",
       "      <td>1413</td>\n",
       "      <td>1</td>\n",
       "      <td>310</td>\n",
       "      <td>BURGLARY</td>\n",
       "      <td>1606 0344</td>\n",
       "      <td>42</td>\n",
       "      <td>M</td>\n",
       "      <td>W</td>\n",
       "      <td>501.0</td>\n",
       "      <td>SINGLE FAMILY DWELLING</td>\n",
       "      <td>NaN</td>\n",
       "      <td>NaN</td>\n",
       "      <td>IC</td>\n",
       "      <td>Invest Cont</td>\n",
       "      <td>310.0</td>\n",
       "      <td>NaN</td>\n",
       "      <td>NaN</td>\n",
       "      <td>NaN</td>\n",
       "      <td>200    5TH                          AV</td>\n",
       "      <td>NaN</td>\n",
       "      <td>33.9983</td>\n",
       "      <td>-118.4746</td>\n",
       "      <td>90066</td>\n",
       "      <td>72000</td>\n",
       "      <td>12040</td>\n",
       "      <td>47754</td>\n",
       "      <td>(40.0, 50.0]</td>\n",
       "      <td>(400, 600]</td>\n",
       "    </tr>\n",
       "    <tr>\n",
       "      <th>108807</th>\n",
       "      <td>201412571</td>\n",
       "      <td>2020-06-19</td>\n",
       "      <td>2020-06-16</td>\n",
       "      <td>1930</td>\n",
       "      <td>14</td>\n",
       "      <td>pacific</td>\n",
       "      <td>1441</td>\n",
       "      <td>1</td>\n",
       "      <td>310</td>\n",
       "      <td>BURGLARY</td>\n",
       "      <td>1307 0344 1601</td>\n",
       "      <td>30</td>\n",
       "      <td>M</td>\n",
       "      <td>W</td>\n",
       "      <td>501.0</td>\n",
       "      <td>SINGLE FAMILY DWELLING</td>\n",
       "      <td>NaN</td>\n",
       "      <td>NaN</td>\n",
       "      <td>IC</td>\n",
       "      <td>Invest Cont</td>\n",
       "      <td>310.0</td>\n",
       "      <td>NaN</td>\n",
       "      <td>NaN</td>\n",
       "      <td>NaN</td>\n",
       "      <td>2400    WILSON                       AV</td>\n",
       "      <td>NaN</td>\n",
       "      <td>33.9865</td>\n",
       "      <td>-118.4579</td>\n",
       "      <td>90066</td>\n",
       "      <td>72000</td>\n",
       "      <td>12040</td>\n",
       "      <td>47754</td>\n",
       "      <td>(20.0, 30.0]</td>\n",
       "      <td>(1800, 2000]</td>\n",
       "    </tr>\n",
       "    <tr>\n",
       "      <th>109304</th>\n",
       "      <td>201420969</td>\n",
       "      <td>2020-11-30</td>\n",
       "      <td>2020-11-28</td>\n",
       "      <td>1530</td>\n",
       "      <td>14</td>\n",
       "      <td>pacific</td>\n",
       "      <td>1455</td>\n",
       "      <td>1</td>\n",
       "      <td>310</td>\n",
       "      <td>BURGLARY</td>\n",
       "      <td>0344</td>\n",
       "      <td>39</td>\n",
       "      <td>M</td>\n",
       "      <td>W</td>\n",
       "      <td>501.0</td>\n",
       "      <td>SINGLE FAMILY DWELLING</td>\n",
       "      <td>NaN</td>\n",
       "      <td>NaN</td>\n",
       "      <td>IC</td>\n",
       "      <td>Invest Cont</td>\n",
       "      <td>310.0</td>\n",
       "      <td>NaN</td>\n",
       "      <td>NaN</td>\n",
       "      <td>NaN</td>\n",
       "      <td>12700    ADMIRAL                      AV</td>\n",
       "      <td>NaN</td>\n",
       "      <td>33.9876</td>\n",
       "      <td>-118.4261</td>\n",
       "      <td>90066</td>\n",
       "      <td>72000</td>\n",
       "      <td>12040</td>\n",
       "      <td>47754</td>\n",
       "      <td>(30.0, 40.0]</td>\n",
       "      <td>(1400, 1600]</td>\n",
       "    </tr>\n",
       "    <tr>\n",
       "      <th>109415</th>\n",
       "      <td>201412182</td>\n",
       "      <td>2020-06-11</td>\n",
       "      <td>2020-06-07</td>\n",
       "      <td>200</td>\n",
       "      <td>14</td>\n",
       "      <td>pacific</td>\n",
       "      <td>1453</td>\n",
       "      <td>1</td>\n",
       "      <td>310</td>\n",
       "      <td>BURGLARY</td>\n",
       "      <td>0344</td>\n",
       "      <td>0</td>\n",
       "      <td>X</td>\n",
       "      <td>X</td>\n",
       "      <td>502.0</td>\n",
       "      <td>MULTI-UNIT DWELLING (APARTMENT, DUPLEX, ETC)</td>\n",
       "      <td>500.0</td>\n",
       "      <td>UNKNOWN WEAPON/OTHER WEAPON</td>\n",
       "      <td>IC</td>\n",
       "      <td>Invest Cont</td>\n",
       "      <td>310.0</td>\n",
       "      <td>NaN</td>\n",
       "      <td>NaN</td>\n",
       "      <td>NaN</td>\n",
       "      <td>4200    DEL REY                      AV</td>\n",
       "      <td>NaN</td>\n",
       "      <td>33.9870</td>\n",
       "      <td>-118.4437</td>\n",
       "      <td>90066</td>\n",
       "      <td>72000</td>\n",
       "      <td>12040</td>\n",
       "      <td>47754</td>\n",
       "      <td>NaN</td>\n",
       "      <td>(0, 200]</td>\n",
       "    </tr>\n",
       "    <tr>\n",
       "      <th>109449</th>\n",
       "      <td>201413576</td>\n",
       "      <td>2020-07-10</td>\n",
       "      <td>2020-07-09</td>\n",
       "      <td>2300</td>\n",
       "      <td>14</td>\n",
       "      <td>pacific</td>\n",
       "      <td>1441</td>\n",
       "      <td>1</td>\n",
       "      <td>310</td>\n",
       "      <td>BURGLARY</td>\n",
       "      <td>0344 1606 0314</td>\n",
       "      <td>20</td>\n",
       "      <td>M</td>\n",
       "      <td>B</td>\n",
       "      <td>501.0</td>\n",
       "      <td>SINGLE FAMILY DWELLING</td>\n",
       "      <td>NaN</td>\n",
       "      <td>NaN</td>\n",
       "      <td>AA</td>\n",
       "      <td>Adult Arrest</td>\n",
       "      <td>310.0</td>\n",
       "      <td>NaN</td>\n",
       "      <td>NaN</td>\n",
       "      <td>NaN</td>\n",
       "      <td>2400    PACIFIC                      AV</td>\n",
       "      <td>NaN</td>\n",
       "      <td>33.9834</td>\n",
       "      <td>-118.4688</td>\n",
       "      <td>90066</td>\n",
       "      <td>72000</td>\n",
       "      <td>12040</td>\n",
       "      <td>47754</td>\n",
       "      <td>(10.0, 20.0]</td>\n",
       "      <td>(2200, 2400]</td>\n",
       "    </tr>\n",
       "  </tbody>\n",
       "</table>\n",
       "</div>"
      ],
      "text/plain": [
       "            dr_no   date_rptd    date_occ  time_occ  area area_name  \\\n",
       "13924   201420102  2020-11-11  2020-11-09      1100    14   pacific   \n",
       "106823  211418799  2021-09-22  2020-04-23      2030    14   pacific   \n",
       "107152  201409999  2020-04-23  2020-04-22      1830    14   pacific   \n",
       "107499  201405494  2020-01-26  2020-01-25      1400    14   pacific   \n",
       "108283  201414184  2020-07-22  2020-07-17       630    14   pacific   \n",
       "108658  201416659  2020-09-04  2020-08-30       522    14   pacific   \n",
       "108807  201412571  2020-06-19  2020-06-16      1930    14   pacific   \n",
       "109304  201420969  2020-11-30  2020-11-28      1530    14   pacific   \n",
       "109415  201412182  2020-06-11  2020-06-07       200    14   pacific   \n",
       "109449  201413576  2020-07-10  2020-07-09      2300    14   pacific   \n",
       "\n",
       "        rpt_dist_no  part_1_2  crm_cd crm_cd_desc         mocodes  vict_age  \\\n",
       "13924          1464         1     310    BURGLARY            1501        43   \n",
       "106823         1454         1     310    BURGLARY            0344        39   \n",
       "107152         1414         1     310    BURGLARY       1609 0344        56   \n",
       "107499         1466         1     310    BURGLARY            0344        40   \n",
       "108283         1464         1     310    BURGLARY       0344 0397        68   \n",
       "108658         1413         1     310    BURGLARY       1606 0344        42   \n",
       "108807         1441         1     310    BURGLARY  1307 0344 1601        30   \n",
       "109304         1455         1     310    BURGLARY            0344        39   \n",
       "109415         1453         1     310    BURGLARY            0344         0   \n",
       "109449         1441         1     310    BURGLARY  0344 1606 0314        20   \n",
       "\n",
       "       vict_sex vict_descent  premis_cd  \\\n",
       "13924         M            W      501.0   \n",
       "106823        F            B      502.0   \n",
       "107152        F            W      502.0   \n",
       "107499        M            O      501.0   \n",
       "108283        M            W      502.0   \n",
       "108658        M            W      501.0   \n",
       "108807        M            W      501.0   \n",
       "109304        M            W      501.0   \n",
       "109415        X            X      502.0   \n",
       "109449        M            B      501.0   \n",
       "\n",
       "                                         premis_desc  weapon_used_cd  \\\n",
       "13924                         SINGLE FAMILY DWELLING             NaN   \n",
       "106823  MULTI-UNIT DWELLING (APARTMENT, DUPLEX, ETC)             NaN   \n",
       "107152  MULTI-UNIT DWELLING (APARTMENT, DUPLEX, ETC)           500.0   \n",
       "107499                        SINGLE FAMILY DWELLING             NaN   \n",
       "108283  MULTI-UNIT DWELLING (APARTMENT, DUPLEX, ETC)             NaN   \n",
       "108658                        SINGLE FAMILY DWELLING             NaN   \n",
       "108807                        SINGLE FAMILY DWELLING             NaN   \n",
       "109304                        SINGLE FAMILY DWELLING             NaN   \n",
       "109415  MULTI-UNIT DWELLING (APARTMENT, DUPLEX, ETC)           500.0   \n",
       "109449                        SINGLE FAMILY DWELLING             NaN   \n",
       "\n",
       "                        weapon_desc status   status_desc  crm_cd_1  crm_cd_2  \\\n",
       "13924                           NaN     AA  Adult Arrest     310.0       NaN   \n",
       "106823                          NaN     IC   Invest Cont     310.0     998.0   \n",
       "107152  UNKNOWN WEAPON/OTHER WEAPON     IC   Invest Cont     310.0       NaN   \n",
       "107499                          NaN     IC   Invest Cont     310.0       NaN   \n",
       "108283                          NaN     IC   Invest Cont     310.0       NaN   \n",
       "108658                          NaN     IC   Invest Cont     310.0       NaN   \n",
       "108807                          NaN     IC   Invest Cont     310.0       NaN   \n",
       "109304                          NaN     IC   Invest Cont     310.0       NaN   \n",
       "109415  UNKNOWN WEAPON/OTHER WEAPON     IC   Invest Cont     310.0       NaN   \n",
       "109449                          NaN     AA  Adult Arrest     310.0       NaN   \n",
       "\n",
       "        crm_cd_3  crm_cd_4                                  location  \\\n",
       "13924        NaN       NaN                      5800 W  SEAGLASS CIR   \n",
       "106823       NaN       NaN  13400    MAXELLA                      AV   \n",
       "107152       NaN       NaN    200    RUTH                         AV   \n",
       "107499       NaN       NaN   7200    MCCOOL                       AV   \n",
       "108283       NaN       NaN   5900    PLAYA VISTA                  DR   \n",
       "108658       NaN       NaN    200    5TH                          AV   \n",
       "108807       NaN       NaN   2400    WILSON                       AV   \n",
       "109304       NaN       NaN  12700    ADMIRAL                      AV   \n",
       "109415       NaN       NaN   4200    DEL REY                      AV   \n",
       "109449       NaN       NaN   2400    PACIFIC                      AV   \n",
       "\n",
       "       cross_street      lat       lon  zipcode  household_income  \\\n",
       "13924           NaN  33.9740 -118.4199    90066             72000   \n",
       "106823          NaN  33.9870 -118.4407    90066             72000   \n",
       "107152          NaN  34.0011 -118.4728    90066             72000   \n",
       "107499          NaN  33.9784 -118.4004    90066             72000   \n",
       "108283          NaN  33.9720 -118.4271    90066             72000   \n",
       "108658          NaN  33.9983 -118.4746    90066             72000   \n",
       "108807          NaN  33.9865 -118.4579    90066             72000   \n",
       "109304          NaN  33.9876 -118.4261    90066             72000   \n",
       "109415          NaN  33.9870 -118.4437    90066             72000   \n",
       "109449          NaN  33.9834 -118.4688    90066             72000   \n",
       "\n",
       "        population_density  crimes_per_area vict_age_bins time_occ_bins  \n",
       "13924                12040            47754  (40.0, 50.0]  (1000, 1200]  \n",
       "106823               12040            47754  (30.0, 40.0]  (2000, 2200]  \n",
       "107152               12040            47754  (50.0, 60.0]  (1800, 2000]  \n",
       "107499               12040            47754  (30.0, 40.0]  (1200, 1400]  \n",
       "108283               12040            47754  (60.0, 70.0]    (600, 800]  \n",
       "108658               12040            47754  (40.0, 50.0]    (400, 600]  \n",
       "108807               12040            47754  (20.0, 30.0]  (1800, 2000]  \n",
       "109304               12040            47754  (30.0, 40.0]  (1400, 1600]  \n",
       "109415               12040            47754           NaN      (0, 200]  \n",
       "109449               12040            47754  (10.0, 20.0]  (2200, 2400]  "
      ]
     },
     "execution_count": 32,
     "metadata": {},
     "output_type": "execute_result"
    }
   ],
   "source": [
    "#What do the home burglaries which aren't reported on the same day look like?\n",
    "\n",
    "df2a[(df2a.area_name=='pacific')&(df2a.crm_cd_desc=='BURGLARY')&(df2a.date_rptd!=df2a.date_occ)&\n",
    "   ((df2a.premis_desc=='SINGLE FAMILY DWELLING')|(df2a.premis_desc=='MULTI-UNIT DWELLING (APARTMENT, DUPLEX, ETC)'))].head(10)\n",
    "\n",
    "#Some people don't report burglaries that happened at their homes for days, even months, from the occurrence date.\n",
    "#We can assume that a fair amount of these people (53%) must not have immediately noticed that their homes have been burglarized."
   ]
  },
  {
   "cell_type": "code",
   "execution_count": 33,
   "id": "71f926ce",
   "metadata": {},
   "outputs": [
    {
     "data": {
      "text/plain": [
       "area_name\n",
       "central       54841.0\n",
       "77thstreet    51553.0\n",
       "pacific       47754.0\n",
       "southwest     45689.0\n",
       "hollywood     43268.0\n",
       "southeast     41620.0\n",
       "olympic       41148.0\n",
       "newton        40859.0\n",
       "nhollywood    40520.0\n",
       "wilshire      38685.0\n",
       "rampart       38159.0\n",
       "westla        37426.0\n",
       "Name: crimes_per_area, dtype: float64"
      ]
     },
     "execution_count": 33,
     "metadata": {},
     "output_type": "execute_result"
    }
   ],
   "source": [
    "#Find the top twelve areas with high crime per area.\n",
    "\n",
    "df2a.groupby('area_name')['crimes_per_area'].mean().sort_values(ascending=False).head(12)"
   ]
  },
  {
   "cell_type": "code",
   "execution_count": 34,
   "id": "c4cac58f",
   "metadata": {},
   "outputs": [
    {
     "data": {
      "text/plain": [
       "area_name\n",
       "rampart       35480.0\n",
       "olympic       31890.0\n",
       "central       25390.0\n",
       "newton        24440.0\n",
       "hollywood     20420.0\n",
       "77thstreet    19770.0\n",
       "westla        18110.0\n",
       "wilshire      17630.0\n",
       "southwest     17420.0\n",
       "hollenbeck    15050.0\n",
       "nhollywood    14840.0\n",
       "westvalley    12210.0\n",
       "Name: population_density, dtype: float64"
      ]
     },
     "execution_count": 34,
     "metadata": {},
     "output_type": "execute_result"
    }
   ],
   "source": [
    "#Does the list above coincide with the top twelve in population density?\n",
    "#Find the top twelve areas with the highest population density.\n",
    "\n",
    "df2a.groupby('area_name')['population_density'].mean().sort_values(ascending=False).head(12)\n",
    "\n",
    "#Ten of the top twelve areas with high crime are also in the top twelve of population density.\n",
    "#Pacific and Southeast are the only two with higher crime and lower population density. "
   ]
  },
  {
   "cell_type": "code",
   "execution_count": 35,
   "id": "c9878204",
   "metadata": {},
   "outputs": [
    {
     "data": {
      "text/plain": [
       "area_name  crm_cd_desc                       \n",
       "pacific    VEHICLE - STOLEN                      5010\n",
       "           BURGLARY                              3794\n",
       "           THEFT PLAIN - PETTY ($950 & UNDER)    3712\n",
       "           BURGLARY FROM VEHICLE                 3126\n",
       "           BATTERY - SIMPLE ASSAULT              2856\n",
       "Name: crm_cd_desc, dtype: int64"
      ]
     },
     "execution_count": 35,
     "metadata": {},
     "output_type": "execute_result"
    },
    {
     "data": {
      "text/plain": [
       "area_name  crm_cd_desc                                   \n",
       "southeast  VEHICLE - STOLEN                                  5593\n",
       "           ASSAULT WITH DEADLY WEAPON, AGGRAVATED ASSAULT    4228\n",
       "           THEFT OF IDENTITY                                 3347\n",
       "           BATTERY - SIMPLE ASSAULT                          3331\n",
       "           INTIMATE PARTNER - SIMPLE ASSAULT                 2935\n",
       "Name: crm_cd_desc, dtype: int64"
      ]
     },
     "execution_count": 35,
     "metadata": {},
     "output_type": "execute_result"
    },
    {
     "data": {
      "text/plain": [
       "area_name  crm_cd_desc                                            \n",
       "central    BURGLARY FROM VEHICLE                                      7610\n",
       "           BATTERY - SIMPLE ASSAULT                                   6001\n",
       "           VANDALISM - FELONY ($400 & OVER, ALL CHURCH VANDALISMS)    3841\n",
       "           ASSAULT WITH DEADLY WEAPON, AGGRAVATED ASSAULT             3608\n",
       "           VEHICLE - STOLEN                                           3548\n",
       "Name: crm_cd_desc, dtype: int64"
      ]
     },
     "execution_count": 35,
     "metadata": {},
     "output_type": "execute_result"
    },
    {
     "data": {
      "text/plain": [
       "area_name   crm_cd_desc                                   \n",
       "77thstreet  VEHICLE - STOLEN                                  6700\n",
       "            ASSAULT WITH DEADLY WEAPON, AGGRAVATED ASSAULT    5145\n",
       "            BATTERY - SIMPLE ASSAULT                          3984\n",
       "            THEFT OF IDENTITY                                 3774\n",
       "            INTIMATE PARTNER - SIMPLE ASSAULT                 3551\n",
       "Name: crm_cd_desc, dtype: int64"
      ]
     },
     "execution_count": 35,
     "metadata": {},
     "output_type": "execute_result"
    }
   ],
   "source": [
    "#Find most common types of crime in Pacific and Southeast as opposed to Central and 77th Street.\n",
    "#Central and 77th Street were chosen as they are the two areas with the highest amounts of crime.\n",
    "\n",
    "df2[df2.area_name=='pacific'].groupby('area_name')['crm_cd_desc'].value_counts().head()\n",
    "df2[df2.area_name=='southeast'].groupby('area_name')['crm_cd_desc'].value_counts().head()\n",
    "df2[df2.area_name=='central'].groupby('area_name')['crm_cd_desc'].value_counts().head()\n",
    "df2[df2.area_name=='77thstreet'].groupby('area_name')['crm_cd_desc'].value_counts().head()\n",
    "\n",
    "#(1)\n",
    "#Pacific is an anomaly, exhibiting high crime rates with high household income and lower population density.\n",
    "#Interestingly, Pacific is also the only area above to exhibit BURGLARY as a top crime type.\n",
    "#Why does Pacific exhibit high crime, when their population density is low and household income is high?\n",
    "\n",
    "#(2)\n",
    "#Central has the highest amount of crimes committed, and the third highest population density. \n",
    "#77th Street has the second highest amount of crimes committed, and the sixth highest population density.\n",
    "#The most common crime in Central is BURGLARY FROM VEHICLE, and BATTERY - SIMPLE ASSAULT.\n",
    "#How much higher are the numbers for top crimes in the most crime-ridden areas?\n",
    "\n",
    "\n",
    "#We can reason that there are more burglaries in Pacific because there is more to gain by robbing higher income houses.\n",
    "#Let's find out if Pacific, with its low population density and high household income, has more home burglaries.\n"
   ]
  },
  {
   "cell_type": "markdown",
   "id": "db544bbe",
   "metadata": {},
   "source": [
    "1. Pacific is an anomaly, exhibiting high crime rates with high household income and lower population density.\n",
    "<li>Interestingly, Pacific is also the only area above to exhibit BURGLARY as a top crime type.</li>\n",
    "<li>Why does Pacific exhibit high crime, when their population density is low and household income is high?\n",
    "</li>\n",
    "\n",
    "\n",
    "\n",
    "2. Central has the highest amount of crimes committed, and the third highest population density. \n",
    "<li>77th Street has the second highest amount of crimes committed, and the sixth highest population density.</li>\n",
    "<li>The most common crime in Central is BURGLARY FROM VEHICLE, and BATTERY - SIMPLE ASSAULT.\n",
    "</li>\n",
    "<li>How much higher are the numbers for top crimes in the most crime-ridden areas?</li>\n",
    "\n",
    "\n",
    "**We can reason that there are more burglaries in Pacific because there is more to gain by robbing higher income houses.\n",
    "\n",
    "#### Let's find out if Pacific, with its low population density and high household income, has more home burglaries.\n"
   ]
  },
  {
   "cell_type": "code",
   "execution_count": 36,
   "id": "80e2b94d",
   "metadata": {},
   "outputs": [
    {
     "data": {
      "text/plain": [
       "area_name  premis_desc                                 \n",
       "pacific    SINGLE FAMILY DWELLING                          1256\n",
       "           MULTI-UNIT DWELLING (APARTMENT, DUPLEX, ETC)     568\n",
       "           GARAGE/CARPORT                                   510\n",
       "           OTHER BUSINESS                                   333\n",
       "           PUBLIC STORAGE                                   183\n",
       "           OTHER PREMISE                                    149\n",
       "           RESTAURANT/FAST FOOD                             127\n",
       "           HOTEL                                             76\n",
       "           STORAGE SHED                                      74\n",
       "           PARKING LOT                                       40\n",
       "Name: premis_desc, dtype: int64"
      ]
     },
     "execution_count": 36,
     "metadata": {},
     "output_type": "execute_result"
    }
   ],
   "source": [
    "#Confirm the highest amount of the burglaries in Pacific are happening at homes.\n",
    "\n",
    "df2a[(df2a.area_name=='pacific')&(df2a.crm_cd_desc=='BURGLARY')].groupby('area_name')['premis_desc'].value_counts().head(10)\n",
    "\n",
    "#By far, the highest amount of burglaries are happening at homes and apartments in the Pacific.\n",
    "#Single family homes are also most likely to be owned by higher income individuals."
   ]
  },
  {
   "cell_type": "code",
   "execution_count": 37,
   "id": "899b8810",
   "metadata": {},
   "outputs": [
    {
     "data": {
      "text/plain": [
       "area_name   household_income  population_density\n",
       "westla      72700             18110                 2164\n",
       "pacific     72000             12040                 1824\n",
       "westvalley  51300             12210                 1668\n",
       "olympic     32000             31890                 1516\n",
       "devonshire  63400             6760                  1466\n",
       "wilshire    47500             17630                 1448\n",
       "nhollywood  50300             14840                 1320\n",
       "topanga     62700             5620                  1281\n",
       "hollywood   35700             20420                 1177\n",
       "77thstreet  31900             19770                 1101\n",
       "dtype: int64"
      ]
     },
     "execution_count": 37,
     "metadata": {},
     "output_type": "execute_result"
    }
   ],
   "source": [
    "#Confirm that Pacific is one of the areas most at risk for home burglaries overall.\n",
    "\n",
    "df2a[(df2a.crm_cd_desc=='BURGLARY')&((df2a.premis_desc=='SINGLE FAMILY DWELLING')|(df2a.premis_desc=='MULTI-UNIT DWELLING (APARTMENT, DUPLEX, ETC)'))].groupby('area_name')[('household_income', 'population_density')].value_counts().sort_values(ascending=False).head(10)\n",
    "\n",
    "#Pacific is indeed the second highest on the chart of areas at risk for home burglaries.\n",
    "#The only area with more home burglaries is West LA, which is also the only area with a higher household income than Pacific."
   ]
  },
  {
   "cell_type": "markdown",
   "id": "6a1e3577",
   "metadata": {},
   "source": [
    "#### Do the home burglaries in Pacific occur at a certain time of day?\n",
    "\n",
    "1. Pacific is the area with the second highest household income in Los Angeles city.\n",
    "2. We can assume people living there tend to have professional jobs.\n",
    "3. The burglaries are reported when people arrive home for lunch (12:00-13:00), come home from work (17:00-18:00), or leave for work (8:00).\n"
   ]
  },
  {
   "cell_type": "code",
   "execution_count": 38,
   "id": "678b2a7c",
   "metadata": {},
   "outputs": [
    {
     "data": {
      "text/plain": [
       "area_name  time_occ\n",
       "pacific    1200        66\n",
       "           1800        59\n",
       "           800         52\n",
       "           1700        50\n",
       "           1300        45\n",
       "Name: time_occ, dtype: int64"
      ]
     },
     "execution_count": 38,
     "metadata": {},
     "output_type": "execute_result"
    }
   ],
   "source": [
    "#Do the home burglaries in Pacific occur at a certain time of day?\n",
    "\n",
    "df2a[(df2a.area_name=='pacific')&(df2a.crm_cd_desc=='BURGLARY')&((df2a.premis_desc=='SINGLE FAMILY DWELLING')|(df2a.premis_desc=='MULTI-UNIT DWELLING (APARTMENT, DUPLEX, ETC)'))].groupby('area_name')['time_occ'].value_counts().head()\n",
    "\n",
    "#Pacific is the area with the second highest household income in Los Angeles city.\n",
    "#We can assume people living there tend to have professional jobs.\n",
    "#The burglaries are reported when people arrive home for lunch (12:00-13:00), come home from work (17:00-18:00), or leave for work (8:00)."
   ]
  },
  {
   "cell_type": "markdown",
   "id": "8dec2431",
   "metadata": {},
   "source": [
    "#### What do the home burglaries which aren't reported on the same day look like? \n",
    "\n",
    "1. Some people don't report burglaries that happened at their homes for days, even months, from the occurrence date.\n",
    "2. We can assume that a fair amount of these people (53%) must not have immediately noticed that their homes have been burglarized."
   ]
  },
  {
   "cell_type": "code",
   "execution_count": 39,
   "id": "f172e64a",
   "metadata": {},
   "outputs": [
    {
     "data": {
      "text/html": [
       "<div>\n",
       "<style scoped>\n",
       "    .dataframe tbody tr th:only-of-type {\n",
       "        vertical-align: middle;\n",
       "    }\n",
       "\n",
       "    .dataframe tbody tr th {\n",
       "        vertical-align: top;\n",
       "    }\n",
       "\n",
       "    .dataframe thead th {\n",
       "        text-align: right;\n",
       "    }\n",
       "</style>\n",
       "<table border=\"1\" class=\"dataframe\">\n",
       "  <thead>\n",
       "    <tr style=\"text-align: right;\">\n",
       "      <th></th>\n",
       "      <th>dr_no</th>\n",
       "      <th>date_rptd</th>\n",
       "      <th>date_occ</th>\n",
       "      <th>time_occ</th>\n",
       "      <th>area</th>\n",
       "      <th>area_name</th>\n",
       "      <th>rpt_dist_no</th>\n",
       "      <th>part_1_2</th>\n",
       "      <th>crm_cd</th>\n",
       "      <th>crm_cd_desc</th>\n",
       "      <th>mocodes</th>\n",
       "      <th>vict_age</th>\n",
       "      <th>vict_sex</th>\n",
       "      <th>vict_descent</th>\n",
       "      <th>premis_cd</th>\n",
       "      <th>premis_desc</th>\n",
       "      <th>weapon_used_cd</th>\n",
       "      <th>weapon_desc</th>\n",
       "      <th>status</th>\n",
       "      <th>status_desc</th>\n",
       "      <th>crm_cd_1</th>\n",
       "      <th>crm_cd_2</th>\n",
       "      <th>crm_cd_3</th>\n",
       "      <th>crm_cd_4</th>\n",
       "      <th>location</th>\n",
       "      <th>cross_street</th>\n",
       "      <th>lat</th>\n",
       "      <th>lon</th>\n",
       "      <th>zipcode</th>\n",
       "      <th>household_income</th>\n",
       "      <th>population_density</th>\n",
       "      <th>crimes_per_area</th>\n",
       "      <th>vict_age_bins</th>\n",
       "      <th>time_occ_bins</th>\n",
       "    </tr>\n",
       "  </thead>\n",
       "  <tbody>\n",
       "    <tr>\n",
       "      <th>13924</th>\n",
       "      <td>201420102</td>\n",
       "      <td>2020-11-11</td>\n",
       "      <td>2020-11-09</td>\n",
       "      <td>1100</td>\n",
       "      <td>14</td>\n",
       "      <td>pacific</td>\n",
       "      <td>1464</td>\n",
       "      <td>1</td>\n",
       "      <td>310</td>\n",
       "      <td>BURGLARY</td>\n",
       "      <td>1501</td>\n",
       "      <td>43</td>\n",
       "      <td>M</td>\n",
       "      <td>W</td>\n",
       "      <td>501.0</td>\n",
       "      <td>SINGLE FAMILY DWELLING</td>\n",
       "      <td>NaN</td>\n",
       "      <td>NaN</td>\n",
       "      <td>AA</td>\n",
       "      <td>Adult Arrest</td>\n",
       "      <td>310.0</td>\n",
       "      <td>NaN</td>\n",
       "      <td>NaN</td>\n",
       "      <td>NaN</td>\n",
       "      <td>5800 W  SEAGLASS CIR</td>\n",
       "      <td>NaN</td>\n",
       "      <td>33.9740</td>\n",
       "      <td>-118.4199</td>\n",
       "      <td>90066</td>\n",
       "      <td>72000</td>\n",
       "      <td>12040</td>\n",
       "      <td>47754</td>\n",
       "      <td>(40.0, 50.0]</td>\n",
       "      <td>(1000, 1200]</td>\n",
       "    </tr>\n",
       "    <tr>\n",
       "      <th>106823</th>\n",
       "      <td>211418799</td>\n",
       "      <td>2021-09-22</td>\n",
       "      <td>2020-04-23</td>\n",
       "      <td>2030</td>\n",
       "      <td>14</td>\n",
       "      <td>pacific</td>\n",
       "      <td>1454</td>\n",
       "      <td>1</td>\n",
       "      <td>310</td>\n",
       "      <td>BURGLARY</td>\n",
       "      <td>0344</td>\n",
       "      <td>39</td>\n",
       "      <td>F</td>\n",
       "      <td>B</td>\n",
       "      <td>502.0</td>\n",
       "      <td>MULTI-UNIT DWELLING (APARTMENT, DUPLEX, ETC)</td>\n",
       "      <td>NaN</td>\n",
       "      <td>NaN</td>\n",
       "      <td>IC</td>\n",
       "      <td>Invest Cont</td>\n",
       "      <td>310.0</td>\n",
       "      <td>998.0</td>\n",
       "      <td>NaN</td>\n",
       "      <td>NaN</td>\n",
       "      <td>13400    MAXELLA                      AV</td>\n",
       "      <td>NaN</td>\n",
       "      <td>33.9870</td>\n",
       "      <td>-118.4407</td>\n",
       "      <td>90066</td>\n",
       "      <td>72000</td>\n",
       "      <td>12040</td>\n",
       "      <td>47754</td>\n",
       "      <td>(30.0, 40.0]</td>\n",
       "      <td>(2000, 2200]</td>\n",
       "    </tr>\n",
       "    <tr>\n",
       "      <th>107152</th>\n",
       "      <td>201409999</td>\n",
       "      <td>2020-04-23</td>\n",
       "      <td>2020-04-22</td>\n",
       "      <td>1830</td>\n",
       "      <td>14</td>\n",
       "      <td>pacific</td>\n",
       "      <td>1414</td>\n",
       "      <td>1</td>\n",
       "      <td>310</td>\n",
       "      <td>BURGLARY</td>\n",
       "      <td>1609 0344</td>\n",
       "      <td>56</td>\n",
       "      <td>F</td>\n",
       "      <td>W</td>\n",
       "      <td>502.0</td>\n",
       "      <td>MULTI-UNIT DWELLING (APARTMENT, DUPLEX, ETC)</td>\n",
       "      <td>500.0</td>\n",
       "      <td>UNKNOWN WEAPON/OTHER WEAPON</td>\n",
       "      <td>IC</td>\n",
       "      <td>Invest Cont</td>\n",
       "      <td>310.0</td>\n",
       "      <td>NaN</td>\n",
       "      <td>NaN</td>\n",
       "      <td>NaN</td>\n",
       "      <td>200    RUTH                         AV</td>\n",
       "      <td>NaN</td>\n",
       "      <td>34.0011</td>\n",
       "      <td>-118.4728</td>\n",
       "      <td>90066</td>\n",
       "      <td>72000</td>\n",
       "      <td>12040</td>\n",
       "      <td>47754</td>\n",
       "      <td>(50.0, 60.0]</td>\n",
       "      <td>(1800, 2000]</td>\n",
       "    </tr>\n",
       "    <tr>\n",
       "      <th>107499</th>\n",
       "      <td>201405494</td>\n",
       "      <td>2020-01-26</td>\n",
       "      <td>2020-01-25</td>\n",
       "      <td>1400</td>\n",
       "      <td>14</td>\n",
       "      <td>pacific</td>\n",
       "      <td>1466</td>\n",
       "      <td>1</td>\n",
       "      <td>310</td>\n",
       "      <td>BURGLARY</td>\n",
       "      <td>0344</td>\n",
       "      <td>40</td>\n",
       "      <td>M</td>\n",
       "      <td>O</td>\n",
       "      <td>501.0</td>\n",
       "      <td>SINGLE FAMILY DWELLING</td>\n",
       "      <td>NaN</td>\n",
       "      <td>NaN</td>\n",
       "      <td>IC</td>\n",
       "      <td>Invest Cont</td>\n",
       "      <td>310.0</td>\n",
       "      <td>NaN</td>\n",
       "      <td>NaN</td>\n",
       "      <td>NaN</td>\n",
       "      <td>7200    MCCOOL                       AV</td>\n",
       "      <td>NaN</td>\n",
       "      <td>33.9784</td>\n",
       "      <td>-118.4004</td>\n",
       "      <td>90066</td>\n",
       "      <td>72000</td>\n",
       "      <td>12040</td>\n",
       "      <td>47754</td>\n",
       "      <td>(30.0, 40.0]</td>\n",
       "      <td>(1200, 1400]</td>\n",
       "    </tr>\n",
       "    <tr>\n",
       "      <th>108283</th>\n",
       "      <td>201414184</td>\n",
       "      <td>2020-07-22</td>\n",
       "      <td>2020-07-17</td>\n",
       "      <td>630</td>\n",
       "      <td>14</td>\n",
       "      <td>pacific</td>\n",
       "      <td>1464</td>\n",
       "      <td>1</td>\n",
       "      <td>310</td>\n",
       "      <td>BURGLARY</td>\n",
       "      <td>0344 0397</td>\n",
       "      <td>68</td>\n",
       "      <td>M</td>\n",
       "      <td>W</td>\n",
       "      <td>502.0</td>\n",
       "      <td>MULTI-UNIT DWELLING (APARTMENT, DUPLEX, ETC)</td>\n",
       "      <td>NaN</td>\n",
       "      <td>NaN</td>\n",
       "      <td>IC</td>\n",
       "      <td>Invest Cont</td>\n",
       "      <td>310.0</td>\n",
       "      <td>NaN</td>\n",
       "      <td>NaN</td>\n",
       "      <td>NaN</td>\n",
       "      <td>5900    PLAYA VISTA                  DR</td>\n",
       "      <td>NaN</td>\n",
       "      <td>33.9720</td>\n",
       "      <td>-118.4271</td>\n",
       "      <td>90066</td>\n",
       "      <td>72000</td>\n",
       "      <td>12040</td>\n",
       "      <td>47754</td>\n",
       "      <td>(60.0, 70.0]</td>\n",
       "      <td>(600, 800]</td>\n",
       "    </tr>\n",
       "    <tr>\n",
       "      <th>108658</th>\n",
       "      <td>201416659</td>\n",
       "      <td>2020-09-04</td>\n",
       "      <td>2020-08-30</td>\n",
       "      <td>522</td>\n",
       "      <td>14</td>\n",
       "      <td>pacific</td>\n",
       "      <td>1413</td>\n",
       "      <td>1</td>\n",
       "      <td>310</td>\n",
       "      <td>BURGLARY</td>\n",
       "      <td>1606 0344</td>\n",
       "      <td>42</td>\n",
       "      <td>M</td>\n",
       "      <td>W</td>\n",
       "      <td>501.0</td>\n",
       "      <td>SINGLE FAMILY DWELLING</td>\n",
       "      <td>NaN</td>\n",
       "      <td>NaN</td>\n",
       "      <td>IC</td>\n",
       "      <td>Invest Cont</td>\n",
       "      <td>310.0</td>\n",
       "      <td>NaN</td>\n",
       "      <td>NaN</td>\n",
       "      <td>NaN</td>\n",
       "      <td>200    5TH                          AV</td>\n",
       "      <td>NaN</td>\n",
       "      <td>33.9983</td>\n",
       "      <td>-118.4746</td>\n",
       "      <td>90066</td>\n",
       "      <td>72000</td>\n",
       "      <td>12040</td>\n",
       "      <td>47754</td>\n",
       "      <td>(40.0, 50.0]</td>\n",
       "      <td>(400, 600]</td>\n",
       "    </tr>\n",
       "    <tr>\n",
       "      <th>108807</th>\n",
       "      <td>201412571</td>\n",
       "      <td>2020-06-19</td>\n",
       "      <td>2020-06-16</td>\n",
       "      <td>1930</td>\n",
       "      <td>14</td>\n",
       "      <td>pacific</td>\n",
       "      <td>1441</td>\n",
       "      <td>1</td>\n",
       "      <td>310</td>\n",
       "      <td>BURGLARY</td>\n",
       "      <td>1307 0344 1601</td>\n",
       "      <td>30</td>\n",
       "      <td>M</td>\n",
       "      <td>W</td>\n",
       "      <td>501.0</td>\n",
       "      <td>SINGLE FAMILY DWELLING</td>\n",
       "      <td>NaN</td>\n",
       "      <td>NaN</td>\n",
       "      <td>IC</td>\n",
       "      <td>Invest Cont</td>\n",
       "      <td>310.0</td>\n",
       "      <td>NaN</td>\n",
       "      <td>NaN</td>\n",
       "      <td>NaN</td>\n",
       "      <td>2400    WILSON                       AV</td>\n",
       "      <td>NaN</td>\n",
       "      <td>33.9865</td>\n",
       "      <td>-118.4579</td>\n",
       "      <td>90066</td>\n",
       "      <td>72000</td>\n",
       "      <td>12040</td>\n",
       "      <td>47754</td>\n",
       "      <td>(20.0, 30.0]</td>\n",
       "      <td>(1800, 2000]</td>\n",
       "    </tr>\n",
       "    <tr>\n",
       "      <th>109304</th>\n",
       "      <td>201420969</td>\n",
       "      <td>2020-11-30</td>\n",
       "      <td>2020-11-28</td>\n",
       "      <td>1530</td>\n",
       "      <td>14</td>\n",
       "      <td>pacific</td>\n",
       "      <td>1455</td>\n",
       "      <td>1</td>\n",
       "      <td>310</td>\n",
       "      <td>BURGLARY</td>\n",
       "      <td>0344</td>\n",
       "      <td>39</td>\n",
       "      <td>M</td>\n",
       "      <td>W</td>\n",
       "      <td>501.0</td>\n",
       "      <td>SINGLE FAMILY DWELLING</td>\n",
       "      <td>NaN</td>\n",
       "      <td>NaN</td>\n",
       "      <td>IC</td>\n",
       "      <td>Invest Cont</td>\n",
       "      <td>310.0</td>\n",
       "      <td>NaN</td>\n",
       "      <td>NaN</td>\n",
       "      <td>NaN</td>\n",
       "      <td>12700    ADMIRAL                      AV</td>\n",
       "      <td>NaN</td>\n",
       "      <td>33.9876</td>\n",
       "      <td>-118.4261</td>\n",
       "      <td>90066</td>\n",
       "      <td>72000</td>\n",
       "      <td>12040</td>\n",
       "      <td>47754</td>\n",
       "      <td>(30.0, 40.0]</td>\n",
       "      <td>(1400, 1600]</td>\n",
       "    </tr>\n",
       "    <tr>\n",
       "      <th>109415</th>\n",
       "      <td>201412182</td>\n",
       "      <td>2020-06-11</td>\n",
       "      <td>2020-06-07</td>\n",
       "      <td>200</td>\n",
       "      <td>14</td>\n",
       "      <td>pacific</td>\n",
       "      <td>1453</td>\n",
       "      <td>1</td>\n",
       "      <td>310</td>\n",
       "      <td>BURGLARY</td>\n",
       "      <td>0344</td>\n",
       "      <td>0</td>\n",
       "      <td>X</td>\n",
       "      <td>X</td>\n",
       "      <td>502.0</td>\n",
       "      <td>MULTI-UNIT DWELLING (APARTMENT, DUPLEX, ETC)</td>\n",
       "      <td>500.0</td>\n",
       "      <td>UNKNOWN WEAPON/OTHER WEAPON</td>\n",
       "      <td>IC</td>\n",
       "      <td>Invest Cont</td>\n",
       "      <td>310.0</td>\n",
       "      <td>NaN</td>\n",
       "      <td>NaN</td>\n",
       "      <td>NaN</td>\n",
       "      <td>4200    DEL REY                      AV</td>\n",
       "      <td>NaN</td>\n",
       "      <td>33.9870</td>\n",
       "      <td>-118.4437</td>\n",
       "      <td>90066</td>\n",
       "      <td>72000</td>\n",
       "      <td>12040</td>\n",
       "      <td>47754</td>\n",
       "      <td>NaN</td>\n",
       "      <td>(0, 200]</td>\n",
       "    </tr>\n",
       "    <tr>\n",
       "      <th>109449</th>\n",
       "      <td>201413576</td>\n",
       "      <td>2020-07-10</td>\n",
       "      <td>2020-07-09</td>\n",
       "      <td>2300</td>\n",
       "      <td>14</td>\n",
       "      <td>pacific</td>\n",
       "      <td>1441</td>\n",
       "      <td>1</td>\n",
       "      <td>310</td>\n",
       "      <td>BURGLARY</td>\n",
       "      <td>0344 1606 0314</td>\n",
       "      <td>20</td>\n",
       "      <td>M</td>\n",
       "      <td>B</td>\n",
       "      <td>501.0</td>\n",
       "      <td>SINGLE FAMILY DWELLING</td>\n",
       "      <td>NaN</td>\n",
       "      <td>NaN</td>\n",
       "      <td>AA</td>\n",
       "      <td>Adult Arrest</td>\n",
       "      <td>310.0</td>\n",
       "      <td>NaN</td>\n",
       "      <td>NaN</td>\n",
       "      <td>NaN</td>\n",
       "      <td>2400    PACIFIC                      AV</td>\n",
       "      <td>NaN</td>\n",
       "      <td>33.9834</td>\n",
       "      <td>-118.4688</td>\n",
       "      <td>90066</td>\n",
       "      <td>72000</td>\n",
       "      <td>12040</td>\n",
       "      <td>47754</td>\n",
       "      <td>(10.0, 20.0]</td>\n",
       "      <td>(2200, 2400]</td>\n",
       "    </tr>\n",
       "  </tbody>\n",
       "</table>\n",
       "</div>"
      ],
      "text/plain": [
       "            dr_no   date_rptd    date_occ  time_occ  area area_name  \\\n",
       "13924   201420102  2020-11-11  2020-11-09      1100    14   pacific   \n",
       "106823  211418799  2021-09-22  2020-04-23      2030    14   pacific   \n",
       "107152  201409999  2020-04-23  2020-04-22      1830    14   pacific   \n",
       "107499  201405494  2020-01-26  2020-01-25      1400    14   pacific   \n",
       "108283  201414184  2020-07-22  2020-07-17       630    14   pacific   \n",
       "108658  201416659  2020-09-04  2020-08-30       522    14   pacific   \n",
       "108807  201412571  2020-06-19  2020-06-16      1930    14   pacific   \n",
       "109304  201420969  2020-11-30  2020-11-28      1530    14   pacific   \n",
       "109415  201412182  2020-06-11  2020-06-07       200    14   pacific   \n",
       "109449  201413576  2020-07-10  2020-07-09      2300    14   pacific   \n",
       "\n",
       "        rpt_dist_no  part_1_2  crm_cd crm_cd_desc         mocodes  vict_age  \\\n",
       "13924          1464         1     310    BURGLARY            1501        43   \n",
       "106823         1454         1     310    BURGLARY            0344        39   \n",
       "107152         1414         1     310    BURGLARY       1609 0344        56   \n",
       "107499         1466         1     310    BURGLARY            0344        40   \n",
       "108283         1464         1     310    BURGLARY       0344 0397        68   \n",
       "108658         1413         1     310    BURGLARY       1606 0344        42   \n",
       "108807         1441         1     310    BURGLARY  1307 0344 1601        30   \n",
       "109304         1455         1     310    BURGLARY            0344        39   \n",
       "109415         1453         1     310    BURGLARY            0344         0   \n",
       "109449         1441         1     310    BURGLARY  0344 1606 0314        20   \n",
       "\n",
       "       vict_sex vict_descent  premis_cd  \\\n",
       "13924         M            W      501.0   \n",
       "106823        F            B      502.0   \n",
       "107152        F            W      502.0   \n",
       "107499        M            O      501.0   \n",
       "108283        M            W      502.0   \n",
       "108658        M            W      501.0   \n",
       "108807        M            W      501.0   \n",
       "109304        M            W      501.0   \n",
       "109415        X            X      502.0   \n",
       "109449        M            B      501.0   \n",
       "\n",
       "                                         premis_desc  weapon_used_cd  \\\n",
       "13924                         SINGLE FAMILY DWELLING             NaN   \n",
       "106823  MULTI-UNIT DWELLING (APARTMENT, DUPLEX, ETC)             NaN   \n",
       "107152  MULTI-UNIT DWELLING (APARTMENT, DUPLEX, ETC)           500.0   \n",
       "107499                        SINGLE FAMILY DWELLING             NaN   \n",
       "108283  MULTI-UNIT DWELLING (APARTMENT, DUPLEX, ETC)             NaN   \n",
       "108658                        SINGLE FAMILY DWELLING             NaN   \n",
       "108807                        SINGLE FAMILY DWELLING             NaN   \n",
       "109304                        SINGLE FAMILY DWELLING             NaN   \n",
       "109415  MULTI-UNIT DWELLING (APARTMENT, DUPLEX, ETC)           500.0   \n",
       "109449                        SINGLE FAMILY DWELLING             NaN   \n",
       "\n",
       "                        weapon_desc status   status_desc  crm_cd_1  crm_cd_2  \\\n",
       "13924                           NaN     AA  Adult Arrest     310.0       NaN   \n",
       "106823                          NaN     IC   Invest Cont     310.0     998.0   \n",
       "107152  UNKNOWN WEAPON/OTHER WEAPON     IC   Invest Cont     310.0       NaN   \n",
       "107499                          NaN     IC   Invest Cont     310.0       NaN   \n",
       "108283                          NaN     IC   Invest Cont     310.0       NaN   \n",
       "108658                          NaN     IC   Invest Cont     310.0       NaN   \n",
       "108807                          NaN     IC   Invest Cont     310.0       NaN   \n",
       "109304                          NaN     IC   Invest Cont     310.0       NaN   \n",
       "109415  UNKNOWN WEAPON/OTHER WEAPON     IC   Invest Cont     310.0       NaN   \n",
       "109449                          NaN     AA  Adult Arrest     310.0       NaN   \n",
       "\n",
       "        crm_cd_3  crm_cd_4                                  location  \\\n",
       "13924        NaN       NaN                      5800 W  SEAGLASS CIR   \n",
       "106823       NaN       NaN  13400    MAXELLA                      AV   \n",
       "107152       NaN       NaN    200    RUTH                         AV   \n",
       "107499       NaN       NaN   7200    MCCOOL                       AV   \n",
       "108283       NaN       NaN   5900    PLAYA VISTA                  DR   \n",
       "108658       NaN       NaN    200    5TH                          AV   \n",
       "108807       NaN       NaN   2400    WILSON                       AV   \n",
       "109304       NaN       NaN  12700    ADMIRAL                      AV   \n",
       "109415       NaN       NaN   4200    DEL REY                      AV   \n",
       "109449       NaN       NaN   2400    PACIFIC                      AV   \n",
       "\n",
       "       cross_street      lat       lon  zipcode  household_income  \\\n",
       "13924           NaN  33.9740 -118.4199    90066             72000   \n",
       "106823          NaN  33.9870 -118.4407    90066             72000   \n",
       "107152          NaN  34.0011 -118.4728    90066             72000   \n",
       "107499          NaN  33.9784 -118.4004    90066             72000   \n",
       "108283          NaN  33.9720 -118.4271    90066             72000   \n",
       "108658          NaN  33.9983 -118.4746    90066             72000   \n",
       "108807          NaN  33.9865 -118.4579    90066             72000   \n",
       "109304          NaN  33.9876 -118.4261    90066             72000   \n",
       "109415          NaN  33.9870 -118.4437    90066             72000   \n",
       "109449          NaN  33.9834 -118.4688    90066             72000   \n",
       "\n",
       "        population_density  crimes_per_area vict_age_bins time_occ_bins  \n",
       "13924                12040            47754  (40.0, 50.0]  (1000, 1200]  \n",
       "106823               12040            47754  (30.0, 40.0]  (2000, 2200]  \n",
       "107152               12040            47754  (50.0, 60.0]  (1800, 2000]  \n",
       "107499               12040            47754  (30.0, 40.0]  (1200, 1400]  \n",
       "108283               12040            47754  (60.0, 70.0]    (600, 800]  \n",
       "108658               12040            47754  (40.0, 50.0]    (400, 600]  \n",
       "108807               12040            47754  (20.0, 30.0]  (1800, 2000]  \n",
       "109304               12040            47754  (30.0, 40.0]  (1400, 1600]  \n",
       "109415               12040            47754           NaN      (0, 200]  \n",
       "109449               12040            47754  (10.0, 20.0]  (2200, 2400]  "
      ]
     },
     "execution_count": 39,
     "metadata": {},
     "output_type": "execute_result"
    }
   ],
   "source": [
    "#What do the home burglaries which aren't reported on the same day look like?\n",
    "\n",
    "df2a[(df2a.area_name=='pacific')&(df2a.crm_cd_desc=='BURGLARY')&(df2a.date_rptd!=df2a.date_occ)&\n",
    "   ((df2a.premis_desc=='SINGLE FAMILY DWELLING')|(df2a.premis_desc=='MULTI-UNIT DWELLING (APARTMENT, DUPLEX, ETC)'))].head(10)\n",
    "\n",
    "#Some people don't report burglaries that happened at their homes for days, even months, from the occurrence date.\n",
    "#We can assume that a fair amount of these people (53%) must not have immediately noticed that their homes have been burglarized."
   ]
  },
  {
   "cell_type": "markdown",
   "id": "51ffeb36",
   "metadata": {},
   "source": [
    "#### What percentage of the home burglaries in Pacific get reported on the same day where the burglary is committed?"
   ]
  },
  {
   "cell_type": "code",
   "execution_count": 40,
   "id": "8436752d",
   "metadata": {},
   "outputs": [
    {
     "data": {
      "text/plain": [
       "0.4769736842105263"
      ]
     },
     "execution_count": 40,
     "metadata": {},
     "output_type": "execute_result"
    }
   ],
   "source": [
    "#What percentage of the home burglaries in Pacific get reported on the same day where the burglary is committed?\n",
    "\n",
    "df2a[(df2a.area_name=='pacific')&(df2a.crm_cd_desc=='BURGLARY')&(df2a.date_rptd==df2a.date_occ)&((df2a.premis_desc=='SINGLE FAMILY DWELLING')|(df2a.premis_desc=='MULTI-UNIT DWELLING (APARTMENT, DUPLEX, ETC)'))]['date_rptd'].count()/df2a[(df2a.area_name=='pacific')&(df2a.crm_cd_desc=='BURGLARY')&((df2.premis_desc=='SINGLE FAMILY DWELLING')|(df2a.premis_desc=='MULTI-UNIT DWELLING (APARTMENT, DUPLEX, ETC)'))]['date_rptd'].count()\n",
    "\n",
    "#Of the home burglaries in Pacific, 47% are reported on the same day.\n"
   ]
  },
  {
   "cell_type": "markdown",
   "id": "f18e897f",
   "metadata": {},
   "source": [
    "### Household Income and Crime Location Correlations"
   ]
  },
  {
   "cell_type": "code",
   "execution_count": 41,
   "id": "70c4915f",
   "metadata": {},
   "outputs": [
    {
     "data": {
      "text/plain": [
       "premis_desc\n",
       "STREET                                          206321\n",
       "SINGLE FAMILY DWELLING                          138351\n",
       "MULTI-UNIT DWELLING (APARTMENT, DUPLEX, ETC)    100291\n",
       "PARKING LOT                                      57248\n",
       "OTHER BUSINESS                                   38303\n",
       "SIDEWALK                                         35182\n",
       "VEHICLE, PASSENGER/TRUCK                         24215\n",
       "GARAGE/CARPORT                                   16109\n",
       "DRIVEWAY                                         13368\n",
       "RESTAURANT/FAST FOOD                             10398\n",
       "Name: premis_desc, dtype: int64"
      ]
     },
     "execution_count": 41,
     "metadata": {},
     "output_type": "execute_result"
    },
    {
     "data": {
      "text/plain": [
       "premis_desc\n",
       "7TH AND METRO CENTER (NOT LINE SPECIFIC)     189\n",
       "ABANDONED BUILDING ABANDONED HOUSE           793\n",
       "ABATEMENT LOCATION                            10\n",
       "ABORTION CLINIC/ABORTION FACILITY*             6\n",
       "AIRCRAFT                                      26\n",
       "                                            ... \n",
       "VISION CARE FACILITY*                         66\n",
       "WAREHOUSE                                   1586\n",
       "WATER FACILITY                                26\n",
       "WEBSITE                                      586\n",
       "YARD (RESIDENTIAL/BUSINESS)                 5105\n",
       "Name: premis_desc, Length: 306, dtype: int64"
      ]
     },
     "execution_count": 41,
     "metadata": {},
     "output_type": "execute_result"
    }
   ],
   "source": [
    "### check the location where crime mostly happened\n",
    "\n",
    "pd.set_option('display.max_rows',20)\n",
    "premis_desc_count = df2.groupby('area_name')['premis_desc'].value_counts().reset_index(name = 'count')\n",
    "df_merge2 = pd.merge(premis_desc_count,popdf,on ='area_name', how = 'left')\n",
    "\n",
    "df2.groupby('premis_desc')['premis_desc'].count().nlargest(10)\n",
    "df2.groupby('premis_desc')['premis_desc'].count()"
   ]
  },
  {
   "cell_type": "code",
   "execution_count": 42,
   "id": "710b2030",
   "metadata": {},
   "outputs": [
    {
     "data": {
      "text/html": [
       "<div>\n",
       "<style scoped>\n",
       "    .dataframe tbody tr th:only-of-type {\n",
       "        vertical-align: middle;\n",
       "    }\n",
       "\n",
       "    .dataframe tbody tr th {\n",
       "        vertical-align: top;\n",
       "    }\n",
       "\n",
       "    .dataframe thead th {\n",
       "        text-align: right;\n",
       "    }\n",
       "</style>\n",
       "<table border=\"1\" class=\"dataframe\">\n",
       "  <thead>\n",
       "    <tr style=\"text-align: right;\">\n",
       "      <th></th>\n",
       "      <th>area_name</th>\n",
       "      <th>premis_desc</th>\n",
       "      <th>count</th>\n",
       "    </tr>\n",
       "  </thead>\n",
       "  <tbody>\n",
       "    <tr>\n",
       "      <th>0</th>\n",
       "      <td>77thstreet</td>\n",
       "      <td>STREET</td>\n",
       "      <td>17508</td>\n",
       "    </tr>\n",
       "    <tr>\n",
       "      <th>1</th>\n",
       "      <td>77thstreet</td>\n",
       "      <td>SINGLE FAMILY DWELLING</td>\n",
       "      <td>14231</td>\n",
       "    </tr>\n",
       "    <tr>\n",
       "      <th>2</th>\n",
       "      <td>77thstreet</td>\n",
       "      <td>MULTI-UNIT DWELLING (APARTMENT, DUPLEX, ETC)</td>\n",
       "      <td>4126</td>\n",
       "    </tr>\n",
       "    <tr>\n",
       "      <th>3</th>\n",
       "      <td>77thstreet</td>\n",
       "      <td>SIDEWALK</td>\n",
       "      <td>2362</td>\n",
       "    </tr>\n",
       "    <tr>\n",
       "      <th>4</th>\n",
       "      <td>77thstreet</td>\n",
       "      <td>PARKING LOT</td>\n",
       "      <td>2210</td>\n",
       "    </tr>\n",
       "    <tr>\n",
       "      <th>...</th>\n",
       "      <td>...</td>\n",
       "      <td>...</td>\n",
       "      <td>...</td>\n",
       "    </tr>\n",
       "    <tr>\n",
       "      <th>3475</th>\n",
       "      <td>wilshire</td>\n",
       "      <td>SINGLE FAMILY DWELLING</td>\n",
       "      <td>6762</td>\n",
       "    </tr>\n",
       "    <tr>\n",
       "      <th>3476</th>\n",
       "      <td>wilshire</td>\n",
       "      <td>OTHER BUSINESS</td>\n",
       "      <td>4315</td>\n",
       "    </tr>\n",
       "    <tr>\n",
       "      <th>3477</th>\n",
       "      <td>wilshire</td>\n",
       "      <td>MULTI-UNIT DWELLING (APARTMENT, DUPLEX, ETC)</td>\n",
       "      <td>4103</td>\n",
       "    </tr>\n",
       "    <tr>\n",
       "      <th>3478</th>\n",
       "      <td>wilshire</td>\n",
       "      <td>PARKING LOT</td>\n",
       "      <td>1811</td>\n",
       "    </tr>\n",
       "    <tr>\n",
       "      <th>3479</th>\n",
       "      <td>wilshire</td>\n",
       "      <td>SIDEWALK</td>\n",
       "      <td>1467</td>\n",
       "    </tr>\n",
       "  </tbody>\n",
       "</table>\n",
       "<p>128 rows × 3 columns</p>\n",
       "</div>"
      ],
      "text/plain": [
       "       area_name                                   premis_desc  count\n",
       "0     77thstreet                                        STREET  17508\n",
       "1     77thstreet                        SINGLE FAMILY DWELLING  14231\n",
       "2     77thstreet  MULTI-UNIT DWELLING (APARTMENT, DUPLEX, ETC)   4126\n",
       "3     77thstreet                                      SIDEWALK   2362\n",
       "4     77thstreet                                   PARKING LOT   2210\n",
       "...          ...                                           ...    ...\n",
       "3475    wilshire                        SINGLE FAMILY DWELLING   6762\n",
       "3476    wilshire                                OTHER BUSINESS   4315\n",
       "3477    wilshire  MULTI-UNIT DWELLING (APARTMENT, DUPLEX, ETC)   4103\n",
       "3478    wilshire                                   PARKING LOT   1811\n",
       "3479    wilshire                                      SIDEWALK   1467\n",
       "\n",
       "[128 rows x 3 columns]"
      ]
     },
     "execution_count": 42,
     "metadata": {},
     "output_type": "execute_result"
    }
   ],
   "source": [
    "premis_desc_count[premis_desc_count['count'] > 1200]\n",
    "\n",
    "## It's interesting that in central area, the distribution of location of crimes isn’t  similar to the whole\n",
    "## Crimes are more frequently happened in MULTI-UNIT DWELLING (APARTMENT, DUPLEX, ETC)/PARKING LOT, SIDE WALK, rather than single familyhouse\n",
    "## This may contributed to the city structure of central area, which is more busy and commercialized, and also more homeless."
   ]
  },
  {
   "cell_type": "code",
   "execution_count": 43,
   "id": "112cf7c5",
   "metadata": {},
   "outputs": [
    {
     "data": {
      "text/plain": [
       "MUSCLE BEACH                       0.999998\n",
       "MTA - RED LINE - VERMONT/SUNSET    0.941887\n",
       "TOOL SHED*                         0.841882\n",
       "CONDOMINIUM/TOWNHOUSE              0.742033\n",
       "DRIVEWAY                           0.691198\n",
       "PUBLIC STORAGE                     0.678485\n",
       "COLISEUM                           0.585007\n",
       "PORCH, RESIDENTIAL                 0.577192\n",
       "BEACH                              0.538569\n",
       "HOSPICE                            0.534744\n",
       "dtype: float64"
      ]
     },
     "execution_count": 43,
     "metadata": {},
     "output_type": "execute_result"
    },
    {
     "data": {
      "text/plain": [
       "MTA - BLUE LINE - GRAND/LATTC                    -0.967627\n",
       "LA UNION STATION (NOT LINE SPECIFIC)             -0.957291\n",
       "MTA - BLUE LINE - PICO                           -0.769523\n",
       "HOCKEY RINK/ICE HOCKEY                           -0.769158\n",
       "THE BEVERLY CONNECTION                           -0.723567\n",
       "BUS STOP                                         -0.700936\n",
       "MTA BUS                                          -0.684715\n",
       "STREET                                           -0.657723\n",
       "RETIRED (DUPLICATE) DO NOT USE THIS CODE         -0.650129\n",
       "TRAIN, OTHER THAN MTA (ALSO QUERY 809/810/811)   -0.642630\n",
       "dtype: float64"
      ]
     },
     "execution_count": 43,
     "metadata": {},
     "output_type": "execute_result"
    },
    {
     "data": {
      "text/plain": [
       "-0.16969630046423964"
      ]
     },
     "execution_count": 43,
     "metadata": {},
     "output_type": "execute_result"
    }
   ],
   "source": [
    "### define the correlation between crime location and household income\n",
    "\n",
    "\n",
    "def calculate_loc_correlations(df):\n",
    "    correlations = {}\n",
    "\n",
    "    for x in df['premis_desc'].unique():\n",
    "        df_test = df[df['premis_desc'] == x]\n",
    "        cor_test = df_test[['household_income', 'count']].corr()\n",
    "        correlations[x] = cor_test.loc['household_income', 'count']\n",
    "\n",
    "    return correlations\n",
    "\n",
    "pd.set_option('display.max_rows',None)\n",
    "correlation_loc = pd.Series(calculate_loc_correlations(df_merge2))\n",
    "correlation_loc[correlation_loc < 1].nlargest(10)\n",
    "correlation_loc[correlation_loc > -1].nsmallest(10)\n",
    "\n",
    "correlation_loc['MOTEL']\n",
    "### Findings\n",
    "\n",
    "### Crime Location for area with lower household income: STREET,SIDEWALK,VEHICLE, PASSENGER/TRUCK,BUS STOP\n",
    "### Crime Location for area with higher household income:BEACH,DRIVEWAY, PUBILIC STORAGE\n",
    "\n",
    "## interesting: there's nealy no correlation between motel and crime location. Motel itself would be dangerous no matter where it located"
   ]
  },
  {
   "cell_type": "markdown",
   "id": "08ca39e0",
   "metadata": {},
   "source": [
    "1. Crime Location for area with lower household income: STREET,SIDEWALK,VEHICLE, PASSENGER/TRUCK,BUS STOP\n",
    "2. Crime Location for area with higher household income:BEACH, DRIVEWAY, PUBILIC STORAGE\n",
    "\n",
    "interesting: there's nealy no correlation between motel and crime location. Motel itself would be dangerous no matter where it located\n"
   ]
  },
  {
   "cell_type": "markdown",
   "id": "dfa15d6e",
   "metadata": {},
   "source": [
    "### Crimes in Motel"
   ]
  },
  {
   "cell_type": "markdown",
   "id": "977e4b33",
   "metadata": {},
   "source": [
    "### Summary of the finding:\n",
    "\n",
    "When considering the location and household income, it’s interesting that the correlation between motel and household income is only -17%. It seems no matter where the motel is, it is dangerous by itself."
   ]
  },
  {
   "cell_type": "code",
   "execution_count": 44,
   "id": "79b6b407",
   "metadata": {},
   "outputs": [
    {
     "data": {
      "text/plain": [
       "premis_desc\n",
       "SINGLE FAMILY DWELLING                          4101\n",
       "MULTI-UNIT DWELLING (APARTMENT, DUPLEX, ETC)    1938\n",
       "STREET                                          1491\n",
       "SIDEWALK                                         399\n",
       "PARKING LOT                                      226\n",
       "VEHICLE, PASSENGER/TRUCK                         147\n",
       "MOTEL                                            139\n",
       "ALLEY                                             77\n",
       "DRIVEWAY                                          62\n",
       "OTHER BUSINESS                                    46\n",
       "Name: premis_desc, dtype: int64"
      ]
     },
     "execution_count": 44,
     "metadata": {},
     "output_type": "execute_result"
    }
   ],
   "source": [
    "#Where is the most physical abuse happening in LA?\n",
    "\n",
    "df[(df.crm_cd_desc=='INTIMATE PARTNER - SIMPLE ASSAULT')&((df.area_name=='77th Street')|(df.area_name=='Southeast')|(df.area_name=='Southwest'))].groupby('premis_desc')['premis_desc'].count().nlargest(10)\n",
    "\n",
    "#Most abuse happens at home and apartments, as expected.\n",
    "#But why is abuse happening at motels?"
   ]
  },
  {
   "cell_type": "code",
   "execution_count": 45,
   "id": "8bdc5feb",
   "metadata": {},
   "outputs": [
    {
     "data": {
      "text/plain": [
       "<bound method DataFrame.count of        area_name premis_desc  count\n",
       "12    77thstreet       MOTEL    357\n",
       "249      central       MOTEL     23\n",
       "437   devonshire       MOTEL     26\n",
       "593     foothill       MOTEL     45\n",
       "738       harbor       MOTEL    100\n",
       "942   hollenbeck       MOTEL     26\n",
       "1090   hollywood       MOTEL    106\n",
       "1243     mission       MOTEL    292\n",
       "1441      newton       MOTEL     54\n",
       "1630  nhollywood       MOTEL     53\n",
       "1808   northeast       MOTEL     49\n",
       "1989     olympic       MOTEL     54\n",
       "2190     pacific       MOTEL     20\n",
       "2338     rampart       MOTEL     80\n",
       "2485   southeast       MOTEL    283\n",
       "2658   southwest       MOTEL    183\n",
       "2852     topanga       MOTEL     64\n",
       "3001     vannuys       MOTEL     98\n",
       "3192      westla       MOTEL     29\n",
       "3354  westvalley       MOTEL     29\n",
       "3523    wilshire       MOTEL     59>"
      ]
     },
     "execution_count": 45,
     "metadata": {},
     "output_type": "execute_result"
    },
    {
     "data": {
      "text/plain": [
       "location\n",
       "4100 S  WESTERN                      AV     35\n",
       "10300 S  BROADWAY                           17\n",
       "9100 N  SEPULVEDA                    BL     17\n",
       "12700    ENCINITAS                    AV    15\n",
       "8400 N  SEPULVEDA                    BL     14\n",
       "15700    ROSCOE                       BL    13\n",
       "10900 S  BROADWAY                           11\n",
       "3800 S  WESTERN                      AV     11\n",
       "5600 S  WESTERN                      AV     11\n",
       "7100 S  VERMONT                      AV     11\n",
       "Name: location, dtype: int64"
      ]
     },
     "execution_count": 45,
     "metadata": {},
     "output_type": "execute_result"
    }
   ],
   "source": [
    "#Interestingly and sadly, some physical abuse happens at motels.\n",
    "\n",
    "premis_desc_count[premis_desc_count['premis_desc'] == 'MOTEL'].count\n",
    "\n",
    "\n",
    "#Are there particular motels that have high incidences of physical abuse happening within them?\n",
    "\n",
    "df2a[(df2a.crm_cd_desc.str.contains('ASSAULT'))&(df2a.premis_desc=='MOTEL')].groupby('location')['location'].count().nlargest(10)\n",
    "\n",
    "#The location of 4100 S Western Avenue has over double the incidences of the motel that is next in the list.\n",
    "#Looking up this address, we find that the place is called Mustang Motel, and it is a rentable by the hour love motel."
   ]
  },
  {
   "cell_type": "markdown",
   "id": "eb48b28e",
   "metadata": {},
   "source": [
    "1. The location of 4100 S Western Avenue has over double the incidences of the motel that is next in the list.\n",
    "2. Looking up this address, we find that the place is called Mustang Motel, and it is a rentable by the hour love motel.\n"
   ]
  },
  {
   "cell_type": "markdown",
   "id": "2006913a",
   "metadata": {},
   "source": [
    "#### Who is reporting abuse at the love motel?\n",
    "Again, most are young Hispanic and Black women between the ages of 20 and 30."
   ]
  },
  {
   "cell_type": "code",
   "execution_count": 46,
   "id": "985a1243",
   "metadata": {},
   "outputs": [
    {
     "data": {
      "text/plain": [
       "vict_sex  vict_descent  vict_age_bins\n",
       "F         B             (20, 30]         8\n",
       "          H             (20, 30]         7\n",
       "          B             (30, 40]         5\n",
       "          H             (30, 40]         3\n",
       "          B             (10, 20]         2\n",
       "Name: vict_age_bins, dtype: int64"
      ]
     },
     "execution_count": 46,
     "metadata": {},
     "output_type": "execute_result"
    }
   ],
   "source": [
    "#Who is reporting abuse at the love motel?\n",
    "\n",
    "df2a[(df2a.crm_cd_desc.str.contains('ASSAULT'))&(df2a.premis_desc=='MOTEL')&(df2a.location.str.contains('4100 S  WESTERN'))].groupby(['vict_sex', 'vict_descent', 'vict_age_bins'])['vict_age_bins'].count().nlargest(5)\n",
    "\n",
    "#Again, most are young Hispanic and Black women between the ages of 20 and 30."
   ]
  },
  {
   "cell_type": "markdown",
   "id": "89b1fe23",
   "metadata": {},
   "source": [
    "#### Does the abuse at the love motel happen at a particular time?\n",
    "1. Most of the incidents happen in the dead of night, between 12:00 AM and 2:00 AM, and the morning, between 6:00 AM and 10:00 AM.\n",
    "2. A surprising amount occur around noon."
   ]
  },
  {
   "cell_type": "code",
   "execution_count": 47,
   "id": "0bd05ec1",
   "metadata": {},
   "outputs": [
    {
     "data": {
      "text/plain": [
       "time_occ_bins\n",
       "(0, 200]        8\n",
       "(1200, 1400]    5\n",
       "(600, 800]      3\n",
       "(800, 1000]     3\n",
       "(1400, 1600]    3\n",
       "Name: time_occ_bins, dtype: int64"
      ]
     },
     "execution_count": 47,
     "metadata": {},
     "output_type": "execute_result"
    }
   ],
   "source": [
    "#Does the abuse at the love motel happen at a particular time?\n",
    "\n",
    "df2a[(df2a.crm_cd_desc.str.contains('ASSAULT'))&(df2a.premis_desc=='MOTEL')&(df2a.location.str.contains('4100 S  WESTERN'))].groupby('time_occ_bins')['time_occ_bins'].count().nlargest(5)\n",
    "\n",
    "#Most of the incidents happen in the dead of night, between 12:00 AM and 2:00 AM, and the morning, between 6:00 AM and 10:00 AM.\n",
    "#A surprising amount occur around noon."
   ]
  },
  {
   "cell_type": "markdown",
   "id": "ccd7d52c",
   "metadata": {},
   "source": [
    "#### What else happens at the love motel?\n",
    "\n",
    "In addition to the physical abuse by partners, there are also incidents of robbery, burglary, and **human trafficking!**"
   ]
  },
  {
   "cell_type": "code",
   "execution_count": 48,
   "id": "2ee6bc19",
   "metadata": {},
   "outputs": [
    {
     "data": {
      "text/plain": [
       "crm_cd_desc\n",
       "INTIMATE PARTNER - SIMPLE ASSAULT                           17\n",
       "ROBBERY                                                     10\n",
       "BATTERY - SIMPLE ASSAULT                                     9\n",
       "THEFT PLAIN - PETTY ($950 & UNDER)                           6\n",
       "BURGLARY                                                     6\n",
       "HUMAN TRAFFICKING - COMMERCIAL SEX ACTS                      5\n",
       "INTIMATE PARTNER - AGGRAVATED ASSAULT                        4\n",
       "ASSAULT WITH DEADLY WEAPON, AGGRAVATED ASSAULT               4\n",
       "KIDNAPPING                                                   2\n",
       "THEFT-GRAND ($950.01 & OVER)EXCPT,GUNS,FOWL,LIVESTK,PROD     2\n",
       "Name: crm_cd_desc, dtype: int64"
      ]
     },
     "execution_count": 48,
     "metadata": {},
     "output_type": "execute_result"
    }
   ],
   "source": [
    "#What else happens at the love motel?\n",
    "\n",
    "df2a[((df2a.area_name=='77thstreet')|(df2a.area_name=='southeast')|(df2a.area_name=='southwest'))&(df2a.premis_desc=='MOTEL')&(df2.location.str.contains('4100 S  WESTERN'))].groupby('crm_cd_desc')['crm_cd_desc'].count().sort_values(ascending=False).head(10)\n",
    "\n",
    "#In addition to the physical abuse by partners, there are also incidents of robbery, burglary, and human trafficking!"
   ]
  },
  {
   "cell_type": "markdown",
   "id": "76949303",
   "metadata": {},
   "source": [
    "#### Who is being robbed at the love motel?\n",
    "Mostly older men between the ages of 30 and 50."
   ]
  },
  {
   "cell_type": "code",
   "execution_count": 49,
   "id": "109b2411",
   "metadata": {},
   "outputs": [
    {
     "data": {
      "text/plain": [
       "vict_sex\n",
       "M    14\n",
       "F     7\n",
       "Name: vict_sex, dtype: int64"
      ]
     },
     "execution_count": 49,
     "metadata": {},
     "output_type": "execute_result"
    },
    {
     "data": {
      "text/plain": [
       "vict_age_bins\n",
       "(30, 40]    6\n",
       "(40, 50]    5\n",
       "(20, 30]    4\n",
       "(60, 70]    4\n",
       "(50, 60]    2\n",
       "Name: vict_age_bins, dtype: int64"
      ]
     },
     "execution_count": 49,
     "metadata": {},
     "output_type": "execute_result"
    }
   ],
   "source": [
    "#Who is being robbed at the love motel?\n",
    "\n",
    "df2a[((df2a.crm_cd_desc=='ROBBERY')|(df2a.crm_cd_desc=='BURGLARY')|(df2a.crm_cd_desc.str.contains('THEFT')))&((df2a.area_name=='77th Street')|(df.area_name=='Southeast')|(df.area_name=='Southwest'))&(df2a.premis_desc=='MOTEL')&(df2a.location.str.contains('4100 S  WESTERN'))].groupby('vict_sex')['vict_sex'].count().nlargest(2)\n",
    "df2a[((df2a.crm_cd_desc=='ROBBERY')|(df2a.crm_cd_desc=='BURGLARY')|(df2a.crm_cd_desc.str.contains('THEFT')))&((df2a.area_name=='77th Street')|(df.area_name=='Southeast')|(df.area_name=='Southwest'))&(df2a.premis_desc=='MOTEL')&(df2a.location.str.contains('4100 S  WESTERN'))].groupby('vict_age_bins')['vict_age_bins'].count().nlargest(5)\n",
    "\n",
    "#Mostly older men between the ages of 30 and 50."
   ]
  },
  {
   "cell_type": "markdown",
   "id": "5395d5b7",
   "metadata": {},
   "source": [
    "#### Do the robberies at the love motel happen at a particular time?\n",
    "Most robberies happen in the dead of night, between 10:00 PM and 6:00 AM."
   ]
  },
  {
   "cell_type": "code",
   "execution_count": 50,
   "id": "1b037144",
   "metadata": {},
   "outputs": [
    {
     "data": {
      "text/plain": [
       "time_occ_bins\n",
       "(0, 200]        4\n",
       "(1000, 1200]    4\n",
       "(200, 400]      3\n",
       "(400, 600]      3\n",
       "(2200, 2400]    3\n",
       "Name: time_occ_bins, dtype: int64"
      ]
     },
     "execution_count": 50,
     "metadata": {},
     "output_type": "execute_result"
    }
   ],
   "source": [
    "#Do the robberies at the love motel happen at a particular time?\n",
    "\n",
    "df2a[((df2a.crm_cd_desc=='ROBBERY')|(df2a.crm_cd_desc=='BURGLARY')|(df2a.crm_cd_desc.str.contains('THEFT')))&(df2a.premis_desc=='MOTEL')&(df2a.location.str.contains('4100 S  WESTERN'))].groupby('time_occ_bins')['time_occ_bins'].count().nlargest(5)\n",
    "\n",
    "#Most robberies happen in the dead of night, between 10:00 PM and 6:00 AM."
   ]
  },
  {
   "cell_type": "markdown",
   "id": "b53fe99e",
   "metadata": {},
   "source": [
    "#### Which areas of LA have the highest rates of human trafficking?"
   ]
  },
  {
   "cell_type": "code",
   "execution_count": 51,
   "id": "f1aa2ac6",
   "metadata": {},
   "outputs": [
    {
     "data": {
      "text/plain": [
       "area_name\n",
       "77thstreet    233\n",
       "southeast      82\n",
       "vannuys        32\n",
       "southwest      24\n",
       "olympic        22\n",
       "hollywood      21\n",
       "pacific         9\n",
       "central         8\n",
       "newton          7\n",
       "topanga         7\n",
       "Name: area_name, dtype: int64"
      ]
     },
     "execution_count": 51,
     "metadata": {},
     "output_type": "execute_result"
    }
   ],
   "source": [
    "#Find the areas with the most reports of human trafficking.\n",
    "\n",
    "df2a[df2a.crm_cd_desc.str.contains('TRAFFICKING')].groupby('area_name')['area_name'].count().nlargest(10)\n",
    "\n",
    "#77th Street and Southeast are particularly bad."
   ]
  },
  {
   "cell_type": "code",
   "execution_count": 52,
   "id": "ba05d1e2",
   "metadata": {},
   "outputs": [
    {
     "data": {
      "text/plain": [
       "location\n",
       "FIGUEROA                     ST    65\n",
       "FIGUEROA                           26\n",
       "69TH                         ST    15\n",
       "70TH                         ST    12\n",
       "68TH                         ST    11\n",
       "65TH                         ST     9\n",
       "66TH                         ST     7\n",
       "73RD                         ST     7\n",
       "83RD                         ST     6\n",
       "102ND                        ST     5\n",
       "Name: location, dtype: int64"
      ]
     },
     "execution_count": 52,
     "metadata": {},
     "output_type": "execute_result"
    }
   ],
   "source": [
    "#Are there locations in these districts that are hotspots for human trafficking?\n",
    "\n",
    "df2a[(df2a.crm_cd_desc.str.contains('HUMAN TRAFFICKING'))&((df2a.area_name=='77thstreet')|(df2a.area_name=='southeast'))].groupby('location')['location'].count().nlargest(10)\n",
    "\n",
    "#Figueroa St. pops up as a clear winner. Upon researching why, we find that The Figueroa Corridor, \n",
    "#also known as 'the track,' is the most notorious human trafficking & sex trafficking corridor in the United States."
   ]
  },
  {
   "cell_type": "markdown",
   "id": "b117925e",
   "metadata": {},
   "source": [
    "## P3. Distribution of Victims"
   ]
  },
  {
   "cell_type": "markdown",
   "id": "f3d7fbb3",
   "metadata": {},
   "source": [
    "<ol>\n",
    "<li>Which race group and age group hold the highest count of victims?</li>\n",
    "<li>Age vs Gender in victims; Age vs Race in victims</li>\n",
    "<li>Victim Gender vs Assault with Deadly Weapon</li>\n",
    "<li>Victim Race vs Burglary</li>\n",
    "<li>Prediction: Based on victims' age, sex and descent, how likely they would be involved in severe/Part 1 crimes?</li>\n",
    "</ol>\n"
   ]
  },
  {
   "cell_type": "markdown",
   "id": "944a42ba",
   "metadata": {},
   "source": [
    "#### Data Cleaning"
   ]
  },
  {
   "cell_type": "code",
   "execution_count": 53,
   "id": "e8357c8c",
   "metadata": {},
   "outputs": [
    {
     "data": {
      "text/html": [
       "<div>\n",
       "<style scoped>\n",
       "    .dataframe tbody tr th:only-of-type {\n",
       "        vertical-align: middle;\n",
       "    }\n",
       "\n",
       "    .dataframe tbody tr th {\n",
       "        vertical-align: top;\n",
       "    }\n",
       "\n",
       "    .dataframe thead th {\n",
       "        text-align: right;\n",
       "    }\n",
       "</style>\n",
       "<table border=\"1\" class=\"dataframe\">\n",
       "  <thead>\n",
       "    <tr style=\"text-align: right;\">\n",
       "      <th></th>\n",
       "      <th>dr_no</th>\n",
       "      <th>time_occ</th>\n",
       "      <th>area</th>\n",
       "      <th>rpt_dist_no</th>\n",
       "      <th>part_1_2</th>\n",
       "      <th>crm_cd</th>\n",
       "      <th>vict_age</th>\n",
       "      <th>premis_cd</th>\n",
       "      <th>weapon_used_cd</th>\n",
       "      <th>crm_cd_1</th>\n",
       "      <th>crm_cd_2</th>\n",
       "      <th>crm_cd_3</th>\n",
       "      <th>crm_cd_4</th>\n",
       "      <th>lat</th>\n",
       "      <th>lon</th>\n",
       "    </tr>\n",
       "  </thead>\n",
       "  <tbody>\n",
       "    <tr>\n",
       "      <th>count</th>\n",
       "      <td>8.158820e+05</td>\n",
       "      <td>815882.000000</td>\n",
       "      <td>815882.000000</td>\n",
       "      <td>815882.000000</td>\n",
       "      <td>815882.000000</td>\n",
       "      <td>815882.000000</td>\n",
       "      <td>815882.000000</td>\n",
       "      <td>815873.000000</td>\n",
       "      <td>284434.000000</td>\n",
       "      <td>815872.000000</td>\n",
       "      <td>60117.000000</td>\n",
       "      <td>2013.000000</td>\n",
       "      <td>59.000000</td>\n",
       "      <td>815882.000000</td>\n",
       "      <td>815882.000000</td>\n",
       "    </tr>\n",
       "    <tr>\n",
       "      <th>mean</th>\n",
       "      <td>2.160434e+08</td>\n",
       "      <td>1335.614658</td>\n",
       "      <td>10.711521</td>\n",
       "      <td>1117.576886</td>\n",
       "      <td>1.413928</td>\n",
       "      <td>500.777800</td>\n",
       "      <td>29.818963</td>\n",
       "      <td>305.776683</td>\n",
       "      <td>362.906165</td>\n",
       "      <td>500.515309</td>\n",
       "      <td>957.447245</td>\n",
       "      <td>983.647293</td>\n",
       "      <td>990.627119</td>\n",
       "      <td>33.800054</td>\n",
       "      <td>-117.404189</td>\n",
       "    </tr>\n",
       "    <tr>\n",
       "      <th>std</th>\n",
       "      <td>1.080151e+07</td>\n",
       "      <td>654.102822</td>\n",
       "      <td>6.092813</td>\n",
       "      <td>609.276287</td>\n",
       "      <td>0.492536</td>\n",
       "      <td>207.816937</td>\n",
       "      <td>21.772828</td>\n",
       "      <td>216.646998</td>\n",
       "      <td>123.759695</td>\n",
       "      <td>207.605385</td>\n",
       "      <td>111.527047</td>\n",
       "      <td>52.758676</td>\n",
       "      <td>28.131402</td>\n",
       "      <td>3.042256</td>\n",
       "      <td>10.560763</td>\n",
       "    </tr>\n",
       "    <tr>\n",
       "      <th>min</th>\n",
       "      <td>8.170000e+02</td>\n",
       "      <td>1.000000</td>\n",
       "      <td>1.000000</td>\n",
       "      <td>101.000000</td>\n",
       "      <td>1.000000</td>\n",
       "      <td>110.000000</td>\n",
       "      <td>-3.000000</td>\n",
       "      <td>101.000000</td>\n",
       "      <td>101.000000</td>\n",
       "      <td>110.000000</td>\n",
       "      <td>210.000000</td>\n",
       "      <td>310.000000</td>\n",
       "      <td>821.000000</td>\n",
       "      <td>0.000000</td>\n",
       "      <td>-118.667600</td>\n",
       "    </tr>\n",
       "    <tr>\n",
       "      <th>25%</th>\n",
       "      <td>2.101222e+08</td>\n",
       "      <td>900.000000</td>\n",
       "      <td>6.000000</td>\n",
       "      <td>621.000000</td>\n",
       "      <td>1.000000</td>\n",
       "      <td>331.000000</td>\n",
       "      <td>8.000000</td>\n",
       "      <td>101.000000</td>\n",
       "      <td>310.000000</td>\n",
       "      <td>331.000000</td>\n",
       "      <td>998.000000</td>\n",
       "      <td>998.000000</td>\n",
       "      <td>998.000000</td>\n",
       "      <td>34.011700</td>\n",
       "      <td>-118.429100</td>\n",
       "    </tr>\n",
       "    <tr>\n",
       "      <th>50%</th>\n",
       "      <td>2.201145e+08</td>\n",
       "      <td>1415.000000</td>\n",
       "      <td>11.000000</td>\n",
       "      <td>1142.000000</td>\n",
       "      <td>1.000000</td>\n",
       "      <td>442.000000</td>\n",
       "      <td>31.000000</td>\n",
       "      <td>203.000000</td>\n",
       "      <td>400.000000</td>\n",
       "      <td>442.000000</td>\n",
       "      <td>998.000000</td>\n",
       "      <td>998.000000</td>\n",
       "      <td>998.000000</td>\n",
       "      <td>34.057900</td>\n",
       "      <td>-118.320500</td>\n",
       "    </tr>\n",
       "    <tr>\n",
       "      <th>75%</th>\n",
       "      <td>2.219155e+08</td>\n",
       "      <td>1900.000000</td>\n",
       "      <td>16.000000</td>\n",
       "      <td>1617.000000</td>\n",
       "      <td>2.000000</td>\n",
       "      <td>626.000000</td>\n",
       "      <td>45.000000</td>\n",
       "      <td>501.000000</td>\n",
       "      <td>400.000000</td>\n",
       "      <td>626.000000</td>\n",
       "      <td>998.000000</td>\n",
       "      <td>998.000000</td>\n",
       "      <td>998.000000</td>\n",
       "      <td>34.162900</td>\n",
       "      <td>-118.273900</td>\n",
       "    </tr>\n",
       "    <tr>\n",
       "      <th>max</th>\n",
       "      <td>2.399165e+08</td>\n",
       "      <td>2359.000000</td>\n",
       "      <td>21.000000</td>\n",
       "      <td>2199.000000</td>\n",
       "      <td>2.000000</td>\n",
       "      <td>956.000000</td>\n",
       "      <td>120.000000</td>\n",
       "      <td>976.000000</td>\n",
       "      <td>516.000000</td>\n",
       "      <td>956.000000</td>\n",
       "      <td>999.000000</td>\n",
       "      <td>999.000000</td>\n",
       "      <td>999.000000</td>\n",
       "      <td>34.334300</td>\n",
       "      <td>0.000000</td>\n",
       "    </tr>\n",
       "  </tbody>\n",
       "</table>\n",
       "</div>"
      ],
      "text/plain": [
       "              dr_no       time_occ           area    rpt_dist_no  \\\n",
       "count  8.158820e+05  815882.000000  815882.000000  815882.000000   \n",
       "mean   2.160434e+08    1335.614658      10.711521    1117.576886   \n",
       "std    1.080151e+07     654.102822       6.092813     609.276287   \n",
       "min    8.170000e+02       1.000000       1.000000     101.000000   \n",
       "25%    2.101222e+08     900.000000       6.000000     621.000000   \n",
       "50%    2.201145e+08    1415.000000      11.000000    1142.000000   \n",
       "75%    2.219155e+08    1900.000000      16.000000    1617.000000   \n",
       "max    2.399165e+08    2359.000000      21.000000    2199.000000   \n",
       "\n",
       "            part_1_2         crm_cd       vict_age      premis_cd  \\\n",
       "count  815882.000000  815882.000000  815882.000000  815873.000000   \n",
       "mean        1.413928     500.777800      29.818963     305.776683   \n",
       "std         0.492536     207.816937      21.772828     216.646998   \n",
       "min         1.000000     110.000000      -3.000000     101.000000   \n",
       "25%         1.000000     331.000000       8.000000     101.000000   \n",
       "50%         1.000000     442.000000      31.000000     203.000000   \n",
       "75%         2.000000     626.000000      45.000000     501.000000   \n",
       "max         2.000000     956.000000     120.000000     976.000000   \n",
       "\n",
       "       weapon_used_cd       crm_cd_1      crm_cd_2     crm_cd_3    crm_cd_4  \\\n",
       "count   284434.000000  815872.000000  60117.000000  2013.000000   59.000000   \n",
       "mean       362.906165     500.515309    957.447245   983.647293  990.627119   \n",
       "std        123.759695     207.605385    111.527047    52.758676   28.131402   \n",
       "min        101.000000     110.000000    210.000000   310.000000  821.000000   \n",
       "25%        310.000000     331.000000    998.000000   998.000000  998.000000   \n",
       "50%        400.000000     442.000000    998.000000   998.000000  998.000000   \n",
       "75%        400.000000     626.000000    998.000000   998.000000  998.000000   \n",
       "max        516.000000     956.000000    999.000000   999.000000  999.000000   \n",
       "\n",
       "                 lat            lon  \n",
       "count  815882.000000  815882.000000  \n",
       "mean       33.800054    -117.404189  \n",
       "std         3.042256      10.560763  \n",
       "min         0.000000    -118.667600  \n",
       "25%        34.011700    -118.429100  \n",
       "50%        34.057900    -118.320500  \n",
       "75%        34.162900    -118.273900  \n",
       "max        34.334300       0.000000  "
      ]
     },
     "execution_count": 53,
     "metadata": {},
     "output_type": "execute_result"
    },
    {
     "data": {
      "text/plain": [
       "dr_no                  0\n",
       "date_rptd              0\n",
       "date_occ               0\n",
       "time_occ               0\n",
       "area                   0\n",
       "area_name              0\n",
       "rpt_dist_no            0\n",
       "part_1_2               0\n",
       "crm_cd                 0\n",
       "crm_cd_desc            0\n",
       "mocodes           112762\n",
       "vict_age               0\n",
       "vict_sex          107192\n",
       "vict_descent      107200\n",
       "premis_cd              9\n",
       "premis_desc          480\n",
       "weapon_used_cd    531448\n",
       "weapon_desc       531448\n",
       "status                 0\n",
       "status_desc            0\n",
       "crm_cd_1              10\n",
       "crm_cd_2          755765\n",
       "crm_cd_3          813869\n",
       "crm_cd_4          815823\n",
       "location               0\n",
       "cross_street      685361\n",
       "lat                    0\n",
       "lon                    0\n",
       "dtype: int64"
      ]
     },
     "execution_count": 53,
     "metadata": {},
     "output_type": "execute_result"
    }
   ],
   "source": [
    "df3 = df.copy()\n",
    "df3.describe()\n",
    "# check for empty values\n",
    "df3.isnull().sum()"
   ]
  },
  {
   "cell_type": "code",
   "execution_count": 54,
   "id": "3127c044",
   "metadata": {},
   "outputs": [
    {
     "data": {
      "text/plain": [
       "True"
      ]
     },
     "execution_count": 54,
     "metadata": {},
     "output_type": "execute_result"
    },
    {
     "data": {
      "text/plain": [
       "True"
      ]
     },
     "execution_count": 54,
     "metadata": {},
     "output_type": "execute_result"
    },
    {
     "data": {
      "text/plain": [
       "False"
      ]
     },
     "execution_count": 54,
     "metadata": {},
     "output_type": "execute_result"
    }
   ],
   "source": [
    "# check for nan\n",
    "df3.vict_descent.isna().any()\n",
    "df3.vict_sex.isna().any()\n",
    "df3.vict_age.isna().any()"
   ]
  },
  {
   "cell_type": "code",
   "execution_count": 55,
   "id": "1d058b28",
   "metadata": {},
   "outputs": [
    {
     "data": {
      "text/plain": [
       "array(['B', 'H', 'X', 'W', 'A', 'O', nan, 'C', 'F', 'K', 'I', 'V', 'Z',\n",
       "       'J', 'P', 'S', 'G', 'U', 'D', 'L', '-'], dtype=object)"
      ]
     },
     "execution_count": 55,
     "metadata": {},
     "output_type": "execute_result"
    },
    {
     "data": {
      "text/plain": [
       "array(['F', 'M', 'X', nan, 'H', '-'], dtype=object)"
      ]
     },
     "execution_count": 55,
     "metadata": {},
     "output_type": "execute_result"
    },
    {
     "data": {
      "text/plain": [
       "array([ 36,  25,   0,  76,  31,  23,  29,  35,  41,  24,  34,  46,  66,\n",
       "        40,  27,  62,  43,  71,  50,  19,  51,  33,  69,  39,  57,  78,\n",
       "        52,  38,  55,  44,  18,  54,  22,  28,  42,  56,  67,  37,  60,\n",
       "        61,  59,  32,  30,  45,  20,  15,  58,  47,  48,  26,  21,  64,\n",
       "        75,  12,  49,  68,  14,  13,  10,  53,  74,  65,  63,   8,  16,\n",
       "        72,  70,   9,  17,  90,  85,  81,  79,  94,  73,  11,  80,   5,\n",
       "        82,   2,  77,  84,  88,  96,  99,  86,   7,  92,   3,  83,  87,\n",
       "         6,  -1,  89,   4,  93,  98,  91,  95,  -2,  97, 120,  -3])"
      ]
     },
     "execution_count": 55,
     "metadata": {},
     "output_type": "execute_result"
    },
    {
     "data": {
      "text/plain": [
       "20"
      ]
     },
     "execution_count": 55,
     "metadata": {},
     "output_type": "execute_result"
    },
    {
     "data": {
      "text/plain": [
       "5"
      ]
     },
     "execution_count": 55,
     "metadata": {},
     "output_type": "execute_result"
    },
    {
     "data": {
      "text/plain": [
       "103"
      ]
     },
     "execution_count": 55,
     "metadata": {},
     "output_type": "execute_result"
    }
   ],
   "source": [
    "# check for unique values and how many\n",
    "df3.vict_descent.unique()\n",
    "df3.vict_sex.unique()\n",
    "df3.vict_age.unique()\n",
    "\n",
    "df3.vict_descent.nunique()\n",
    "df3.vict_sex.nunique()\n",
    "df3.vict_age.nunique()"
   ]
  },
  {
   "cell_type": "markdown",
   "id": "a64f4cc1",
   "metadata": {},
   "source": [
    "Cleanup for the race, gender and age columns"
   ]
  },
  {
   "cell_type": "code",
   "execution_count": 56,
   "id": "7caa0ee4",
   "metadata": {},
   "outputs": [
    {
     "data": {
      "text/plain": [
       "O    264813\n",
       "H    250450\n",
       "W    166398\n",
       "B    116358\n",
       "A     17863\n",
       "Name: vict_descent, dtype: int64"
      ]
     },
     "execution_count": 56,
     "metadata": {},
     "output_type": "execute_result"
    }
   ],
   "source": [
    "# for 'Vict Descent' column, replace everything except 'B', 'W', 'H' and 'A' with the letter 'O'\n",
    "# B: Black or African American, W: White, H: Hispanic or Latino, A: Asian, O: Other\n",
    "def categorized_descent(descent):\n",
    "    if descent in ['B', 'W', 'H', 'A']:\n",
    "        return descent\n",
    "    else:\n",
    "        return 'O'\n",
    "df3['vict_descent'] = df3['vict_descent'].apply(categorized_descent)\n",
    "\n",
    "# use .apply function instead of inplace=True in this case\n",
    "# counting the number of occurrences in each racial category\n",
    "descent_counts = df3['vict_descent'].value_counts()\n",
    "descent_counts"
   ]
  },
  {
   "cell_type": "markdown",
   "id": "69c3ba11",
   "metadata": {},
   "source": [
    "### Summary of the finding:\n",
    "\n",
    "Victims who are identified with gender X at younger age 0-18 and females aged 19-35 are more vurnerable and targeted to be involved in crime, while the Asian ethnic category consistently represents a minority among victims.  A basic model to predict how likely victims would be involved in severe/Part 1 crimes based on their age, sex and descent was created and reached recall score 81%, AUC score 70%"
   ]
  },
  {
   "cell_type": "code",
   "execution_count": 57,
   "id": "d75d4925",
   "metadata": {},
   "outputs": [
    {
     "data": {
      "text/plain": [
       "([<matplotlib.patches.Wedge at 0x2a3d64e10>,\n",
       "  <matplotlib.patches.Wedge at 0x2a3cfbcd0>,\n",
       "  <matplotlib.patches.Wedge at 0x2a3cf4e90>,\n",
       "  <matplotlib.patches.Wedge at 0x2a3cf7850>,\n",
       "  <matplotlib.patches.Wedge at 0x2a3ce70d0>],\n",
       " [Text(-1.0657792602947587, 0.2722399095018166, 'Black or African American (B)'),\n",
       "  Text(-0.7352930723407074, -0.8181345230264784, 'White (W)'),\n",
       "  Text(0.842866712716661, -0.7068066953518549, 'Hispanic or Latino (H)'),\n",
       "  Text(1.0387324853712665, 0.36198732551628365, 'Asian (A)'),\n",
       "  Text(0.16112951904665215, 1.0881347701878636, 'Other (O)')],\n",
       " [Text(-0.5813341419789592, 0.14849449609189994, '14.3%'),\n",
       "  Text(-0.4010689485494767, -0.4462551943780791, '20.4%'),\n",
       "  Text(0.4597454796636332, -0.3855309247373754, '30.7%'),\n",
       "  Text(0.5665813556570544, 0.19744763209979105, '2.2%'),\n",
       "  Text(0.08788882857090118, 0.5935280564661073, '32.5%')])"
      ]
     },
     "execution_count": 57,
     "metadata": {},
     "output_type": "execute_result"
    },
    {
     "data": {
      "text/plain": [
       "Text(0.5, 1.0, 'Distribution of Different Ethnicity Categories in Vict Descent Column')"
      ]
     },
     "execution_count": 57,
     "metadata": {},
     "output_type": "execute_result"
    },
    {
     "data": {
      "text/plain": [
       "(-1.099998923977801,\n",
       " 1.099998383657664,\n",
       " -1.0999995660705453,\n",
       " 1.0999987309587944)"
      ]
     },
     "execution_count": 57,
     "metadata": {},
     "output_type": "execute_result"
    },
    {
     "data": {
      "image/png": "[encoded data removed]",
      "text/plain": [
       "<Figure size 640x480 with 1 Axes>"
      ]
     },
     "metadata": {},
     "output_type": "display_data"
    }
   ],
   "source": [
    "# pie chart illustration\n",
    "descent_counts = descent_counts.reindex(['B', 'W', 'H', 'A', 'O'])\n",
    "labels = ['Black or African American (B)', 'White (W)', 'Hispanic or Latino (H)', 'Asian (A)', 'Other (O)']\n",
    "colors = ['lightblue', 'darkorange', 'red', 'green', 'violet']\n",
    "plt.pie(descent_counts, labels=labels, colors=colors, autopct='%1.1f%%', startangle=140)\n",
    "plt.title('Distribution of Different Ethnicity Categories in Vict Descent Column', fontsize=13)\n",
    "plt.axis('equal')  # Equal aspect ratio ensures that pie is drawn as a circle.\n",
    "plt.show()"
   ]
  },
  {
   "cell_type": "markdown",
   "id": "75fb3b95",
   "metadata": {},
   "source": [
    "The data indicates that within the four major racial groups, Hispanic or Latino (H) holds the highest count of victims."
   ]
  },
  {
   "cell_type": "code",
   "execution_count": 58,
   "id": "0aac0d71",
   "metadata": {},
   "outputs": [],
   "source": [
    "# for 'vict_sex' column, replace nan, 'H', '-' with 'others'\n",
    "df3['vict_sex'].fillna('others', inplace=True)\n",
    "df3['vict_sex'].replace({'H': 'others', '-': 'others'}, inplace=True)"
   ]
  },
  {
   "cell_type": "markdown",
   "id": "0aa19aaf",
   "metadata": {},
   "source": [
    "\"Sex X\" means a gender that is not exclusively male nor female. \"Others\" is NAN or unreported."
   ]
  },
  {
   "cell_type": "code",
   "execution_count": 59,
   "id": "3a37cbfa",
   "metadata": {},
   "outputs": [],
   "source": [
    "# for 'vict_age' column, replace any negative number with number '0'\n",
    "df3.loc[df3['vict_age'] < 0, 'vict_age'] = 0"
   ]
  },
  {
   "cell_type": "code",
   "execution_count": 60,
   "id": "dadebab1",
   "metadata": {},
   "outputs": [],
   "source": [
    "# define the bins for age groups\n",
    "bins = [0, 18, 35, 55, float('inf')]  # the last bin goes up to infinity for ages 56 and above\n",
    "labels = ['0-18', '19-35', '36-55', '56+']\n",
    "\n",
    "# categorize 'vict_age' into age groups\n",
    "df3['vict_age_group'] = pd.cut(df3['vict_age'], bins=bins, labels=labels, right=False)"
   ]
  },
  {
   "cell_type": "code",
   "execution_count": 61,
   "id": "f28c1400",
   "metadata": {},
   "outputs": [
    {
     "name": "stdout",
     "output_type": "stream",
     "text": [
      "vict_age_group\n",
      "0-18     222778\n",
      "19-35    249055\n",
      "36-55    230255\n",
      "56+      113794\n",
      "dtype: int64\n"
     ]
    }
   ],
   "source": [
    "vict_age_group_counts = df3.groupby('vict_age_group').size()\n",
    "print(vict_age_group_counts)"
   ]
  },
  {
   "cell_type": "code",
   "execution_count": 62,
   "id": "64fe619d",
   "metadata": {},
   "outputs": [
    {
     "data": {
      "text/plain": [
       "<Axes: >"
      ]
     },
     "execution_count": 62,
     "metadata": {},
     "output_type": "execute_result"
    },
    {
     "data": {
      "text/plain": [
       "<Axes: >"
      ]
     },
     "execution_count": 62,
     "metadata": {},
     "output_type": "execute_result"
    },
    {
     "data": {
      "text/plain": [
       "Text(0.5, 0, 'Counts')"
      ]
     },
     "execution_count": 62,
     "metadata": {},
     "output_type": "execute_result"
    },
    {
     "data": {
      "text/plain": [
       "Text(0, 0.5, 'Age Groups')"
      ]
     },
     "execution_count": 62,
     "metadata": {},
     "output_type": "execute_result"
    },
    {
     "data": {
      "text/plain": [
       "Text(0.5, 1.0, 'Counts of Different Age Groups')"
      ]
     },
     "execution_count": 62,
     "metadata": {},
     "output_type": "execute_result"
    },
    {
     "data": {
      "image/png": "[encoded data removed]",
      "text/plain": [
       "<Figure size 640x480 with 1 Axes>"
      ]
     },
     "metadata": {},
     "output_type": "display_data"
    }
   ],
   "source": [
    "age_group_counts = df3['vict_age_group'].value_counts()\n",
    "\n",
    "# Plotting the counts of different age groups\n",
    "age_group_counts.plot(kind='barh')\n",
    "age_group_counts.plot(kind='barh', color=colors)\n",
    "plt.xlabel('Counts')\n",
    "plt.ylabel('Age Groups')\n",
    "plt.title('Counts of Different Age Groups')\n",
    "plt.show()"
   ]
  },
  {
   "cell_type": "markdown",
   "id": "1c89fddc",
   "metadata": {},
   "source": [
    "The age bracket spanning from 19 to 35 records the highest number of victims."
   ]
  },
  {
   "cell_type": "markdown",
   "id": "5d73becf",
   "metadata": {},
   "source": [
    "#### Victim Sex vs Assault with Deadly Weapon"
   ]
  },
  {
   "cell_type": "code",
   "execution_count": 63,
   "id": "5c058a25",
   "metadata": {},
   "outputs": [
    {
     "name": "stdout",
     "output_type": "stream",
     "text": [
      "M         34158\n",
      "F         12613\n",
      "X          1178\n",
      "others       33\n",
      "Name: vict_sex, dtype: int64\n"
     ]
    }
   ],
   "source": [
    "assault_with_weapon = df3[df3['crm_cd_desc'].str.contains('ASSAULT WITH DEADLY WEAPON')]\n",
    "# analyze the relationship between victim sex and assault with deadly weapon\n",
    "victim_sex_distribution = assault_with_weapon['vict_sex'].value_counts()\n",
    "print(victim_sex_distribution)"
   ]
  },
  {
   "cell_type": "code",
   "execution_count": 64,
   "id": "40dd57f0",
   "metadata": {},
   "outputs": [
    {
     "data": {
      "text/plain": [
       "<Axes: >"
      ]
     },
     "execution_count": 64,
     "metadata": {},
     "output_type": "execute_result"
    },
    {
     "data": {
      "text/plain": [
       "Text(0.5, 1.0, 'Distribution of Victim Sex in Assault with Deadly Weapon Cases')"
      ]
     },
     "execution_count": 64,
     "metadata": {},
     "output_type": "execute_result"
    },
    {
     "data": {
      "text/plain": [
       "Text(0.5, 0, 'Victim Sex')"
      ]
     },
     "execution_count": 64,
     "metadata": {},
     "output_type": "execute_result"
    },
    {
     "data": {
      "text/plain": [
       "Text(0, 0.5, 'Count')"
      ]
     },
     "execution_count": 64,
     "metadata": {},
     "output_type": "execute_result"
    },
    {
     "data": {
      "text/plain": [
       "(array([0, 1, 2, 3]),\n",
       " [Text(0, 0, 'M'), Text(1, 0, 'F'), Text(2, 0, 'X'), Text(3, 0, 'others')])"
      ]
     },
     "execution_count": 64,
     "metadata": {},
     "output_type": "execute_result"
    },
    {
     "data": {
      "image/png": "[encoded data removed]",
      "text/plain": [
       "<Figure size 640x480 with 1 Axes>"
      ]
     },
     "metadata": {},
     "output_type": "display_data"
    }
   ],
   "source": [
    "victim_sex_distribution.plot(kind='bar')\n",
    "plt.title('Distribution of Victim Sex in Assault with Deadly Weapon Cases')\n",
    "plt.xlabel('Victim Sex')\n",
    "plt.ylabel('Count')\n",
    "plt.xticks(rotation=0)\n",
    "plt.show()"
   ]
  },
  {
   "cell_type": "markdown",
   "id": "2fe3cd70",
   "metadata": {},
   "source": [
    "The count of males affected by assault with deadly weapons significantly exceeds that of females or X."
   ]
  },
  {
   "cell_type": "markdown",
   "id": "a76dcc45",
   "metadata": {},
   "source": [
    "#### Victim Descent vs Burglary"
   ]
  },
  {
   "cell_type": "code",
   "execution_count": 65,
   "id": "818eb8b7",
   "metadata": {},
   "outputs": [
    {
     "name": "stdout",
     "output_type": "stream",
     "text": [
      "W    32690\n",
      "O    31185\n",
      "H    23626\n",
      "B    11931\n",
      "A     4233\n",
      "Name: vict_descent, dtype: int64\n"
     ]
    }
   ],
   "source": [
    "burglary = df3[df3['crm_cd_desc'].str.contains('BURGLARY')]\n",
    "# analyze the relationship between victim descent and burglary\n",
    "victim_descent_distribution = burglary['vict_descent'].value_counts()\n",
    "print(victim_descent_distribution)"
   ]
  },
  {
   "cell_type": "code",
   "execution_count": 66,
   "id": "0641f585",
   "metadata": {},
   "outputs": [
    {
     "data": {
      "text/plain": [
       "<Axes: >"
      ]
     },
     "execution_count": 66,
     "metadata": {},
     "output_type": "execute_result"
    },
    {
     "data": {
      "text/plain": [
       "Text(0.5, 1.0, 'Distribution of Victim Descent in Burglary Cases')"
      ]
     },
     "execution_count": 66,
     "metadata": {},
     "output_type": "execute_result"
    },
    {
     "data": {
      "text/plain": [
       "Text(0.5, 0, 'Victim Descent')"
      ]
     },
     "execution_count": 66,
     "metadata": {},
     "output_type": "execute_result"
    },
    {
     "data": {
      "text/plain": [
       "Text(0, 0.5, 'Count')"
      ]
     },
     "execution_count": 66,
     "metadata": {},
     "output_type": "execute_result"
    },
    {
     "data": {
      "text/plain": [
       "Text(0.95, 0.95, 'B: Black or African American\\nW: White\\nH: Hispanic or Latino\\nA: Asian\\nO: Other')"
      ]
     },
     "execution_count": 66,
     "metadata": {},
     "output_type": "execute_result"
    },
    {
     "data": {
      "image/png": "[encoded data removed]",
      "text/plain": [
       "<Figure size 640x480 with 1 Axes>"
      ]
     },
     "metadata": {},
     "output_type": "display_data"
    }
   ],
   "source": [
    "victim_descent_distribution.plot(kind='bar', color='orange')\n",
    "plt.title('Distribution of Victim Descent in Burglary Cases')\n",
    "plt.xlabel('Victim Descent')\n",
    "plt.ylabel('Count')\n",
    "plt.text(0.95, 0.95, 'B: Black or African American\\nW: White\\nH: Hispanic or Latino\\nA: Asian\\nO: Other', ha='right', va='top', transform=plt.gca().transAxes)\n",
    "# for better readability, adding description of intials\n",
    "plt.show()"
   ]
  },
  {
   "cell_type": "markdown",
   "id": "0c912db2",
   "metadata": {},
   "source": [
    "Whites (W) have higher reported cases in burglary incidents, while Asians have the fewest reports.\n",
    "\n",
    "One thing we notice that, according to U.S. Census Bureau, Hispanic or Latino individuals make up about 47%, White individuals represent about 29%, Asians make up about 11%, and Black or African American individuals account for 8%. However, Asians, who are around 12%, have the lowest burglary rates. But Black people, at 8%, face higher burglary rates compared to Asians."
   ]
  },
  {
   "cell_type": "markdown",
   "id": "a739ab44",
   "metadata": {},
   "source": [
    "#### Look at the relation between Age and Sex"
   ]
  },
  {
   "cell_type": "code",
   "execution_count": 67,
   "id": "6908cc9b",
   "metadata": {},
   "outputs": [
    {
     "data": {
      "text/html": [
       "<div>\n",
       "<style scoped>\n",
       "    .dataframe tbody tr th:only-of-type {\n",
       "        vertical-align: middle;\n",
       "    }\n",
       "\n",
       "    .dataframe tbody tr th {\n",
       "        vertical-align: top;\n",
       "    }\n",
       "\n",
       "    .dataframe thead th {\n",
       "        text-align: right;\n",
       "    }\n",
       "</style>\n",
       "<table border=\"1\" class=\"dataframe\">\n",
       "  <thead>\n",
       "    <tr style=\"text-align: right;\">\n",
       "      <th></th>\n",
       "      <th>dr_no</th>\n",
       "      <th>date_rptd</th>\n",
       "      <th>date_occ</th>\n",
       "      <th>time_occ</th>\n",
       "      <th>area</th>\n",
       "      <th>area_name</th>\n",
       "      <th>rpt_dist_no</th>\n",
       "      <th>part_1_2</th>\n",
       "      <th>crm_cd</th>\n",
       "      <th>crm_cd_desc</th>\n",
       "      <th>mocodes</th>\n",
       "      <th>vict_age</th>\n",
       "      <th>premis_cd</th>\n",
       "      <th>premis_desc</th>\n",
       "      <th>weapon_used_cd</th>\n",
       "      <th>weapon_desc</th>\n",
       "      <th>status</th>\n",
       "      <th>status_desc</th>\n",
       "      <th>crm_cd_1</th>\n",
       "      <th>crm_cd_2</th>\n",
       "      <th>crm_cd_3</th>\n",
       "      <th>crm_cd_4</th>\n",
       "      <th>location</th>\n",
       "      <th>cross_street</th>\n",
       "      <th>lat</th>\n",
       "      <th>lon</th>\n",
       "      <th>vict_age_group</th>\n",
       "      <th>vict_sex_F</th>\n",
       "      <th>vict_sex_M</th>\n",
       "      <th>vict_sex_X</th>\n",
       "      <th>vict_sex_others</th>\n",
       "      <th>vict_descent_A</th>\n",
       "      <th>vict_descent_B</th>\n",
       "      <th>vict_descent_H</th>\n",
       "      <th>vict_descent_O</th>\n",
       "      <th>vict_descent_W</th>\n",
       "    </tr>\n",
       "  </thead>\n",
       "  <tbody>\n",
       "    <tr>\n",
       "      <th>0</th>\n",
       "      <td>10304468</td>\n",
       "      <td>2020-01-08</td>\n",
       "      <td>2020-01-08</td>\n",
       "      <td>2230</td>\n",
       "      <td>3</td>\n",
       "      <td>Southwest</td>\n",
       "      <td>377</td>\n",
       "      <td>2</td>\n",
       "      <td>624</td>\n",
       "      <td>BATTERY - SIMPLE ASSAULT</td>\n",
       "      <td>0444 0913</td>\n",
       "      <td>36</td>\n",
       "      <td>501.0</td>\n",
       "      <td>SINGLE FAMILY DWELLING</td>\n",
       "      <td>400.0</td>\n",
       "      <td>STRONG-ARM (HANDS, FIST, FEET OR BODILY FORCE)</td>\n",
       "      <td>AO</td>\n",
       "      <td>Adult Other</td>\n",
       "      <td>624.0</td>\n",
       "      <td>NaN</td>\n",
       "      <td>NaN</td>\n",
       "      <td>NaN</td>\n",
       "      <td>1100 W  39TH                         PL</td>\n",
       "      <td>NaN</td>\n",
       "      <td>34.0141</td>\n",
       "      <td>-118.2978</td>\n",
       "      <td>36-55</td>\n",
       "      <td>1</td>\n",
       "      <td>0</td>\n",
       "      <td>0</td>\n",
       "      <td>0</td>\n",
       "      <td>0</td>\n",
       "      <td>1</td>\n",
       "      <td>0</td>\n",
       "      <td>0</td>\n",
       "      <td>0</td>\n",
       "    </tr>\n",
       "    <tr>\n",
       "      <th>1</th>\n",
       "      <td>190101086</td>\n",
       "      <td>2020-01-02</td>\n",
       "      <td>2020-01-01</td>\n",
       "      <td>330</td>\n",
       "      <td>1</td>\n",
       "      <td>Central</td>\n",
       "      <td>163</td>\n",
       "      <td>2</td>\n",
       "      <td>624</td>\n",
       "      <td>BATTERY - SIMPLE ASSAULT</td>\n",
       "      <td>0416 1822 1414</td>\n",
       "      <td>25</td>\n",
       "      <td>102.0</td>\n",
       "      <td>SIDEWALK</td>\n",
       "      <td>500.0</td>\n",
       "      <td>UNKNOWN WEAPON/OTHER WEAPON</td>\n",
       "      <td>IC</td>\n",
       "      <td>Invest Cont</td>\n",
       "      <td>624.0</td>\n",
       "      <td>NaN</td>\n",
       "      <td>NaN</td>\n",
       "      <td>NaN</td>\n",
       "      <td>700 S  HILL                         ST</td>\n",
       "      <td>NaN</td>\n",
       "      <td>34.0459</td>\n",
       "      <td>-118.2545</td>\n",
       "      <td>19-35</td>\n",
       "      <td>0</td>\n",
       "      <td>1</td>\n",
       "      <td>0</td>\n",
       "      <td>0</td>\n",
       "      <td>0</td>\n",
       "      <td>0</td>\n",
       "      <td>1</td>\n",
       "      <td>0</td>\n",
       "      <td>0</td>\n",
       "    </tr>\n",
       "    <tr>\n",
       "      <th>2</th>\n",
       "      <td>200110444</td>\n",
       "      <td>2020-04-14</td>\n",
       "      <td>2020-02-13</td>\n",
       "      <td>1200</td>\n",
       "      <td>1</td>\n",
       "      <td>Central</td>\n",
       "      <td>155</td>\n",
       "      <td>2</td>\n",
       "      <td>845</td>\n",
       "      <td>SEX OFFENDER REGISTRANT OUT OF COMPLIANCE</td>\n",
       "      <td>1501</td>\n",
       "      <td>0</td>\n",
       "      <td>726.0</td>\n",
       "      <td>POLICE FACILITY</td>\n",
       "      <td>NaN</td>\n",
       "      <td>NaN</td>\n",
       "      <td>AA</td>\n",
       "      <td>Adult Arrest</td>\n",
       "      <td>845.0</td>\n",
       "      <td>NaN</td>\n",
       "      <td>NaN</td>\n",
       "      <td>NaN</td>\n",
       "      <td>200 E  6TH                          ST</td>\n",
       "      <td>NaN</td>\n",
       "      <td>34.0448</td>\n",
       "      <td>-118.2474</td>\n",
       "      <td>0-18</td>\n",
       "      <td>0</td>\n",
       "      <td>0</td>\n",
       "      <td>1</td>\n",
       "      <td>0</td>\n",
       "      <td>0</td>\n",
       "      <td>0</td>\n",
       "      <td>0</td>\n",
       "      <td>1</td>\n",
       "      <td>0</td>\n",
       "    </tr>\n",
       "    <tr>\n",
       "      <th>3</th>\n",
       "      <td>191501505</td>\n",
       "      <td>2020-01-01</td>\n",
       "      <td>2020-01-01</td>\n",
       "      <td>1730</td>\n",
       "      <td>15</td>\n",
       "      <td>N Hollywood</td>\n",
       "      <td>1543</td>\n",
       "      <td>2</td>\n",
       "      <td>745</td>\n",
       "      <td>VANDALISM - MISDEAMEANOR ($399 OR UNDER)</td>\n",
       "      <td>0329 1402</td>\n",
       "      <td>76</td>\n",
       "      <td>502.0</td>\n",
       "      <td>MULTI-UNIT DWELLING (APARTMENT, DUPLEX, ETC)</td>\n",
       "      <td>NaN</td>\n",
       "      <td>NaN</td>\n",
       "      <td>IC</td>\n",
       "      <td>Invest Cont</td>\n",
       "      <td>745.0</td>\n",
       "      <td>998.0</td>\n",
       "      <td>NaN</td>\n",
       "      <td>NaN</td>\n",
       "      <td>5400    CORTEEN                      PL</td>\n",
       "      <td>NaN</td>\n",
       "      <td>34.1685</td>\n",
       "      <td>-118.4019</td>\n",
       "      <td>56+</td>\n",
       "      <td>1</td>\n",
       "      <td>0</td>\n",
       "      <td>0</td>\n",
       "      <td>0</td>\n",
       "      <td>0</td>\n",
       "      <td>0</td>\n",
       "      <td>0</td>\n",
       "      <td>0</td>\n",
       "      <td>1</td>\n",
       "    </tr>\n",
       "    <tr>\n",
       "      <th>4</th>\n",
       "      <td>191921269</td>\n",
       "      <td>2020-01-01</td>\n",
       "      <td>2020-01-01</td>\n",
       "      <td>415</td>\n",
       "      <td>19</td>\n",
       "      <td>Mission</td>\n",
       "      <td>1998</td>\n",
       "      <td>2</td>\n",
       "      <td>740</td>\n",
       "      <td>VANDALISM - FELONY ($400 &amp; OVER, ALL CHURCH VA...</td>\n",
       "      <td>0329</td>\n",
       "      <td>31</td>\n",
       "      <td>409.0</td>\n",
       "      <td>BEAUTY SUPPLY STORE</td>\n",
       "      <td>NaN</td>\n",
       "      <td>NaN</td>\n",
       "      <td>IC</td>\n",
       "      <td>Invest Cont</td>\n",
       "      <td>740.0</td>\n",
       "      <td>NaN</td>\n",
       "      <td>NaN</td>\n",
       "      <td>NaN</td>\n",
       "      <td>14400    TITUS                        ST</td>\n",
       "      <td>NaN</td>\n",
       "      <td>34.2198</td>\n",
       "      <td>-118.4468</td>\n",
       "      <td>19-35</td>\n",
       "      <td>0</td>\n",
       "      <td>0</td>\n",
       "      <td>1</td>\n",
       "      <td>0</td>\n",
       "      <td>0</td>\n",
       "      <td>0</td>\n",
       "      <td>0</td>\n",
       "      <td>1</td>\n",
       "      <td>0</td>\n",
       "    </tr>\n",
       "  </tbody>\n",
       "</table>\n",
       "</div>"
      ],
      "text/plain": [
       "       dr_no   date_rptd    date_occ  time_occ  area    area_name  \\\n",
       "0   10304468  2020-01-08  2020-01-08      2230     3    Southwest   \n",
       "1  190101086  2020-01-02  2020-01-01       330     1      Central   \n",
       "2  200110444  2020-04-14  2020-02-13      1200     1      Central   \n",
       "3  191501505  2020-01-01  2020-01-01      1730    15  N Hollywood   \n",
       "4  191921269  2020-01-01  2020-01-01       415    19      Mission   \n",
       "\n",
       "   rpt_dist_no  part_1_2  crm_cd  \\\n",
       "0          377         2     624   \n",
       "1          163         2     624   \n",
       "2          155         2     845   \n",
       "3         1543         2     745   \n",
       "4         1998         2     740   \n",
       "\n",
       "                                         crm_cd_desc         mocodes  \\\n",
       "0                           BATTERY - SIMPLE ASSAULT       0444 0913   \n",
       "1                           BATTERY - SIMPLE ASSAULT  0416 1822 1414   \n",
       "2          SEX OFFENDER REGISTRANT OUT OF COMPLIANCE            1501   \n",
       "3           VANDALISM - MISDEAMEANOR ($399 OR UNDER)       0329 1402   \n",
       "4  VANDALISM - FELONY ($400 & OVER, ALL CHURCH VA...            0329   \n",
       "\n",
       "   vict_age  premis_cd                                   premis_desc  \\\n",
       "0        36      501.0                        SINGLE FAMILY DWELLING   \n",
       "1        25      102.0                                      SIDEWALK   \n",
       "2         0      726.0                               POLICE FACILITY   \n",
       "3        76      502.0  MULTI-UNIT DWELLING (APARTMENT, DUPLEX, ETC)   \n",
       "4        31      409.0                           BEAUTY SUPPLY STORE   \n",
       "\n",
       "   weapon_used_cd                                     weapon_desc status  \\\n",
       "0           400.0  STRONG-ARM (HANDS, FIST, FEET OR BODILY FORCE)     AO   \n",
       "1           500.0                     UNKNOWN WEAPON/OTHER WEAPON     IC   \n",
       "2             NaN                                             NaN     AA   \n",
       "3             NaN                                             NaN     IC   \n",
       "4             NaN                                             NaN     IC   \n",
       "\n",
       "    status_desc  crm_cd_1  crm_cd_2  crm_cd_3  crm_cd_4  \\\n",
       "0   Adult Other     624.0       NaN       NaN       NaN   \n",
       "1   Invest Cont     624.0       NaN       NaN       NaN   \n",
       "2  Adult Arrest     845.0       NaN       NaN       NaN   \n",
       "3   Invest Cont     745.0     998.0       NaN       NaN   \n",
       "4   Invest Cont     740.0       NaN       NaN       NaN   \n",
       "\n",
       "                                   location cross_street      lat       lon  \\\n",
       "0   1100 W  39TH                         PL          NaN  34.0141 -118.2978   \n",
       "1    700 S  HILL                         ST          NaN  34.0459 -118.2545   \n",
       "2    200 E  6TH                          ST          NaN  34.0448 -118.2474   \n",
       "3   5400    CORTEEN                      PL          NaN  34.1685 -118.4019   \n",
       "4  14400    TITUS                        ST          NaN  34.2198 -118.4468   \n",
       "\n",
       "  vict_age_group  vict_sex_F  vict_sex_M  vict_sex_X  vict_sex_others  \\\n",
       "0          36-55           1           0           0                0   \n",
       "1          19-35           0           1           0                0   \n",
       "2           0-18           0           0           1                0   \n",
       "3            56+           1           0           0                0   \n",
       "4          19-35           0           0           1                0   \n",
       "\n",
       "   vict_descent_A  vict_descent_B  vict_descent_H  vict_descent_O  \\\n",
       "0               0               1               0               0   \n",
       "1               0               0               1               0   \n",
       "2               0               0               0               1   \n",
       "3               0               0               0               0   \n",
       "4               0               0               0               1   \n",
       "\n",
       "   vict_descent_W  \n",
       "0               0  \n",
       "1               0  \n",
       "2               0  \n",
       "3               1  \n",
       "4               0  "
      ]
     },
     "execution_count": 67,
     "metadata": {},
     "output_type": "execute_result"
    },
    {
     "data": {
      "text/html": [
       "<div>\n",
       "<style scoped>\n",
       "    .dataframe tbody tr th:only-of-type {\n",
       "        vertical-align: middle;\n",
       "    }\n",
       "\n",
       "    .dataframe tbody tr th {\n",
       "        vertical-align: top;\n",
       "    }\n",
       "\n",
       "    .dataframe thead th {\n",
       "        text-align: right;\n",
       "    }\n",
       "</style>\n",
       "<table border=\"1\" class=\"dataframe\">\n",
       "  <thead>\n",
       "    <tr style=\"text-align: right;\">\n",
       "      <th></th>\n",
       "      <th>vict_age_group</th>\n",
       "      <th>vict_sex_F</th>\n",
       "      <th>vict_sex_M</th>\n",
       "      <th>vict_sex_X</th>\n",
       "      <th>vict_sex_others</th>\n",
       "    </tr>\n",
       "  </thead>\n",
       "  <tbody>\n",
       "    <tr>\n",
       "      <th>0</th>\n",
       "      <td>0-18</td>\n",
       "      <td>15920</td>\n",
       "      <td>35949</td>\n",
       "      <td>63742</td>\n",
       "      <td>107167</td>\n",
       "    </tr>\n",
       "    <tr>\n",
       "      <th>1</th>\n",
       "      <td>19-35</td>\n",
       "      <td>127359</td>\n",
       "      <td>115211</td>\n",
       "      <td>6426</td>\n",
       "      <td>59</td>\n",
       "    </tr>\n",
       "    <tr>\n",
       "      <th>2</th>\n",
       "      <td>36-55</td>\n",
       "      <td>106978</td>\n",
       "      <td>122668</td>\n",
       "      <td>570</td>\n",
       "      <td>39</td>\n",
       "    </tr>\n",
       "    <tr>\n",
       "      <th>3</th>\n",
       "      <td>56+</td>\n",
       "      <td>50345</td>\n",
       "      <td>63222</td>\n",
       "      <td>209</td>\n",
       "      <td>18</td>\n",
       "    </tr>\n",
       "  </tbody>\n",
       "</table>\n",
       "</div>"
      ],
      "text/plain": [
       "  vict_age_group  vict_sex_F  vict_sex_M  vict_sex_X  vict_sex_others\n",
       "0           0-18       15920       35949       63742           107167\n",
       "1          19-35      127359      115211        6426               59\n",
       "2          36-55      106978      122668         570               39\n",
       "3            56+       50345       63222         209               18"
      ]
     },
     "execution_count": 67,
     "metadata": {},
     "output_type": "execute_result"
    }
   ],
   "source": [
    "df3 = pd.get_dummies(df3, columns=['vict_sex', 'vict_descent'])\n",
    "df3.head()\n",
    "df3.groupby(['vict_age_group']).\\\n",
    "    agg({'vict_sex_F': 'sum', 'vict_sex_M': 'sum', 'vict_sex_X': 'sum', 'vict_sex_others': 'sum'}).reset_index()"
   ]
  },
  {
   "cell_type": "code",
   "execution_count": 68,
   "id": "2d08f2e7",
   "metadata": {},
   "outputs": [
    {
     "name": "stdout",
     "output_type": "stream",
     "text": [
      "  vict_age_group  vict_sex_F  vict_sex_M  vict_sex_X  vict_sex_others   total  \\\n",
      "0           0-18       15920       35949       63742           107167  222778   \n",
      "1          19-35      127359      115211        6426               59  249055   \n",
      "2          36-55      106978      122668         570               39  230255   \n",
      "3            56+       50345       63222         209               18  113794   \n",
      "\n",
      "   vict_sex_F_percent  vict_sex_M_percent  vict_sex_X_percent  \\\n",
      "0            7.146128           16.136692           28.612341   \n",
      "1           51.136897           46.259260            2.580153   \n",
      "2           46.460663           53.274847            0.247552   \n",
      "3           44.242227           55.558290            0.183665   \n",
      "\n",
      "   vict_sex_others_percent  \n",
      "0                48.104840  \n",
      "1                 0.023690  \n",
      "2                 0.016938  \n",
      "3                 0.015818  \n"
     ]
    }
   ],
   "source": [
    "# group by vict_age_group and aggregate the sum for each gender category\n",
    "aggregated_age_sex_data = df3.groupby(['vict_age_group']).agg({\n",
    "    'vict_sex_F': 'sum',\n",
    "    'vict_sex_M': 'sum',\n",
    "    'vict_sex_X': 'sum',\n",
    "    'vict_sex_others': 'sum'\n",
    "}).reset_index()\n",
    "\n",
    "# calculate total for each age group\n",
    "aggregated_age_sex_data['total'] = aggregated_age_sex_data['vict_sex_F'] + aggregated_age_sex_data['vict_sex_M'] + aggregated_age_sex_data['vict_sex_X'] + aggregated_age_sex_data['vict_sex_others']\n",
    "# calculate percentages for each gender category\n",
    "aggregated_age_sex_data['vict_sex_F_percent'] = (aggregated_age_sex_data['vict_sex_F'] / aggregated_age_sex_data['total']) * 100\n",
    "aggregated_age_sex_data['vict_sex_M_percent'] = (aggregated_age_sex_data['vict_sex_M'] / aggregated_age_sex_data['total']) * 100\n",
    "aggregated_age_sex_data['vict_sex_X_percent'] = (aggregated_age_sex_data['vict_sex_X'] / aggregated_age_sex_data['total']) * 100\n",
    "aggregated_age_sex_data['vict_sex_others_percent'] = (aggregated_age_sex_data['vict_sex_others'] / aggregated_age_sex_data['total']) * 100\n",
    "\n",
    "print(aggregated_age_sex_data)"
   ]
  },
  {
   "cell_type": "code",
   "execution_count": 69,
   "id": "1d3744dd",
   "metadata": {},
   "outputs": [
    {
     "data": {
      "text/plain": [
       "<Axes: >"
      ]
     },
     "execution_count": 69,
     "metadata": {},
     "output_type": "execute_result"
    },
    {
     "data": {
      "text/plain": [
       "Text(0.5, 0, 'Age Group')"
      ]
     },
     "execution_count": 69,
     "metadata": {},
     "output_type": "execute_result"
    },
    {
     "data": {
      "text/plain": [
       "([<matplotlib.axis.XTick at 0x2a41ecdd0>,\n",
       "  <matplotlib.axis.XTick at 0x2a41d39d0>,\n",
       "  <matplotlib.axis.XTick at 0x2a41c8cd0>,\n",
       "  <matplotlib.axis.XTick at 0x2a4170110>],\n",
       " [Text(0, 0, '0-18'),\n",
       "  Text(1, 0, '19-35'),\n",
       "  Text(2, 0, '36-55'),\n",
       "  Text(3, 0, '56+')])"
      ]
     },
     "execution_count": 69,
     "metadata": {},
     "output_type": "execute_result"
    },
    {
     "data": {
      "text/plain": [
       "Text(0, 0.5, 'Percentage')"
      ]
     },
     "execution_count": 69,
     "metadata": {},
     "output_type": "execute_result"
    },
    {
     "data": {
      "text/plain": [
       "Text(0.5, 1.0, 'Percentage of Sex Categories within Age Groups')"
      ]
     },
     "execution_count": 69,
     "metadata": {},
     "output_type": "execute_result"
    },
    {
     "data": {
      "text/plain": [
       "<matplotlib.legend.Legend at 0x2a4af20d0>"
      ]
     },
     "execution_count": 69,
     "metadata": {},
     "output_type": "execute_result"
    },
    {
     "data": {
      "image/png": "[encoded data removed]",
      "text/plain": [
       "<Figure size 1000x400 with 1 Axes>"
      ]
     },
     "metadata": {},
     "output_type": "display_data"
    }
   ],
   "source": [
    "# plot only the percentages of sex categories within age groups as a bar chart; excluding \"others\" in the chart.\n",
    "aggregated_age_sex_data[['vict_sex_F_percent', 'vict_sex_M_percent', 'vict_sex_X_percent']].plot(kind='bar',\n",
    "                                                                                                      figsize=(10, 4))\n",
    "plt.xlabel('Age Group')\n",
    "plt.xticks(range(len(aggregated_age_sex_data)), labels)  # set custom labels on the x-axis\n",
    "plt.ylabel('Percentage')\n",
    "plt.title('Percentage of Sex Categories within Age Groups')\n",
    "plt.legend(['Female', 'Male', 'Sex_X'])\n",
    "plt.show()"
   ]
  },
  {
   "cell_type": "markdown",
   "id": "3a7ebac2",
   "metadata": {},
   "source": [
    "- The percentage of victims classified under gender 'X' is highest in the youngest age group (0-18) and diminishes significantly as age increases. \n",
    "- Females constitute the majority of victims within the 19-35 age group, indicating a potential vulnerability or targeted nature of certain crimes towards this demographic."
   ]
  },
  {
   "cell_type": "markdown",
   "id": "ea7faf74",
   "metadata": {},
   "source": [
    "#### Look at the relation between Age and Race"
   ]
  },
  {
   "cell_type": "code",
   "execution_count": 70,
   "id": "5c3679d1",
   "metadata": {},
   "outputs": [
    {
     "data": {
      "text/html": [
       "<div>\n",
       "<style scoped>\n",
       "    .dataframe tbody tr th:only-of-type {\n",
       "        vertical-align: middle;\n",
       "    }\n",
       "\n",
       "    .dataframe tbody tr th {\n",
       "        vertical-align: top;\n",
       "    }\n",
       "\n",
       "    .dataframe thead th {\n",
       "        text-align: right;\n",
       "    }\n",
       "</style>\n",
       "<table border=\"1\" class=\"dataframe\">\n",
       "  <thead>\n",
       "    <tr style=\"text-align: right;\">\n",
       "      <th></th>\n",
       "      <th>vict_age_group</th>\n",
       "      <th>vict_descent_A</th>\n",
       "      <th>vict_descent_B</th>\n",
       "      <th>vict_descent_H</th>\n",
       "      <th>vict_descent_O</th>\n",
       "      <th>vict_descent_W</th>\n",
       "    </tr>\n",
       "  </thead>\n",
       "  <tbody>\n",
       "    <tr>\n",
       "      <th>0</th>\n",
       "      <td>0-18</td>\n",
       "      <td>532</td>\n",
       "      <td>5459</td>\n",
       "      <td>18362</td>\n",
       "      <td>184527</td>\n",
       "      <td>13898</td>\n",
       "    </tr>\n",
       "    <tr>\n",
       "      <th>1</th>\n",
       "      <td>19-35</td>\n",
       "      <td>6777</td>\n",
       "      <td>48168</td>\n",
       "      <td>107180</td>\n",
       "      <td>33894</td>\n",
       "      <td>53036</td>\n",
       "    </tr>\n",
       "    <tr>\n",
       "      <th>2</th>\n",
       "      <td>36-55</td>\n",
       "      <td>6183</td>\n",
       "      <td>40402</td>\n",
       "      <td>93278</td>\n",
       "      <td>31534</td>\n",
       "      <td>58858</td>\n",
       "    </tr>\n",
       "    <tr>\n",
       "      <th>3</th>\n",
       "      <td>56+</td>\n",
       "      <td>4371</td>\n",
       "      <td>22329</td>\n",
       "      <td>31630</td>\n",
       "      <td>14858</td>\n",
       "      <td>40606</td>\n",
       "    </tr>\n",
       "  </tbody>\n",
       "</table>\n",
       "</div>"
      ],
      "text/plain": [
       "  vict_age_group  vict_descent_A  vict_descent_B  vict_descent_H  \\\n",
       "0           0-18             532            5459           18362   \n",
       "1          19-35            6777           48168          107180   \n",
       "2          36-55            6183           40402           93278   \n",
       "3            56+            4371           22329           31630   \n",
       "\n",
       "   vict_descent_O  vict_descent_W  \n",
       "0          184527           13898  \n",
       "1           33894           53036  \n",
       "2           31534           58858  \n",
       "3           14858           40606  "
      ]
     },
     "execution_count": 70,
     "metadata": {},
     "output_type": "execute_result"
    }
   ],
   "source": [
    "df3.groupby(['vict_age_group']).\\\n",
    "    agg({'vict_descent_A': 'sum', 'vict_descent_B': 'sum', 'vict_descent_H': 'sum', 'vict_descent_O': 'sum', 'vict_descent_W': 'sum'}).reset_index()"
   ]
  },
  {
   "cell_type": "code",
   "execution_count": 71,
   "id": "e52c875b",
   "metadata": {},
   "outputs": [
    {
     "name": "stdout",
     "output_type": "stream",
     "text": [
      "  vict_age_group  vict_descent_A  vict_descent_B  vict_descent_H  \\\n",
      "0           0-18             532            5459           18362   \n",
      "1          19-35            6777           48168          107180   \n",
      "2          36-55            6183           40402           93278   \n",
      "3            56+            4371           22329           31630   \n",
      "\n",
      "   vict_descent_O  vict_descent_W   total  vict_descent_A_percent  \\\n",
      "0          184527           13898  222778                0.238803   \n",
      "1           33894           53036  249055                2.721086   \n",
      "2           31534           58858  230255                2.685284   \n",
      "3           14858           40606  113794                3.841152   \n",
      "\n",
      "   vict_descent_B_percent  vict_descent_H_percent  vict_descent_O_percent  \\\n",
      "0                2.450421                8.242286               82.829992   \n",
      "1               19.340306               43.034671               13.609042   \n",
      "2               17.546633               40.510738               13.695251   \n",
      "3               19.622300               27.795842               13.056927   \n",
      "\n",
      "   vict_descent_W_percent  \n",
      "0                6.238498  \n",
      "1               21.294895  \n",
      "2               25.562094  \n",
      "3               35.683779  \n"
     ]
    }
   ],
   "source": [
    "# group by vict_age_group and aggregate the sum for each descent category\n",
    "aggregated_age_descent_data = df3.groupby(['vict_age_group']).agg({\n",
    "    'vict_descent_A': 'sum',\n",
    "    'vict_descent_B': 'sum',\n",
    "    'vict_descent_H': 'sum',\n",
    "    'vict_descent_O': 'sum',\n",
    "    'vict_descent_W': 'sum'\n",
    "}).reset_index()\n",
    "\n",
    "# calculate total for each age group\n",
    "aggregated_age_descent_data['total'] = aggregated_age_descent_data[\n",
    "    ['vict_descent_A', 'vict_descent_B', 'vict_descent_H', 'vict_descent_O', 'vict_descent_W']\n",
    "].sum(axis=1)\n",
    "\n",
    "# calculate percentages for each descent category\n",
    "for column in ['vict_descent_A', 'vict_descent_B', 'vict_descent_H', 'vict_descent_O', 'vict_descent_W']:\n",
    "    percentage_column_name = f'{column}_percent'\n",
    "    aggregated_age_descent_data[percentage_column_name] = (\n",
    "        aggregated_age_descent_data[column] / aggregated_age_descent_data['total'] * 100\n",
    "    )\n",
    "\n",
    "print(aggregated_age_descent_data)"
   ]
  },
  {
   "cell_type": "code",
   "execution_count": 72,
   "id": "9c35a8f4",
   "metadata": {},
   "outputs": [
    {
     "data": {
      "text/plain": [
       "<Axes: >"
      ]
     },
     "execution_count": 72,
     "metadata": {},
     "output_type": "execute_result"
    },
    {
     "data": {
      "text/plain": [
       "Text(0.5, 0, 'Age Group')"
      ]
     },
     "execution_count": 72,
     "metadata": {},
     "output_type": "execute_result"
    },
    {
     "data": {
      "text/plain": [
       "([<matplotlib.axis.XTick at 0x2a411a550>,\n",
       "  <matplotlib.axis.XTick at 0x2a40d02d0>,\n",
       "  <matplotlib.axis.XTick at 0x2a408b410>,\n",
       "  <matplotlib.axis.XTick at 0x2a4069710>],\n",
       " [Text(0, 0, '0-18'),\n",
       "  Text(1, 0, '19-35'),\n",
       "  Text(2, 0, '36-55'),\n",
       "  Text(3, 0, '56+')])"
      ]
     },
     "execution_count": 72,
     "metadata": {},
     "output_type": "execute_result"
    },
    {
     "data": {
      "text/plain": [
       "Text(0, 0.5, 'Percentage')"
      ]
     },
     "execution_count": 72,
     "metadata": {},
     "output_type": "execute_result"
    },
    {
     "data": {
      "text/plain": [
       "Text(0.5, 1.0, 'Percentage of Descent Categories within Age Groups')"
      ]
     },
     "execution_count": 72,
     "metadata": {},
     "output_type": "execute_result"
    },
    {
     "data": {
      "text/plain": [
       "<matplotlib.legend.Legend at 0x2a3d43950>"
      ]
     },
     "execution_count": 72,
     "metadata": {},
     "output_type": "execute_result"
    },
    {
     "data": {
      "image/png": "[encoded data removed]",
      "text/plain": [
       "<Figure size 1000x400 with 1 Axes>"
      ]
     },
     "metadata": {},
     "output_type": "display_data"
    }
   ],
   "source": [
    "# plot only the percentages of descent categories within age groups as a bar chart\n",
    "aggregated_age_descent_data[['vict_descent_A_percent', 'vict_descent_B_percent', 'vict_descent_H_percent', 'vict_descent_O_percent', 'vict_descent_W_percent']].plot(kind='bar',\n",
    "                                                                                                                                                figsize=(10, 4))\n",
    "plt.xlabel('Age Group')\n",
    "plt.xticks(range(len(aggregated_age_descent_data)), labels)  # Set custom labels on the x-axis\n",
    "plt.ylabel('Percentage')\n",
    "plt.title('Percentage of Descent Categories within Age Groups')\n",
    "plt.legend(['A: Asian', 'B: Black or African American', 'H: Hispanic or Latino', 'O: Other', 'W: White'])\n",
    "#plt.legend(['A', 'B', 'H', 'O', 'W'])\n",
    "\n",
    "plt.tight_layout()\n",
    "plt.show()"
   ]
  },
  {
   "cell_type": "markdown",
   "id": "d42585aa",
   "metadata": {},
   "source": [
    "- 'Hispanic or Latino' ('H') and 'White' ('W') categories show prominence across multiple age groups, with varying degrees of dominance depending on the age bracket.\n",
    "- The 'Other' category ('O') is notably dominant among younger victims (0-18 age group), which might indicate a distinct reporting pattern or a diverse range of ethnicities within this age category.\n",
    "- Across all age groups, the 'A: Asian' ethnic category consistently represents a minority among victims, with percentages ranging from 0.24% to 3.84%. Also, the 'A: Asian' ethnic category maintains a relatively consistent presence within the victim demographics across different age cohorts."
   ]
  },
  {
   "cell_type": "markdown",
   "id": "5cff5c59",
   "metadata": {},
   "source": [
    "Limitation: One of the limitations here is that the dataset lacks categorization for individuals of mixed races, potentially leading to a misrepresentation of minority groups."
   ]
  },
  {
   "cell_type": "markdown",
   "id": "6e090b84",
   "metadata": {},
   "source": [
    "### ML Prediction"
   ]
  },
  {
   "cell_type": "markdown",
   "id": "e2e11469",
   "metadata": {},
   "source": [
    "##### Background information: \n",
    "*Part 1 Crimes* are designated by the Federal Bureau of Investigation (FBI) as ten serious crimes that occur on a regular basis, have a uniformity of definition, large volume, and a high likelihood of being reported. Part 1 Crimes fall into two categories: violent crimes and property crimes.\n",
    "\n",
    "### Prediction: Based on victims' age, sex and descent, how likely they would be involved in severe/Part 1 crimes?"
   ]
  },
  {
   "cell_type": "code",
   "execution_count": 73,
   "id": "b282e1f7",
   "metadata": {
    "scrolled": true
   },
   "outputs": [
    {
     "data": {
      "text/html": [
       "<div>\n",
       "<style scoped>\n",
       "    .dataframe tbody tr th:only-of-type {\n",
       "        vertical-align: middle;\n",
       "    }\n",
       "\n",
       "    .dataframe tbody tr th {\n",
       "        vertical-align: top;\n",
       "    }\n",
       "\n",
       "    .dataframe thead th {\n",
       "        text-align: right;\n",
       "    }\n",
       "</style>\n",
       "<table border=\"1\" class=\"dataframe\">\n",
       "  <thead>\n",
       "    <tr style=\"text-align: right;\">\n",
       "      <th></th>\n",
       "      <th>dr_no</th>\n",
       "      <th>date_rptd</th>\n",
       "      <th>date_occ</th>\n",
       "      <th>time_occ</th>\n",
       "      <th>area</th>\n",
       "      <th>area_name</th>\n",
       "      <th>rpt_dist_no</th>\n",
       "      <th>part_1_2</th>\n",
       "      <th>crm_cd</th>\n",
       "      <th>crm_cd_desc</th>\n",
       "      <th>mocodes</th>\n",
       "      <th>vict_age</th>\n",
       "      <th>vict_sex</th>\n",
       "      <th>vict_descent</th>\n",
       "      <th>premis_cd</th>\n",
       "      <th>premis_desc</th>\n",
       "      <th>weapon_used_cd</th>\n",
       "      <th>weapon_desc</th>\n",
       "      <th>status</th>\n",
       "      <th>status_desc</th>\n",
       "      <th>crm_cd_1</th>\n",
       "      <th>crm_cd_2</th>\n",
       "      <th>crm_cd_3</th>\n",
       "      <th>crm_cd_4</th>\n",
       "      <th>location</th>\n",
       "      <th>cross_street</th>\n",
       "      <th>lat</th>\n",
       "      <th>lon</th>\n",
       "    </tr>\n",
       "  </thead>\n",
       "  <tbody>\n",
       "    <tr>\n",
       "      <th>0</th>\n",
       "      <td>10304468</td>\n",
       "      <td>2020-01-08</td>\n",
       "      <td>2020-01-08</td>\n",
       "      <td>2230</td>\n",
       "      <td>3</td>\n",
       "      <td>Southwest</td>\n",
       "      <td>377</td>\n",
       "      <td>2</td>\n",
       "      <td>624</td>\n",
       "      <td>BATTERY - SIMPLE ASSAULT</td>\n",
       "      <td>0444 0913</td>\n",
       "      <td>36</td>\n",
       "      <td>F</td>\n",
       "      <td>B</td>\n",
       "      <td>501.0</td>\n",
       "      <td>SINGLE FAMILY DWELLING</td>\n",
       "      <td>400.0</td>\n",
       "      <td>STRONG-ARM (HANDS, FIST, FEET OR BODILY FORCE)</td>\n",
       "      <td>AO</td>\n",
       "      <td>Adult Other</td>\n",
       "      <td>624.0</td>\n",
       "      <td>NaN</td>\n",
       "      <td>NaN</td>\n",
       "      <td>NaN</td>\n",
       "      <td>1100 W  39TH                         PL</td>\n",
       "      <td>NaN</td>\n",
       "      <td>34.0141</td>\n",
       "      <td>-118.2978</td>\n",
       "    </tr>\n",
       "    <tr>\n",
       "      <th>1</th>\n",
       "      <td>190101086</td>\n",
       "      <td>2020-01-02</td>\n",
       "      <td>2020-01-01</td>\n",
       "      <td>330</td>\n",
       "      <td>1</td>\n",
       "      <td>Central</td>\n",
       "      <td>163</td>\n",
       "      <td>2</td>\n",
       "      <td>624</td>\n",
       "      <td>BATTERY - SIMPLE ASSAULT</td>\n",
       "      <td>0416 1822 1414</td>\n",
       "      <td>25</td>\n",
       "      <td>M</td>\n",
       "      <td>H</td>\n",
       "      <td>102.0</td>\n",
       "      <td>SIDEWALK</td>\n",
       "      <td>500.0</td>\n",
       "      <td>UNKNOWN WEAPON/OTHER WEAPON</td>\n",
       "      <td>IC</td>\n",
       "      <td>Invest Cont</td>\n",
       "      <td>624.0</td>\n",
       "      <td>NaN</td>\n",
       "      <td>NaN</td>\n",
       "      <td>NaN</td>\n",
       "      <td>700 S  HILL                         ST</td>\n",
       "      <td>NaN</td>\n",
       "      <td>34.0459</td>\n",
       "      <td>-118.2545</td>\n",
       "    </tr>\n",
       "  </tbody>\n",
       "</table>\n",
       "</div>"
      ],
      "text/plain": [
       "       dr_no   date_rptd    date_occ  time_occ  area  area_name  rpt_dist_no  \\\n",
       "0   10304468  2020-01-08  2020-01-08      2230     3  Southwest          377   \n",
       "1  190101086  2020-01-02  2020-01-01       330     1    Central          163   \n",
       "\n",
       "   part_1_2  crm_cd               crm_cd_desc         mocodes  vict_age  \\\n",
       "0         2     624  BATTERY - SIMPLE ASSAULT       0444 0913        36   \n",
       "1         2     624  BATTERY - SIMPLE ASSAULT  0416 1822 1414        25   \n",
       "\n",
       "  vict_sex vict_descent  premis_cd             premis_desc  weapon_used_cd  \\\n",
       "0        F            B      501.0  SINGLE FAMILY DWELLING           400.0   \n",
       "1        M            H      102.0                SIDEWALK           500.0   \n",
       "\n",
       "                                      weapon_desc status  status_desc  \\\n",
       "0  STRONG-ARM (HANDS, FIST, FEET OR BODILY FORCE)     AO  Adult Other   \n",
       "1                     UNKNOWN WEAPON/OTHER WEAPON     IC  Invest Cont   \n",
       "\n",
       "   crm_cd_1  crm_cd_2  crm_cd_3  crm_cd_4  \\\n",
       "0     624.0       NaN       NaN       NaN   \n",
       "1     624.0       NaN       NaN       NaN   \n",
       "\n",
       "                                  location cross_street      lat       lon  \n",
       "0  1100 W  39TH                         PL          NaN  34.0141 -118.2978  \n",
       "1   700 S  HILL                         ST          NaN  34.0459 -118.2545  "
      ]
     },
     "execution_count": 73,
     "metadata": {},
     "output_type": "execute_result"
    }
   ],
   "source": [
    "df4 = df.copy()\n",
    "df4.head(2)"
   ]
  },
  {
   "cell_type": "code",
   "execution_count": 74,
   "id": "344b85d0",
   "metadata": {},
   "outputs": [
    {
     "name": "stdout",
     "output_type": "stream",
     "text": [
      "Group: 1\n",
      "['RAPE, FORCIBLE' 'SHOPLIFTING - PETTY THEFT ($950 & UNDER)'\n",
      " 'THEFT-GRAND ($950.01 & OVER)EXCPT,GUNS,FOWL,LIVESTK,PROD'\n",
      " 'BURGLARY FROM VEHICLE' 'ARSON' 'THEFT PLAIN - PETTY ($950 & UNDER)'\n",
      " 'ROBBERY' 'ASSAULT WITH DEADLY WEAPON, AGGRAVATED ASSAULT' 'BURGLARY'\n",
      " 'VEHICLE - STOLEN']\n",
      "\n",
      "\n",
      "Group: 2\n",
      "['BATTERY - SIMPLE ASSAULT' 'SEX OFFENDER REGISTRANT OUT OF COMPLIANCE'\n",
      " 'VANDALISM - MISDEAMEANOR ($399 OR UNDER)'\n",
      " 'VANDALISM - FELONY ($400 & OVER, ALL CHURCH VANDALISMS)'\n",
      " 'OTHER MISCELLANEOUS CRIME' 'CRIMINAL THREATS - NO WEAPON DISPLAYED'\n",
      " 'INTIMATE PARTNER - SIMPLE ASSAULT' 'THEFT OF IDENTITY'\n",
      " 'BUNCO, GRAND THEFT' 'BATTERY WITH SEXUAL CONTACT']\n",
      "\n",
      "\n"
     ]
    }
   ],
   "source": [
    "grouped_unique_values = df4.groupby(\"part_1_2\").crm_cd_desc.unique()\n",
    "# Convert the Pandas Series to a list and print\n",
    "for group_name, unique_values in grouped_unique_values.items():\n",
    "    print(f\"Group: {group_name}\")\n",
    "    print(unique_values[:10])  # Display the first 10 unique values for each group\n",
    "    print(\"\\n\")"
   ]
  },
  {
   "cell_type": "code",
   "execution_count": 75,
   "id": "b91af769",
   "metadata": {},
   "outputs": [
    {
     "data": {
      "text/html": [
       "<div>\n",
       "<style scoped>\n",
       "    .dataframe tbody tr th:only-of-type {\n",
       "        vertical-align: middle;\n",
       "    }\n",
       "\n",
       "    .dataframe tbody tr th {\n",
       "        vertical-align: top;\n",
       "    }\n",
       "\n",
       "    .dataframe thead th {\n",
       "        text-align: right;\n",
       "    }\n",
       "</style>\n",
       "<table border=\"1\" class=\"dataframe\">\n",
       "  <thead>\n",
       "    <tr style=\"text-align: right;\">\n",
       "      <th></th>\n",
       "      <th>part_1_2</th>\n",
       "      <th>vict_age</th>\n",
       "      <th>vict_sex</th>\n",
       "      <th>vict_descent</th>\n",
       "    </tr>\n",
       "  </thead>\n",
       "  <tbody>\n",
       "    <tr>\n",
       "      <th>0</th>\n",
       "      <td>2</td>\n",
       "      <td>36</td>\n",
       "      <td>F</td>\n",
       "      <td>B</td>\n",
       "    </tr>\n",
       "    <tr>\n",
       "      <th>1</th>\n",
       "      <td>2</td>\n",
       "      <td>25</td>\n",
       "      <td>M</td>\n",
       "      <td>H</td>\n",
       "    </tr>\n",
       "    <tr>\n",
       "      <th>2</th>\n",
       "      <td>2</td>\n",
       "      <td>0</td>\n",
       "      <td>X</td>\n",
       "      <td>X</td>\n",
       "    </tr>\n",
       "    <tr>\n",
       "      <th>3</th>\n",
       "      <td>2</td>\n",
       "      <td>76</td>\n",
       "      <td>F</td>\n",
       "      <td>W</td>\n",
       "    </tr>\n",
       "    <tr>\n",
       "      <th>4</th>\n",
       "      <td>2</td>\n",
       "      <td>31</td>\n",
       "      <td>X</td>\n",
       "      <td>X</td>\n",
       "    </tr>\n",
       "  </tbody>\n",
       "</table>\n",
       "</div>"
      ],
      "text/plain": [
       "   part_1_2  vict_age vict_sex vict_descent\n",
       "0         2        36        F            B\n",
       "1         2        25        M            H\n",
       "2         2         0        X            X\n",
       "3         2        76        F            W\n",
       "4         2        31        X            X"
      ]
     },
     "execution_count": 75,
     "metadata": {},
     "output_type": "execute_result"
    },
    {
     "data": {
      "text/plain": [
       "array(['F', 'M', 'X', 'others'], dtype=object)"
      ]
     },
     "execution_count": 75,
     "metadata": {},
     "output_type": "execute_result"
    },
    {
     "data": {
      "text/plain": [
       "array(['B', 'H', 'O', 'W', 'A'], dtype=object)"
      ]
     },
     "execution_count": 75,
     "metadata": {},
     "output_type": "execute_result"
    }
   ],
   "source": [
    "dfml = df.copy().drop(columns = ['weapon_desc','dr_no','date_rptd','date_occ','time_occ','area','area_name','rpt_dist_no','crm_cd','crm_cd_desc','mocodes','premis_cd','premis_desc','weapon_used_cd','crm_cd_1','crm_cd_2','crm_cd_3','crm_cd_4','location','cross_street','lat','lon','status','status_desc'])\n",
    "#dfml.weapon_desc.fillna(value='Unknown',inplace=True)\n",
    "dfml.head()\n",
    "# for 'vict_sex' column, replace nan, 'H', '-' with the letter 'others'\n",
    "dfml['vict_sex'].fillna('others', inplace=True)\n",
    "dfml['vict_sex'].replace({'H': 'others', '-': 'others'}, inplace=True)\n",
    "\n",
    "# for 'Vict Descent' column, replace everything except 'B', 'W', 'H' and 'A' with the letter 'O'\n",
    "# B: Black or African American, W: White, H: Hispanic or Latino, A: Asian, O: Other\n",
    "def categorized_descent(descent):\n",
    "    if descent in ['B', 'W', 'H', 'A']:\n",
    "        return descent\n",
    "    else:\n",
    "        return 'O'\n",
    "dfml['vict_descent'] = dfml['vict_descent'].apply(categorized_descent)\n",
    "\n",
    "dfml.vict_sex.unique()\n",
    "dfml.vict_descent.unique()"
   ]
  },
  {
   "cell_type": "code",
   "execution_count": 76,
   "id": "60e6f01d",
   "metadata": {},
   "outputs": [
    {
     "data": {
      "text/plain": [
       "0.5860724957775757"
      ]
     },
     "execution_count": 76,
     "metadata": {},
     "output_type": "execute_result"
    }
   ],
   "source": [
    "# generate partBin variable. 1 if part_1_2=1; 0 otherwise.\n",
    "dfml['partBin'] = (dfml.part_1_2 ==1)+0.0\n",
    "dfml.partBin.mean()"
   ]
  },
  {
   "cell_type": "code",
   "execution_count": 77,
   "id": "1f755dd8",
   "metadata": {},
   "outputs": [
    {
     "data": {
      "text/html": [
       "<div>\n",
       "<style scoped>\n",
       "    .dataframe tbody tr th:only-of-type {\n",
       "        vertical-align: middle;\n",
       "    }\n",
       "\n",
       "    .dataframe tbody tr th {\n",
       "        vertical-align: top;\n",
       "    }\n",
       "\n",
       "    .dataframe thead th {\n",
       "        text-align: right;\n",
       "    }\n",
       "</style>\n",
       "<table border=\"1\" class=\"dataframe\">\n",
       "  <thead>\n",
       "    <tr style=\"text-align: right;\">\n",
       "      <th></th>\n",
       "      <th>part_1_2</th>\n",
       "      <th>vict_age</th>\n",
       "      <th>partBin</th>\n",
       "      <th>vict_sex_F</th>\n",
       "      <th>vict_sex_M</th>\n",
       "      <th>vict_sex_X</th>\n",
       "      <th>vict_sex_others</th>\n",
       "      <th>vict_descent_A</th>\n",
       "      <th>vict_descent_B</th>\n",
       "      <th>vict_descent_H</th>\n",
       "      <th>vict_descent_O</th>\n",
       "      <th>vict_descent_W</th>\n",
       "    </tr>\n",
       "  </thead>\n",
       "  <tbody>\n",
       "    <tr>\n",
       "      <th>0</th>\n",
       "      <td>2</td>\n",
       "      <td>36</td>\n",
       "      <td>0.0</td>\n",
       "      <td>1</td>\n",
       "      <td>0</td>\n",
       "      <td>0</td>\n",
       "      <td>0</td>\n",
       "      <td>0</td>\n",
       "      <td>1</td>\n",
       "      <td>0</td>\n",
       "      <td>0</td>\n",
       "      <td>0</td>\n",
       "    </tr>\n",
       "    <tr>\n",
       "      <th>1</th>\n",
       "      <td>2</td>\n",
       "      <td>25</td>\n",
       "      <td>0.0</td>\n",
       "      <td>0</td>\n",
       "      <td>1</td>\n",
       "      <td>0</td>\n",
       "      <td>0</td>\n",
       "      <td>0</td>\n",
       "      <td>0</td>\n",
       "      <td>1</td>\n",
       "      <td>0</td>\n",
       "      <td>0</td>\n",
       "    </tr>\n",
       "    <tr>\n",
       "      <th>2</th>\n",
       "      <td>2</td>\n",
       "      <td>0</td>\n",
       "      <td>0.0</td>\n",
       "      <td>0</td>\n",
       "      <td>0</td>\n",
       "      <td>1</td>\n",
       "      <td>0</td>\n",
       "      <td>0</td>\n",
       "      <td>0</td>\n",
       "      <td>0</td>\n",
       "      <td>1</td>\n",
       "      <td>0</td>\n",
       "    </tr>\n",
       "    <tr>\n",
       "      <th>3</th>\n",
       "      <td>2</td>\n",
       "      <td>76</td>\n",
       "      <td>0.0</td>\n",
       "      <td>1</td>\n",
       "      <td>0</td>\n",
       "      <td>0</td>\n",
       "      <td>0</td>\n",
       "      <td>0</td>\n",
       "      <td>0</td>\n",
       "      <td>0</td>\n",
       "      <td>0</td>\n",
       "      <td>1</td>\n",
       "    </tr>\n",
       "    <tr>\n",
       "      <th>4</th>\n",
       "      <td>2</td>\n",
       "      <td>31</td>\n",
       "      <td>0.0</td>\n",
       "      <td>0</td>\n",
       "      <td>0</td>\n",
       "      <td>1</td>\n",
       "      <td>0</td>\n",
       "      <td>0</td>\n",
       "      <td>0</td>\n",
       "      <td>0</td>\n",
       "      <td>1</td>\n",
       "      <td>0</td>\n",
       "    </tr>\n",
       "  </tbody>\n",
       "</table>\n",
       "</div>"
      ],
      "text/plain": [
       "   part_1_2  vict_age  partBin  vict_sex_F  vict_sex_M  vict_sex_X  \\\n",
       "0         2        36      0.0           1           0           0   \n",
       "1         2        25      0.0           0           1           0   \n",
       "2         2         0      0.0           0           0           1   \n",
       "3         2        76      0.0           1           0           0   \n",
       "4         2        31      0.0           0           0           1   \n",
       "\n",
       "   vict_sex_others  vict_descent_A  vict_descent_B  vict_descent_H  \\\n",
       "0                0               0               1               0   \n",
       "1                0               0               0               1   \n",
       "2                0               0               0               0   \n",
       "3                0               0               0               0   \n",
       "4                0               0               0               0   \n",
       "\n",
       "   vict_descent_O  vict_descent_W  \n",
       "0               0               0  \n",
       "1               0               0  \n",
       "2               1               0  \n",
       "3               0               1  \n",
       "4               1               0  "
      ]
     },
     "execution_count": 77,
     "metadata": {},
     "output_type": "execute_result"
    }
   ],
   "source": [
    "# generate dummy variables for values in vict_sex,vict_descent\n",
    "dfml1 = pd.get_dummies(dfml,columns=['vict_sex','vict_descent'])\n",
    "dfml1.head()"
   ]
  },
  {
   "cell_type": "code",
   "execution_count": 78,
   "id": "d69b7d68",
   "metadata": {},
   "outputs": [],
   "source": [
    "# drop both 'partBin' and 'part_1_2' for X\n",
    "X = dfml1.drop(['partBin','part_1_2'],axis=1)\n",
    "# affairsBin is Y\n",
    "Y = dfml1.partBin"
   ]
  },
  {
   "cell_type": "code",
   "execution_count": 79,
   "id": "2aca1f12",
   "metadata": {},
   "outputs": [],
   "source": [
    "from sklearn.model_selection import train_test_split"
   ]
  },
  {
   "cell_type": "code",
   "execution_count": 80,
   "id": "4988e5cd",
   "metadata": {},
   "outputs": [],
   "source": [
    "# Split the data into 70% training set and 30% testing set\n",
    "# Save X_train, X_test, Y_train, Y_test for future use\n",
    "X_train, X_test, Y_train, Y_test = train_test_split(X,Y,test_size=0.3,random_state = 0)"
   ]
  },
  {
   "cell_type": "code",
   "execution_count": 81,
   "id": "84d8b1ca",
   "metadata": {},
   "outputs": [
    {
     "data": {
      "text/plain": [
       "True"
      ]
     },
     "execution_count": 81,
     "metadata": {},
     "output_type": "execute_result"
    }
   ],
   "source": [
    "(len(X_train) + len(X_test)) == len(X)"
   ]
  },
  {
   "cell_type": "code",
   "execution_count": 82,
   "id": "b0e648ff",
   "metadata": {},
   "outputs": [],
   "source": [
    "from sklearn.ensemble import RandomForestClassifier"
   ]
  },
  {
   "cell_type": "code",
   "execution_count": 83,
   "id": "810141af",
   "metadata": {},
   "outputs": [
    {
     "data": {
      "text/html": [
       "<style>#sk-container-id-1 {color: black;}#sk-container-id-1 pre{padding: 0;}#sk-container-id-1 div.sk-toggleable {background-color: white;}#sk-container-id-1 label.sk-toggleable__label {cursor: pointer;display: block;width: 100%;margin-bottom: 0;padding: 0.3em;box-sizing: border-box;text-align: center;}#sk-container-id-1 label.sk-toggleable__label-arrow:before {content: \"▸\";float: left;margin-right: 0.25em;color: #696969;}#sk-container-id-1 label.sk-toggleable__label-arrow:hover:before {color: black;}#sk-container-id-1 div.sk-estimator:hover label.sk-toggleable__label-arrow:before {color: black;}#sk-container-id-1 div.sk-toggleable__content {max-height: 0;max-width: 0;overflow: hidden;text-align: left;background-color: #f0f8ff;}#sk-container-id-1 div.sk-toggleable__content pre {margin: 0.2em;color: black;border-radius: 0.25em;background-color: #f0f8ff;}#sk-container-id-1 input.sk-toggleable__control:checked~div.sk-toggleable__content {max-height: 200px;max-width: 100%;overflow: auto;}#sk-container-id-1 input.sk-toggleable__control:checked~label.sk-toggleable__label-arrow:before {content: \"▾\";}#sk-container-id-1 div.sk-estimator input.sk-toggleable__control:checked~label.sk-toggleable__label {background-color: #d4ebff;}#sk-container-id-1 div.sk-label input.sk-toggleable__control:checked~label.sk-toggleable__label {background-color: #d4ebff;}#sk-container-id-1 input.sk-hidden--visually {border: 0;clip: rect(1px 1px 1px 1px);clip: rect(1px, 1px, 1px, 1px);height: 1px;margin: -1px;overflow: hidden;padding: 0;position: absolute;width: 1px;}#sk-container-id-1 div.sk-estimator {font-family: monospace;background-color: #f0f8ff;border: 1px dotted black;border-radius: 0.25em;box-sizing: border-box;margin-bottom: 0.5em;}#sk-container-id-1 div.sk-estimator:hover {background-color: #d4ebff;}#sk-container-id-1 div.sk-parallel-item::after {content: \"\";width: 100%;border-bottom: 1px solid gray;flex-grow: 1;}#sk-container-id-1 div.sk-label:hover label.sk-toggleable__label {background-color: #d4ebff;}#sk-container-id-1 div.sk-serial::before {content: \"\";position: absolute;border-left: 1px solid gray;box-sizing: border-box;top: 0;bottom: 0;left: 50%;z-index: 0;}#sk-container-id-1 div.sk-serial {display: flex;flex-direction: column;align-items: center;background-color: white;padding-right: 0.2em;padding-left: 0.2em;position: relative;}#sk-container-id-1 div.sk-item {position: relative;z-index: 1;}#sk-container-id-1 div.sk-parallel {display: flex;align-items: stretch;justify-content: center;background-color: white;position: relative;}#sk-container-id-1 div.sk-item::before, #sk-container-id-1 div.sk-parallel-item::before {content: \"\";position: absolute;border-left: 1px solid gray;box-sizing: border-box;top: 0;bottom: 0;left: 50%;z-index: -1;}#sk-container-id-1 div.sk-parallel-item {display: flex;flex-direction: column;z-index: 1;position: relative;background-color: white;}#sk-container-id-1 div.sk-parallel-item:first-child::after {align-self: flex-end;width: 50%;}#sk-container-id-1 div.sk-parallel-item:last-child::after {align-self: flex-start;width: 50%;}#sk-container-id-1 div.sk-parallel-item:only-child::after {width: 0;}#sk-container-id-1 div.sk-dashed-wrapped {border: 1px dashed gray;margin: 0 0.4em 0.5em 0.4em;box-sizing: border-box;padding-bottom: 0.4em;background-color: white;}#sk-container-id-1 div.sk-label label {font-family: monospace;font-weight: bold;display: inline-block;line-height: 1.2em;}#sk-container-id-1 div.sk-label-container {text-align: center;}#sk-container-id-1 div.sk-container {/* jupyter's `normalize.less` sets `[hidden] { display: none; }` but bootstrap.min.css set `[hidden] { display: none !important; }` so we also need the `!important` here to be able to override the default hidden behavior on the sphinx rendered scikit-learn.org. See: https://github.com/scikit-learn/scikit-learn/issues/21755 */display: inline-block !important;position: relative;}#sk-container-id-1 div.sk-text-repr-fallback {display: none;}</style><div id=\"sk-container-id-1\" class=\"sk-top-container\"><div class=\"sk-text-repr-fallback\"><pre>RandomForestClassifier(random_state=0)</pre><b>In a Jupyter environment, please rerun this cell to show the HTML representation or trust the notebook. <br />On GitHub, the HTML representation is unable to render, please try loading this page with nbviewer.org.</b></div><div class=\"sk-container\" hidden><div class=\"sk-item\"><div class=\"sk-estimator sk-toggleable\"><input class=\"sk-toggleable__control sk-hidden--visually\" id=\"sk-estimator-id-1\" type=\"checkbox\" checked><label for=\"sk-estimator-id-1\" class=\"sk-toggleable__label sk-toggleable__label-arrow\">RandomForestClassifier</label><div class=\"sk-toggleable__content\"><pre>RandomForestClassifier(random_state=0)</pre></div></div></div></div></div>"
      ],
      "text/plain": [
       "RandomForestClassifier(random_state=0)"
      ]
     },
     "execution_count": 83,
     "metadata": {},
     "output_type": "execute_result"
    }
   ],
   "source": [
    "cl = RandomForestClassifier(random_state = 0)\n",
    "cl.fit(X_train,Y_train)"
   ]
  },
  {
   "cell_type": "code",
   "execution_count": 84,
   "id": "383ea1f3",
   "metadata": {},
   "outputs": [
    {
     "data": {
      "text/plain": [
       "array([0., 1., 1., ..., 1., 1., 1.])"
      ]
     },
     "execution_count": 84,
     "metadata": {},
     "output_type": "execute_result"
    }
   ],
   "source": [
    "# predict on the testing set (X_test)\n",
    "cl.predict(X_test)"
   ]
  },
  {
   "cell_type": "code",
   "execution_count": 85,
   "id": "f79f0aad",
   "metadata": {},
   "outputs": [
    {
     "data": {
      "text/plain": [
       "0.647425081200335"
      ]
     },
     "execution_count": 85,
     "metadata": {},
     "output_type": "execute_result"
    }
   ],
   "source": [
    "# Accuracy\n",
    "(cl.predict(X_test) == Y_test).mean()"
   ]
  },
  {
   "cell_type": "code",
   "execution_count": 86,
   "id": "fd2d6f9a",
   "metadata": {},
   "outputs": [],
   "source": [
    "y_pred = cl.predict(X_test)\n",
    "#y_pred"
   ]
  },
  {
   "cell_type": "code",
   "execution_count": 87,
   "id": "7b2dd868",
   "metadata": {},
   "outputs": [
    {
     "data": {
      "text/plain": [
       "array([0.41505409, 0.54103708, 0.98368491, ..., 0.59964004, 0.51099378,\n",
       "       0.58163687])"
      ]
     },
     "execution_count": 87,
     "metadata": {},
     "output_type": "execute_result"
    }
   ],
   "source": [
    "# Get prediction outputs with probabilities of 1 only\n",
    "y_pred_proba = cl.predict_proba(X_test)[:,1]\n",
    "y_pred_proba"
   ]
  },
  {
   "cell_type": "markdown",
   "id": "0e90c3dc",
   "metadata": {},
   "source": [
    "#### Prediction results as above, now getting the performance evaluated"
   ]
  },
  {
   "cell_type": "code",
   "execution_count": 88,
   "id": "e6390c60",
   "metadata": {},
   "outputs": [],
   "source": [
    "from sklearn.metrics import confusion_matrix\n",
    "import sklearn.metrics as met"
   ]
  },
  {
   "cell_type": "code",
   "execution_count": 89,
   "id": "dde99b36",
   "metadata": {},
   "outputs": [
    {
     "data": {
      "text/plain": [
       "array([[ 41932,  59407],\n",
       "       [ 26891, 116535]])"
      ]
     },
     "execution_count": 89,
     "metadata": {},
     "output_type": "execute_result"
    }
   ],
   "source": [
    "# Get Confusion matrix using confusion_matrix\n",
    "confusion_matrix(Y_test,y_pred)"
   ]
  },
  {
   "cell_type": "code",
   "execution_count": 90,
   "id": "3a024536",
   "metadata": {},
   "outputs": [
    {
     "data": {
      "text/plain": [
       "0.8125095868252618"
      ]
     },
     "execution_count": 90,
     "metadata": {},
     "output_type": "execute_result"
    }
   ],
   "source": [
    "# Get Recall using recall_score\n",
    "met.recall_score(Y_test,y_pred)"
   ]
  },
  {
   "cell_type": "code",
   "execution_count": 91,
   "id": "2d1a19f1",
   "metadata": {},
   "outputs": [
    {
     "data": {
      "text/plain": [
       "0.6971145336996889"
      ]
     },
     "execution_count": 91,
     "metadata": {},
     "output_type": "execute_result"
    }
   ],
   "source": [
    "#Get AUC score using roc_auc_score\n",
    "met.roc_auc_score(Y_test,y_pred_proba)"
   ]
  },
  {
   "cell_type": "markdown",
   "id": "455a32be",
   "metadata": {},
   "source": [
    "#### Recall score = ~81%; The AUC score = ~70%"
   ]
  },
  {
   "cell_type": "markdown",
   "id": "876d65d6",
   "metadata": {},
   "source": [
    "## Step 4: Conclusion"
   ]
  },
  {
   "cell_type": "markdown",
   "id": "cf4462f0",
   "metadata": {},
   "source": [
    "### Finding 1 - Crime types & household income\n",
    "\n",
    "Some of the crime types are positively correlated with household income. The correlation between burglary and household income is 57.7%. Take the Pacific as an example of an area with higher household income, burglaries mostly occurred between 12.00-13.00 (24%), and only 47% of burglaries were reported on the same day during the time when they got home from work.\n",
    "\n",
    "#### Explaination and Suggestions:\n",
    "The above findings constitute evidence that can help us better persuade policymakers to improve police presence in the Pacific district.\n",
    "Specifically, we can suppress the amount of home break-ins by increasing police presence in residential areas during working hours (9AM to 5PM).\n",
    "\n"
   ]
  },
  {
   "cell_type": "markdown",
   "id": "a4a79ef1",
   "metadata": {},
   "source": [
    "### Finding 2 - Crime in motel\n",
    "\n",
    "When considering the location and household income, it’s interesting that the correlation between motel and household income is only -17%. It seems no matter where the motel is, it is dangerous by itself.\n",
    "\n",
    "#### Explaination and Suggestions:\n",
    "Interestingly and sadly, some physical abuse happens at motels. Looking up this data, we find that the place is called Mustang Motel, and it is a rentable by-hour love motel. Most of the incidents happen in the dead of night, between 12:00 AM and 2:00 AM, and in the morning, between 6:00 AM and 10:00 AM. In addition to the physical abuse by partners, there are also incidents of robbery, burglary, and human trafficking! Figueroa St. pops up as a clear winner. Upon researching why, we find that The Figueroa Corridor, also known as 'the track,' is the most notorious human trafficking & sex trafficking corridor in the United States.\n",
    "\n",
    "Therefore, additional law enforcement resources should be deployed, including patrols and surveillance, during the identified high-risk hours between 12:00 AM and 2:00 AM, as well as in the morning between 6:00 AM and 10:00 AM. The local agencies should also engage with the management of Mustang Motel to discuss security measures, employee training, and cooperation in reporting suspicious activities. Motels can play a crucial role in deterring criminal behavior through enhanced security protocols."
   ]
  },
  {
   "cell_type": "markdown",
   "id": "e939c1be",
   "metadata": {},
   "source": [
    "### Finding 3 - Distribution of Victims\n",
    "\n",
    "Victims who are identified with gender X at younger age 0-18 and females aged 19-35 are more vurnerable and targeted to be involved in crime, while the Asian ethnic category consistently represents a minority among victims.  A basic model to predict how likely victims would be involved in severe/Part 1 crimes based on their age, sex and descent was created and reached recall score 81%, AUC score 70%。\n",
    "\n",
    "#### Explaination and Suggestions: \n",
    "\n",
    "1. The percentage of victims classified under gender 'X' (again meaning a gender that is not exclusively male nor female) is highest in the youngest age group (0-18) and diminishes significantly as age increases.\n",
    "- Suggesttion to the local authority: Collaborate with advocacy groups, community organizations, and individuals representing gender-diverse communities to understand their specific needs and challenges. Engaging these groups can inform policymakers about effective strategies and policies that cater to diverse gender identities.\n",
    "  \n",
    "2. A concerning trend that might need targeted interventions to address the vulnerability or targeting of females aged 19-35. \n",
    "- Policymakers could possibly launch targeted awareness campaigns to educate women in this age group about potential risks and safety measures. Empower them with information on how to recognize and respond to situations that might pose a threat.\n",
    "\n",
    "3. Asians have lowest reported cases in burglary incidents. Asians, who are around 12% of the local population (per the US Census Bureau), have the lowest burglary rates. Yet Black people, at 8%, have higher burglary rates compared to Asians. Moreover, across all age groups, the Asian ethnic category consistently represents a minority among victims, with percentages ranging from 0.24% to 3.84%.\n",
    "- Suggestion to the local authority: Investigate the underlying causes contributing to higher burglary rates among certain racial groups such as the black population. This could involve understanding socioeconomic factors, community dynamics, and access to resources or security measures in different neighborhoods. \n",
    "- In addition, although Asians having the lowest reported crime rates, the reasons behind it could be varied. Therefore, for exmaple, it's crucial not to overlook the significance of providing language assistance at police stations. This could help reduce hesitancy in reporting among non-English speakers of minority communities.\n",
    "   \n",
    "4.  A basic model to predict how likely victims would be involved in severe/Part 1 crimes based on their age, sex and descent was created. Based on the recall score, the model is likely to identify 81% of victims who will be involved in severe/Part 1 crimes correctly. The AUC score is closed to 70% indicating an acceptable performing model that can distinguish between the classes across different thresholds. This is a good preliminary training model serveing as a foundation to build a more advanced and expansive model.\n"
   ]
  }
 ],
 "metadata": {
  "kernelspec": {
   "display_name": "Python 3 (ipykernel)",
   "language": "python",
   "name": "python3"
  },
  "language_info": {
   "codemirror_mode": {
    "name": "ipython",
    "version": 3
   },
   "file_extension": ".py",
   "mimetype": "text/x-python",
   "name": "python",
   "nbconvert_exporter": "python",
   "pygments_lexer": "ipython3",
   "version": "3.11.4"
  }
 },
 "nbformat": 4,
 "nbformat_minor": 5
}
